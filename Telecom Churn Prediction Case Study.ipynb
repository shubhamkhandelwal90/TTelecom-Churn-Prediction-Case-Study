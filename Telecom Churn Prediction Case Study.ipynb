{
  "nbformat": 4,
  "nbformat_minor": 0,
  "metadata": {
    "kernelspec": {
      "language": "python",
      "display_name": "Python 3",
      "name": "python3"
    },
    "language_info": {
      "name": "python",
      "version": "3.7.10",
      "mimetype": "text/x-python",
      "codemirror_mode": {
        "name": "ipython",
        "version": 3
      },
      "pygments_lexer": "ipython3",
      "nbconvert_exporter": "python",
      "file_extension": ".py"
    },
    "colab": {
      "name": "Telecom Churn Prediction Assignment.ipynb",
      "provenance": [],
      "collapsed_sections": []
    }
  },
  "cells": [
    {
      "cell_type": "code",
      "metadata": {
        "id": "El4RjehnPSoD",
        "colab": {
          "base_uri": "https://localhost:8080/"
        },
        "outputId": "eda4c72b-7d89-48c8-b2f8-1236ffc9e91f"
      },
      "source": [
        "from google.colab import drive\n",
        "drive.mount('/content/drive')"
      ],
      "execution_count": null,
      "outputs": [
        {
          "output_type": "stream",
          "name": "stdout",
          "text": [
            "Drive already mounted at /content/drive; to attempt to forcibly remount, call drive.mount(\"/content/drive\", force_remount=True).\n"
          ]
        }
      ]
    },
    {
      "cell_type": "markdown",
      "metadata": {
        "id": "My6JAHhyLDKi"
      },
      "source": [
        "### 1. Importing Liabriaries and Supress Warnings"
      ]
    },
    {
      "cell_type": "markdown",
      "metadata": {
        "id": "BVXxjQjvLKnj"
      },
      "source": [
        "#### 1.1 Importing Data Structures"
      ]
    },
    {
      "cell_type": "code",
      "metadata": {
        "execution": {
          "iopub.status.busy": "2021-09-21T18:07:55.522498Z",
          "iopub.execute_input": "2021-09-21T18:07:55.523033Z",
          "iopub.status.idle": "2021-09-21T18:07:55.535012Z",
          "shell.execute_reply.started": "2021-09-21T18:07:55.522984Z",
          "shell.execute_reply": "2021-09-21T18:07:55.533999Z"
        },
        "trusted": true,
        "id": "zsxBCeGcPP_m"
      },
      "source": [
        "import pandas as pd\n",
        "import numpy as np\n",
        "import re\n",
        "import os"
      ],
      "execution_count": 1,
      "outputs": []
    },
    {
      "cell_type": "markdown",
      "metadata": {
        "id": "L-t0vKnTLVpx"
      },
      "source": [
        "#### 1.2 Importing Graphs"
      ]
    },
    {
      "cell_type": "code",
      "metadata": {
        "id": "aapc56xdyR_o"
      },
      "source": [
        "import seaborn as sns\n",
        "import matplotlib.pyplot as plt"
      ],
      "execution_count": 2,
      "outputs": []
    },
    {
      "cell_type": "markdown",
      "metadata": {
        "id": "Ozf5VgYwL4gd"
      },
      "source": [
        "#### 1.3 Importing Libraries from Sklearn\n",
        "\n"
      ]
    },
    {
      "cell_type": "code",
      "metadata": {
        "id": "6DK880ueXPdg"
      },
      "source": [
        "from sklearn.impute import SimpleImputer\n",
        "from sklearn.preprocessing import StandardScaler\n",
        "from sklearn.model_selection import train_test_split\n",
        "from sklearn.ensemble import RandomForestClassifier\n",
        "from sklearn.decomposition import PCA\n",
        "from sklearn.manifold import TSNE\n",
        "from sklearn.linear_model import LogisticRegression\n",
        "from sklearn.pipeline import Pipeline\n",
        "from sklearn.model_selection import GridSearchCV\n",
        "from sklearn.decomposition import IncrementalPCA\n",
        "from sklearn import metrics\n",
        "from sklearn.metrics import confusion_matrix, roc_curve, roc_auc_score, precision_score, recall_score, precision_recall_curve, f1_score, accuracy_score"
      ],
      "execution_count": 5,
      "outputs": []
    },
    {
      "cell_type": "markdown",
      "metadata": {
        "id": "fvH-KQ2IMH2B"
      },
      "source": [
        "#### 1.4 Importing Warnings"
      ]
    },
    {
      "cell_type": "code",
      "metadata": {
        "id": "yrw6IRFsMIqI"
      },
      "source": [
        "import warnings\n",
        "warnings.filterwarnings('ignore')"
      ],
      "execution_count": 8,
      "outputs": []
    },
    {
      "cell_type": "markdown",
      "metadata": {
        "id": "Bgsl1g_CLjFt"
      },
      "source": [
        "#### 1.5 Increasing Row and Column Size"
      ]
    },
    {
      "cell_type": "code",
      "metadata": {
        "id": "ZYJR3HfsXT7w",
        "colab": {
          "base_uri": "https://localhost:8080/",
          "height": 186
        },
        "outputId": "8bf918ac-9a58-47b6-a38e-1c2105f51a19"
      },
      "source": [
        "pd.set_option('display.max_rows', 3000)\n",
        "pd.set_option('display.max_columns', 3000)"
      ],
      "execution_count": 9,
      "outputs": [
        {
          "output_type": "error",
          "ename": "NameError",
          "evalue": "ignored",
          "traceback": [
            "\u001b[0;31m---------------------------------------------------------------------------\u001b[0m",
            "\u001b[0;31mNameError\u001b[0m                                 Traceback (most recent call last)",
            "\u001b[0;32m<ipython-input-9-8ac71d11a8e6>\u001b[0m in \u001b[0;36m<module>\u001b[0;34m()\u001b[0m\n\u001b[0;32m----> 1\u001b[0;31m \u001b[0mpd\u001b[0m\u001b[0;34m.\u001b[0m\u001b[0mset_option\u001b[0m\u001b[0;34m(\u001b[0m\u001b[0;34m'display.max_rows'\u001b[0m\u001b[0;34m,\u001b[0m \u001b[0;36m3000\u001b[0m\u001b[0;34m)\u001b[0m\u001b[0;34m\u001b[0m\u001b[0;34m\u001b[0m\u001b[0m\n\u001b[0m\u001b[1;32m      2\u001b[0m \u001b[0mpd\u001b[0m\u001b[0;34m.\u001b[0m\u001b[0mset_option\u001b[0m\u001b[0;34m(\u001b[0m\u001b[0;34m'display.max_columns'\u001b[0m\u001b[0;34m,\u001b[0m \u001b[0;36m3000\u001b[0m\u001b[0;34m)\u001b[0m\u001b[0;34m\u001b[0m\u001b[0;34m\u001b[0m\u001b[0m\n",
            "\u001b[0;31mNameError\u001b[0m: name 'pd' is not defined"
          ]
        }
      ]
    },
    {
      "cell_type": "markdown",
      "metadata": {
        "id": "qxP2tc7bMvUD"
      },
      "source": [
        "### 2. Loading Data"
      ]
    },
    {
      "cell_type": "markdown",
      "metadata": {
        "id": "Fepm4z60MzhV"
      },
      "source": [
        "#### 2.1 Importing CSV Data from file"
      ]
    },
    {
      "cell_type": "code",
      "metadata": {
        "execution": {
          "iopub.status.busy": "2021-09-21T18:07:55.815851Z",
          "iopub.execute_input": "2021-09-21T18:07:55.816126Z",
          "iopub.status.idle": "2021-09-21T18:07:57.413800Z",
          "shell.execute_reply.started": "2021-09-21T18:07:55.816099Z",
          "shell.execute_reply": "2021-09-21T18:07:57.412832Z"
        },
        "trusted": true,
        "id": "4mjKsASDPP_r"
      },
      "source": [
        "telecom_churn = pd.read_csv('/content/drive/MyDrive/Upgrad/Telecom Churn Prediction/train.csv')\n",
        "telecom_churn_test=pd.read_csv(\"/content/drive/MyDrive/Upgrad/Telecom Churn Prediction/test.csv\")\n",
        "data_dict=pd.read_csv(\"/content/drive/MyDrive/Upgrad/Telecom Churn Prediction/data_dictionary.csv\")\n"
      ],
      "execution_count": null,
      "outputs": []
    },
    {
      "cell_type": "markdown",
      "metadata": {
        "id": "M7sjHj-1M4ON"
      },
      "source": [
        "### 3. Understanding Data "
      ]
    },
    {
      "cell_type": "code",
      "metadata": {
        "id": "rel72ElOXeTQ"
      },
      "source": [
        "print(telecom_churn.shape)\n",
        "print(telecom_churn_test.shape)"
      ],
      "execution_count": null,
      "outputs": []
    },
    {
      "cell_type": "code",
      "metadata": {
        "id": "hMandGnzXlzl"
      },
      "source": [
        "data_dict"
      ],
      "execution_count": null,
      "outputs": []
    },
    {
      "cell_type": "code",
      "metadata": {
        "execution": {
          "iopub.status.busy": "2021-09-21T18:07:57.415470Z",
          "iopub.execute_input": "2021-09-21T18:07:57.415743Z",
          "iopub.status.idle": "2021-09-21T18:07:57.445398Z",
          "shell.execute_reply.started": "2021-09-21T18:07:57.415714Z",
          "shell.execute_reply": "2021-09-21T18:07:57.444719Z"
        },
        "trusted": true,
        "id": "uhdq8il4PP_t"
      },
      "source": [
        "telecom_churn.head()"
      ],
      "execution_count": null,
      "outputs": []
    },
    {
      "cell_type": "code",
      "metadata": {
        "execution": {
          "iopub.status.busy": "2021-09-21T18:07:57.446638Z",
          "iopub.execute_input": "2021-09-21T18:07:57.446927Z",
          "iopub.status.idle": "2021-09-21T18:07:57.458326Z",
          "shell.execute_reply.started": "2021-09-21T18:07:57.446897Z",
          "shell.execute_reply": "2021-09-21T18:07:57.457451Z"
        },
        "trusted": true,
        "id": "J585gtLpPP_v"
      },
      "source": [
        "telecom_churn.shape"
      ],
      "execution_count": null,
      "outputs": []
    },
    {
      "cell_type": "code",
      "metadata": {
        "id": "WzDwRAMrXzcn"
      },
      "source": [
        "X_train=telecom_churn.copy()\n",
        "X_test=telecom_churn_test.copy()"
      ],
      "execution_count": null,
      "outputs": []
    },
    {
      "cell_type": "code",
      "metadata": {
        "execution": {
          "iopub.status.busy": "2021-09-21T18:07:57.460464Z",
          "iopub.execute_input": "2021-09-21T18:07:57.460711Z",
          "iopub.status.idle": "2021-09-21T18:07:57.472407Z",
          "shell.execute_reply.started": "2021-09-21T18:07:57.460681Z",
          "shell.execute_reply": "2021-09-21T18:07:57.471441Z"
        },
        "trusted": true,
        "id": "n_svlWXPPP_x"
      },
      "source": [
        "telecom_churn.dtypes"
      ],
      "execution_count": null,
      "outputs": []
    },
    {
      "cell_type": "markdown",
      "metadata": {
        "id": "nY51vSVXM8an"
      },
      "source": [
        "### 4. Data Prepocessing"
      ]
    },
    {
      "cell_type": "markdown",
      "metadata": {
        "id": "y2Fa1KuxM8kQ"
      },
      "source": [
        "#### 4.1  Identification Potentially Useful Attributes"
      ]
    },
    {
      "cell_type": "code",
      "metadata": {
        "execution": {
          "iopub.status.busy": "2021-09-21T18:07:57.473929Z",
          "iopub.execute_input": "2021-09-21T18:07:57.474168Z",
          "iopub.status.idle": "2021-09-21T18:07:57.495256Z",
          "shell.execute_reply.started": "2021-09-21T18:07:57.474139Z",
          "shell.execute_reply": "2021-09-21T18:07:57.494398Z"
        },
        "trusted": true,
        "id": "tmhP8JVcPP_x"
      },
      "source": [
        "ids = ['id','circle_id']\n",
        "total_amounts = [i for i in list(telecom_churn.columns) if re.search('total.+amt',i)]\n",
        "total_outgoing_minutes = [i for i in list(telecom_churn.columns) if re.search('total.+og.+mou',i)]\n",
        "offnetwork_minutes = [i for i in list(telecom_churn.columns) if re.search('offnet',i)]\n",
        "average_revenue_3g = [i for i in list(telecom_churn.columns) if re.search('arpu.+3g',i)]\n",
        "average_revenue_2g = [i for i in list(telecom_churn.columns) if re.search('arpu.+2g',i)]\n",
        "volume_3g = [i for i in list(telecom_churn.columns) if re.search('vol.+3g',i)]\n",
        "volume_2g = [i for i in list(telecom_churn.columns) if re.search('vol.+2g',i)]\n",
        "age_on_network = [i for i in list(telecom_churn.columns) if re.search('aon',i)]\n",
        "\n",
        "#Storing them in a single flat list\n",
        "variables = [*ids, \n",
        "             *total_amounts, \n",
        "             *total_outgoing_minutes, \n",
        "             *offnetwork_minutes, \n",
        "             *average_revenue_3g, \n",
        "             *average_revenue_2g,\n",
        "             *volume_3g,\n",
        "             *volume_2g,\n",
        "             *age_on_network, \n",
        "             'churn_probability']\n",
        "\n",
        "telecom_churn = telecom_churn[variables].set_index('id')"
      ],
      "execution_count": null,
      "outputs": []
    },
    {
      "cell_type": "code",
      "metadata": {
        "execution": {
          "iopub.status.busy": "2021-09-21T18:07:57.496756Z",
          "iopub.execute_input": "2021-09-21T18:07:57.496981Z",
          "iopub.status.idle": "2021-09-21T18:07:57.526566Z",
          "shell.execute_reply.started": "2021-09-21T18:07:57.496956Z",
          "shell.execute_reply": "2021-09-21T18:07:57.525687Z"
        },
        "trusted": true,
        "id": "hMx92yHRPP_z"
      },
      "source": [
        "telecom_churn.head()"
      ],
      "execution_count": null,
      "outputs": []
    },
    {
      "cell_type": "code",
      "metadata": {
        "execution": {
          "iopub.status.busy": "2021-09-21T18:07:57.602571Z",
          "iopub.execute_input": "2021-09-21T18:07:57.602901Z",
          "iopub.status.idle": "2021-09-21T18:07:57.619959Z",
          "shell.execute_reply.started": "2021-09-21T18:07:57.602868Z",
          "shell.execute_reply": "2021-09-21T18:07:57.619250Z"
        },
        "trusted": true,
        "id": "Az3ZfMpgPP_0"
      },
      "source": [
        "telecom_churn.info(verbose=1)"
      ],
      "execution_count": null,
      "outputs": []
    },
    {
      "cell_type": "code",
      "metadata": {
        "execution": {
          "iopub.status.busy": "2021-09-21T18:07:57.828629Z",
          "iopub.execute_input": "2021-09-21T18:07:57.828896Z",
          "iopub.status.idle": "2021-09-21T18:07:57.948354Z",
          "shell.execute_reply.started": "2021-09-21T18:07:57.828868Z",
          "shell.execute_reply": "2021-09-21T18:07:57.947632Z"
        },
        "trusted": true,
        "id": "PRh_lwDVPP_1"
      },
      "source": [
        "telecom_churn.describe(include=\"all\")"
      ],
      "execution_count": null,
      "outputs": []
    },
    {
      "cell_type": "code",
      "metadata": {
        "id": "0ub440Wxiy4O"
      },
      "source": [
        "# Checking the Churn Rate\n",
        "churn = (sum(telecom_churn['churn_probability'])/len(telecom_churn['churn_probability'].index))*100\n",
        "churn"
      ],
      "execution_count": null,
      "outputs": []
    },
    {
      "cell_type": "code",
      "metadata": {
        "id": "42LOpYNhYZef"
      },
      "source": [
        "telecom_churn['circle_id'].value_counts()"
      ],
      "execution_count": null,
      "outputs": []
    },
    {
      "cell_type": "code",
      "metadata": {
        "id": "NV4CHG17Yf9L"
      },
      "source": [
        "telecom_churn = telecom_churn.drop('circle_id',axis=1)"
      ],
      "execution_count": null,
      "outputs": []
    },
    {
      "cell_type": "markdown",
      "metadata": {
        "id": "UdCmoTRTPP_3"
      },
      "source": [
        "#### 4.2 Create X, y and then Train test split"
      ]
    },
    {
      "cell_type": "code",
      "metadata": {
        "execution": {
          "iopub.status.busy": "2021-09-21T18:07:58.376557Z",
          "iopub.execute_input": "2021-09-21T18:07:58.377306Z",
          "iopub.status.idle": "2021-09-21T18:07:58.392894Z",
          "shell.execute_reply.started": "2021-09-21T18:07:58.377266Z",
          "shell.execute_reply": "2021-09-21T18:07:58.391933Z"
        },
        "trusted": true,
        "id": "tgrYP8eCPP_5"
      },
      "source": [
        "X=telecom_churn.drop('churn_probability',axis=1)\n",
        "y=telecom_churn['churn_probability']\n",
        "\n",
        "X_train,X_test,y_train,y_test=train_test_split(X,y,test_size=0.2)"
      ],
      "execution_count": null,
      "outputs": []
    },
    {
      "cell_type": "code",
      "metadata": {
        "execution": {
          "iopub.status.busy": "2021-09-21T18:07:58.598619Z",
          "iopub.execute_input": "2021-09-21T18:07:58.601059Z",
          "iopub.status.idle": "2021-09-21T18:07:58.623657Z",
          "shell.execute_reply.started": "2021-09-21T18:07:58.601020Z",
          "shell.execute_reply": "2021-09-21T18:07:58.623021Z"
        },
        "trusted": true,
        "id": "XDWEfNfCPP_7"
      },
      "source": [
        "print(X_train.shape)\n",
        "print(X_test.shape)\n",
        "print(y_train.shape)\n",
        "print(y_test.shape)"
      ],
      "execution_count": null,
      "outputs": []
    },
    {
      "cell_type": "code",
      "metadata": {
        "execution": {
          "iopub.status.busy": "2021-09-21T18:07:58.809879Z",
          "iopub.execute_input": "2021-09-21T18:07:58.810387Z",
          "iopub.status.idle": "2021-09-21T18:07:58.816268Z",
          "shell.execute_reply.started": "2021-09-21T18:07:58.810353Z",
          "shell.execute_reply": "2021-09-21T18:07:58.815734Z"
        },
        "trusted": true,
        "id": "XShINf6_PP_8"
      },
      "source": [
        "y_train.head()"
      ],
      "execution_count": null,
      "outputs": []
    },
    {
      "cell_type": "code",
      "metadata": {
        "execution": {
          "iopub.status.busy": "2021-09-21T18:07:59.109506Z",
          "iopub.execute_input": "2021-09-21T18:07:59.110921Z",
          "iopub.status.idle": "2021-09-21T18:07:59.139301Z",
          "shell.execute_reply.started": "2021-09-21T18:07:59.110880Z",
          "shell.execute_reply": "2021-09-21T18:07:59.138330Z"
        },
        "trusted": true,
        "id": "-PtkwtsqPP_9"
      },
      "source": [
        "X_train.head()"
      ],
      "execution_count": null,
      "outputs": []
    },
    {
      "cell_type": "markdown",
      "metadata": {
        "id": "WdKbftvSPP_-"
      },
      "source": [
        "#### 4.3 Handling Missing data"
      ]
    },
    {
      "cell_type": "markdown",
      "metadata": {
        "id": "X29G4QkZOIGG"
      },
      "source": [
        "##### 4.3.1 Checking Missing Values"
      ]
    },
    {
      "cell_type": "code",
      "metadata": {
        "execution": {
          "iopub.status.busy": "2021-09-21T18:07:59.727842Z",
          "iopub.execute_input": "2021-09-21T18:07:59.728113Z",
          "iopub.status.idle": "2021-09-21T18:07:59.740662Z",
          "shell.execute_reply.started": "2021-09-21T18:07:59.728086Z",
          "shell.execute_reply": "2021-09-21T18:07:59.739791Z"
        },
        "trusted": true,
        "id": "BW7h3zKhPP_-"
      },
      "source": [
        "# Checking percentage of missing values before removing the missing values\n",
        "round(100*(X_train.isnull().sum()/len(X_train.index)), 2)"
      ],
      "execution_count": null,
      "outputs": []
    },
    {
      "cell_type": "markdown",
      "metadata": {
        "id": "kq0aDErbOQub"
      },
      "source": [
        "##### 4.3.2 Removing Missing Values"
      ]
    },
    {
      "cell_type": "code",
      "metadata": {
        "execution": {
          "iopub.status.busy": "2021-09-21T18:08:00.010557Z",
          "iopub.execute_input": "2021-09-21T18:08:00.010879Z",
          "iopub.status.idle": "2021-09-21T18:08:00.017913Z",
          "shell.execute_reply.started": "2021-09-21T18:08:00.010837Z",
          "shell.execute_reply": "2021-09-21T18:08:00.017295Z"
        },
        "trusted": true,
        "id": "k0oiyzgWPP__"
      },
      "source": [
        "# Removing missing values that more than 73 % from Train data\n",
        "X_train=X_train.drop(X_train.columns[X_train.apply(lambda col: col.isnull().sum()/len(X_train) > 0.73)],axis=1)"
      ],
      "execution_count": null,
      "outputs": []
    },
    {
      "cell_type": "code",
      "metadata": {
        "id": "WIIhCGcGTmrC"
      },
      "source": [
        "# Removing missing values that more than 73 % from Test data\n",
        "X_test=X_test.drop(X_test.columns[X_test.apply(lambda col: col.isnull().sum()/len(X_test) > 0.73)],axis=1)"
      ],
      "execution_count": null,
      "outputs": []
    },
    {
      "cell_type": "code",
      "metadata": {
        "id": "Gfj1KE1nZ-_m"
      },
      "source": [
        "# Checking percentage of missing values after removing the missing values\n",
        "round(100*(X_train.isnull().sum()/len(X_train.index)), 2)"
      ],
      "execution_count": null,
      "outputs": []
    },
    {
      "cell_type": "code",
      "metadata": {
        "id": "FPdTaEkNeV4y"
      },
      "source": [
        "X_train.shape"
      ],
      "execution_count": null,
      "outputs": []
    },
    {
      "cell_type": "code",
      "metadata": {
        "execution": {
          "iopub.status.busy": "2021-09-21T18:08:00.586643Z",
          "iopub.execute_input": "2021-09-21T18:08:00.586943Z",
          "iopub.status.idle": "2021-09-21T18:08:00.595066Z",
          "shell.execute_reply.started": "2021-09-21T18:08:00.586912Z",
          "shell.execute_reply": "2021-09-21T18:08:00.594413Z"
        },
        "trusted": true,
        "id": "k6APwJhSPQAA"
      },
      "source": [
        "X_test.shape"
      ],
      "execution_count": null,
      "outputs": []
    },
    {
      "cell_type": "markdown",
      "metadata": {
        "id": "_DuQu2O8OWRm"
      },
      "source": [
        "##### 4.3.3 Imputing Missing Values"
      ]
    },
    {
      "cell_type": "code",
      "metadata": {
        "execution": {
          "iopub.status.busy": "2021-09-21T18:08:01.752819Z",
          "iopub.execute_input": "2021-09-21T18:08:01.753100Z",
          "iopub.status.idle": "2021-09-21T18:08:01.832155Z",
          "shell.execute_reply.started": "2021-09-21T18:08:01.753066Z",
          "shell.execute_reply": "2021-09-21T18:08:01.831189Z"
        },
        "trusted": true,
        "id": "Wb8mrnd5PQAB"
      },
      "source": [
        "offnet_missing_values=['offnet_mou_6','offnet_mou_7','offnet_mou_8']"
      ],
      "execution_count": 30,
      "outputs": []
    },
    {
      "cell_type": "code",
      "metadata": {
        "execution": {
          "iopub.status.busy": "2021-09-21T18:08:02.449879Z",
          "iopub.execute_input": "2021-09-21T18:08:02.450147Z",
          "iopub.status.idle": "2021-09-21T18:08:02.462834Z",
          "shell.execute_reply.started": "2021-09-21T18:08:02.450119Z",
          "shell.execute_reply": "2021-09-21T18:08:02.461849Z"
        },
        "trusted": true,
        "id": "x2-GyQw8PQAC"
      },
      "source": [
        "median_imputation = SimpleImputer(missing_values=np.nan, strategy='median')"
      ],
      "execution_count": 31,
      "outputs": []
    },
    {
      "cell_type": "code",
      "metadata": {
        "id": "p4X1r9cmaicq"
      },
      "source": [
        "X_train[offnet_missing_values]=median_imputation.fit_transform(X_train[offnet_missing_values])"
      ],
      "execution_count": 32,
      "outputs": []
    },
    {
      "cell_type": "code",
      "metadata": {
        "id": "_Ew15lQtayqe"
      },
      "source": [
        "X_test[offnet_missing_values]=median_imputation.fit_transform(X_test[offnet_missing_values])"
      ],
      "execution_count": 33,
      "outputs": []
    },
    {
      "cell_type": "code",
      "metadata": {
        "execution": {
          "iopub.status.busy": "2021-09-21T18:08:02.936781Z",
          "iopub.execute_input": "2021-09-21T18:08:02.937065Z",
          "iopub.status.idle": "2021-09-21T18:08:02.961716Z",
          "shell.execute_reply.started": "2021-09-21T18:08:02.937036Z",
          "shell.execute_reply": "2021-09-21T18:08:02.960821Z"
        },
        "trusted": true,
        "id": "R2oFezBcPQAC",
        "colab": {
          "base_uri": "https://localhost:8080/"
        },
        "outputId": "8181bc7f-3603-46ec-d494-8328e12e0354"
      },
      "source": [
        "X_train.isnull().sum()"
      ],
      "execution_count": 34,
      "outputs": [
        {
          "output_type": "execute_result",
          "data": {
            "text/plain": [
              "total_rech_amt_6    0\n",
              "total_rech_amt_7    0\n",
              "total_rech_amt_8    0\n",
              "total_og_mou_6      0\n",
              "total_og_mou_7      0\n",
              "total_og_mou_8      0\n",
              "offnet_mou_6        0\n",
              "offnet_mou_7        0\n",
              "offnet_mou_8        0\n",
              "vol_3g_mb_6         0\n",
              "vol_3g_mb_7         0\n",
              "vol_3g_mb_8         0\n",
              "vol_2g_mb_6         0\n",
              "vol_2g_mb_7         0\n",
              "vol_2g_mb_8         0\n",
              "aon                 0\n",
              "dtype: int64"
            ]
          },
          "metadata": {},
          "execution_count": 34
        }
      ]
    },
    {
      "cell_type": "code",
      "metadata": {
        "colab": {
          "base_uri": "https://localhost:8080/"
        },
        "id": "tHJBU7F7cFvZ",
        "outputId": "fcadd1ac-6cea-450e-ad59-930028d2d925"
      },
      "source": [
        "X_test.isnull().sum()"
      ],
      "execution_count": 35,
      "outputs": [
        {
          "output_type": "execute_result",
          "data": {
            "text/plain": [
              "total_rech_amt_6    0\n",
              "total_rech_amt_7    0\n",
              "total_rech_amt_8    0\n",
              "total_og_mou_6      0\n",
              "total_og_mou_7      0\n",
              "total_og_mou_8      0\n",
              "offnet_mou_6        0\n",
              "offnet_mou_7        0\n",
              "offnet_mou_8        0\n",
              "vol_3g_mb_6         0\n",
              "vol_3g_mb_7         0\n",
              "vol_3g_mb_8         0\n",
              "vol_2g_mb_6         0\n",
              "vol_2g_mb_7         0\n",
              "vol_2g_mb_8         0\n",
              "aon                 0\n",
              "dtype: int64"
            ]
          },
          "metadata": {},
          "execution_count": 35
        }
      ]
    },
    {
      "cell_type": "code",
      "metadata": {
        "id": "M26jIPHGcNX_"
      },
      "source": [
        "import missingno as msno"
      ],
      "execution_count": 36,
      "outputs": []
    },
    {
      "cell_type": "code",
      "metadata": {
        "colab": {
          "base_uri": "https://localhost:8080/",
          "height": 762
        },
        "id": "2EoqnLDEcQXG",
        "outputId": "5ba1427a-bf30-4737-e597-ba2325647059"
      },
      "source": [
        "msno.bar(X_train)"
      ],
      "execution_count": 37,
      "outputs": [
        {
          "output_type": "execute_result",
          "data": {
            "text/plain": [
              "<matplotlib.axes._subplots.AxesSubplot at 0x7fce88d8f690>"
            ]
          },
          "metadata": {},
          "execution_count": 37
        },
        {
          "output_type": "display_data",
          "data": {
            "image/png": "[encoded data removed]",
            "text/plain": [
              "<Figure size 1800x720 with 3 Axes>"
            ]
          },
          "metadata": {
            "needs_background": "light"
          }
        }
      ]
    },
    {
      "cell_type": "code",
      "metadata": {
        "colab": {
          "base_uri": "https://localhost:8080/",
          "height": 316
        },
        "id": "lb7Cf6DXcV0b",
        "outputId": "440da17b-3089-4b49-957e-078a3c026416"
      },
      "source": [
        "X_train.describe()"
      ],
      "execution_count": 38,
      "outputs": [
        {
          "output_type": "execute_result",
          "data": {
            "text/html": [
              "<div>\n",
              "<style scoped>\n",
              "    .dataframe tbody tr th:only-of-type {\n",
              "        vertical-align: middle;\n",
              "    }\n",
              "\n",
              "    .dataframe tbody tr th {\n",
              "        vertical-align: top;\n",
              "    }\n",
              "\n",
              "    .dataframe thead th {\n",
              "        text-align: right;\n",
              "    }\n",
              "</style>\n",
              "<table border=\"1\" class=\"dataframe\">\n",
              "  <thead>\n",
              "    <tr style=\"text-align: right;\">\n",
              "      <th></th>\n",
              "      <th>total_rech_amt_6</th>\n",
              "      <th>total_rech_amt_7</th>\n",
              "      <th>total_rech_amt_8</th>\n",
              "      <th>total_og_mou_6</th>\n",
              "      <th>total_og_mou_7</th>\n",
              "      <th>total_og_mou_8</th>\n",
              "      <th>offnet_mou_6</th>\n",
              "      <th>offnet_mou_7</th>\n",
              "      <th>offnet_mou_8</th>\n",
              "      <th>vol_3g_mb_6</th>\n",
              "      <th>vol_3g_mb_7</th>\n",
              "      <th>vol_3g_mb_8</th>\n",
              "      <th>vol_2g_mb_6</th>\n",
              "      <th>vol_2g_mb_7</th>\n",
              "      <th>vol_2g_mb_8</th>\n",
              "      <th>aon</th>\n",
              "    </tr>\n",
              "  </thead>\n",
              "  <tbody>\n",
              "    <tr>\n",
              "      <th>count</th>\n",
              "      <td>55999.000000</td>\n",
              "      <td>55999.000000</td>\n",
              "      <td>55999.000000</td>\n",
              "      <td>55999.000000</td>\n",
              "      <td>55999.000000</td>\n",
              "      <td>55999.000000</td>\n",
              "      <td>55999.000000</td>\n",
              "      <td>55999.000000</td>\n",
              "      <td>55999.000000</td>\n",
              "      <td>55999.000000</td>\n",
              "      <td>55999.000000</td>\n",
              "      <td>55999.000000</td>\n",
              "      <td>55999.000000</td>\n",
              "      <td>55999.000000</td>\n",
              "      <td>55999.000000</td>\n",
              "      <td>55999.000000</td>\n",
              "    </tr>\n",
              "    <tr>\n",
              "      <th>mean</th>\n",
              "      <td>327.811854</td>\n",
              "      <td>321.025108</td>\n",
              "      <td>323.478937</td>\n",
              "      <td>306.429707</td>\n",
              "      <td>310.765246</td>\n",
              "      <td>304.822583</td>\n",
              "      <td>194.530026</td>\n",
              "      <td>192.666066</td>\n",
              "      <td>190.668662</td>\n",
              "      <td>122.938196</td>\n",
              "      <td>128.583345</td>\n",
              "      <td>135.521906</td>\n",
              "      <td>51.187053</td>\n",
              "      <td>51.012304</td>\n",
              "      <td>49.913344</td>\n",
              "      <td>1222.832640</td>\n",
              "    </tr>\n",
              "    <tr>\n",
              "      <th>std</th>\n",
              "      <td>380.114409</td>\n",
              "      <td>374.008207</td>\n",
              "      <td>388.530337</td>\n",
              "      <td>466.174772</td>\n",
              "      <td>481.140761</td>\n",
              "      <td>480.123986</td>\n",
              "      <td>310.558883</td>\n",
              "      <td>317.337807</td>\n",
              "      <td>315.647837</td>\n",
              "      <td>558.236033</td>\n",
              "      <td>539.005548</td>\n",
              "      <td>561.215419</td>\n",
              "      <td>211.451926</td>\n",
              "      <td>213.048610</td>\n",
              "      <td>215.497856</td>\n",
              "      <td>953.849631</td>\n",
              "    </tr>\n",
              "    <tr>\n",
              "      <th>min</th>\n",
              "      <td>0.000000</td>\n",
              "      <td>0.000000</td>\n",
              "      <td>0.000000</td>\n",
              "      <td>0.000000</td>\n",
              "      <td>0.000000</td>\n",
              "      <td>0.000000</td>\n",
              "      <td>0.000000</td>\n",
              "      <td>0.000000</td>\n",
              "      <td>0.000000</td>\n",
              "      <td>0.000000</td>\n",
              "      <td>0.000000</td>\n",
              "      <td>0.000000</td>\n",
              "      <td>0.000000</td>\n",
              "      <td>0.000000</td>\n",
              "      <td>0.000000</td>\n",
              "      <td>180.000000</td>\n",
              "    </tr>\n",
              "    <tr>\n",
              "      <th>25%</th>\n",
              "      <td>110.000000</td>\n",
              "      <td>100.000000</td>\n",
              "      <td>90.000000</td>\n",
              "      <td>45.250000</td>\n",
              "      <td>43.240000</td>\n",
              "      <td>38.780000</td>\n",
              "      <td>37.010000</td>\n",
              "      <td>34.140000</td>\n",
              "      <td>34.330000</td>\n",
              "      <td>0.000000</td>\n",
              "      <td>0.000000</td>\n",
              "      <td>0.000000</td>\n",
              "      <td>0.000000</td>\n",
              "      <td>0.000000</td>\n",
              "      <td>0.000000</td>\n",
              "      <td>469.000000</td>\n",
              "    </tr>\n",
              "    <tr>\n",
              "      <th>50%</th>\n",
              "      <td>230.000000</td>\n",
              "      <td>220.000000</td>\n",
              "      <td>225.000000</td>\n",
              "      <td>145.910000</td>\n",
              "      <td>142.190000</td>\n",
              "      <td>138.590000</td>\n",
              "      <td>96.580000</td>\n",
              "      <td>91.990000</td>\n",
              "      <td>91.940000</td>\n",
              "      <td>0.000000</td>\n",
              "      <td>0.000000</td>\n",
              "      <td>0.000000</td>\n",
              "      <td>0.000000</td>\n",
              "      <td>0.000000</td>\n",
              "      <td>0.000000</td>\n",
              "      <td>869.000000</td>\n",
              "    </tr>\n",
              "    <tr>\n",
              "      <th>75%</th>\n",
              "      <td>440.000000</td>\n",
              "      <td>430.000000</td>\n",
              "      <td>436.000000</td>\n",
              "      <td>374.720000</td>\n",
              "      <td>380.645000</td>\n",
              "      <td>372.650000</td>\n",
              "      <td>223.770000</td>\n",
              "      <td>217.375000</td>\n",
              "      <td>216.130000</td>\n",
              "      <td>0.000000</td>\n",
              "      <td>0.000000</td>\n",
              "      <td>0.000000</td>\n",
              "      <td>0.000000</td>\n",
              "      <td>0.000000</td>\n",
              "      <td>0.000000</td>\n",
              "      <td>1818.000000</td>\n",
              "    </tr>\n",
              "    <tr>\n",
              "      <th>max</th>\n",
              "      <td>17840.000000</td>\n",
              "      <td>16725.000000</td>\n",
              "      <td>20405.000000</td>\n",
              "      <td>10674.030000</td>\n",
              "      <td>8285.640000</td>\n",
              "      <td>14043.060000</td>\n",
              "      <td>8362.360000</td>\n",
              "      <td>7043.980000</td>\n",
              "      <td>14007.340000</td>\n",
              "      <td>45735.400000</td>\n",
              "      <td>27600.290000</td>\n",
              "      <td>30036.060000</td>\n",
              "      <td>10285.900000</td>\n",
              "      <td>7873.550000</td>\n",
              "      <td>11117.610000</td>\n",
              "      <td>4337.000000</td>\n",
              "    </tr>\n",
              "  </tbody>\n",
              "</table>\n",
              "</div>"
            ],
            "text/plain": [
              "       total_rech_amt_6  total_rech_amt_7  total_rech_amt_8  total_og_mou_6  \\\n",
              "count      55999.000000      55999.000000      55999.000000    55999.000000   \n",
              "mean         327.811854        321.025108        323.478937      306.429707   \n",
              "std          380.114409        374.008207        388.530337      466.174772   \n",
              "min            0.000000          0.000000          0.000000        0.000000   \n",
              "25%          110.000000        100.000000         90.000000       45.250000   \n",
              "50%          230.000000        220.000000        225.000000      145.910000   \n",
              "75%          440.000000        430.000000        436.000000      374.720000   \n",
              "max        17840.000000      16725.000000      20405.000000    10674.030000   \n",
              "\n",
              "       total_og_mou_7  total_og_mou_8  offnet_mou_6  offnet_mou_7  \\\n",
              "count    55999.000000    55999.000000  55999.000000  55999.000000   \n",
              "mean       310.765246      304.822583    194.530026    192.666066   \n",
              "std        481.140761      480.123986    310.558883    317.337807   \n",
              "min          0.000000        0.000000      0.000000      0.000000   \n",
              "25%         43.240000       38.780000     37.010000     34.140000   \n",
              "50%        142.190000      138.590000     96.580000     91.990000   \n",
              "75%        380.645000      372.650000    223.770000    217.375000   \n",
              "max       8285.640000    14043.060000   8362.360000   7043.980000   \n",
              "\n",
              "       offnet_mou_8   vol_3g_mb_6   vol_3g_mb_7   vol_3g_mb_8   vol_2g_mb_6  \\\n",
              "count  55999.000000  55999.000000  55999.000000  55999.000000  55999.000000   \n",
              "mean     190.668662    122.938196    128.583345    135.521906     51.187053   \n",
              "std      315.647837    558.236033    539.005548    561.215419    211.451926   \n",
              "min        0.000000      0.000000      0.000000      0.000000      0.000000   \n",
              "25%       34.330000      0.000000      0.000000      0.000000      0.000000   \n",
              "50%       91.940000      0.000000      0.000000      0.000000      0.000000   \n",
              "75%      216.130000      0.000000      0.000000      0.000000      0.000000   \n",
              "max    14007.340000  45735.400000  27600.290000  30036.060000  10285.900000   \n",
              "\n",
              "        vol_2g_mb_7   vol_2g_mb_8           aon  \n",
              "count  55999.000000  55999.000000  55999.000000  \n",
              "mean      51.012304     49.913344   1222.832640  \n",
              "std      213.048610    215.497856    953.849631  \n",
              "min        0.000000      0.000000    180.000000  \n",
              "25%        0.000000      0.000000    469.000000  \n",
              "50%        0.000000      0.000000    869.000000  \n",
              "75%        0.000000      0.000000   1818.000000  \n",
              "max     7873.550000  11117.610000   4337.000000  "
            ]
          },
          "metadata": {},
          "execution_count": 38
        }
      ]
    },
    {
      "cell_type": "markdown",
      "metadata": {
        "id": "zJrEiFsCOd7p"
      },
      "source": [
        "#### 5. Outlier Treatment"
      ]
    },
    {
      "cell_type": "markdown",
      "metadata": {
        "id": "PjGNUr4LOowq"
      },
      "source": [
        "##### 5.1 Checking Outliers"
      ]
    },
    {
      "cell_type": "code",
      "metadata": {
        "execution": {
          "iopub.status.busy": "2021-09-21T18:08:03.389442Z",
          "iopub.execute_input": "2021-09-21T18:08:03.389760Z",
          "iopub.status.idle": "2021-09-21T18:08:03.417670Z",
          "shell.execute_reply.started": "2021-09-21T18:08:03.389731Z",
          "shell.execute_reply": "2021-09-21T18:08:03.416866Z"
        },
        "trusted": true,
        "id": "1O0c190ePQAC",
        "colab": {
          "base_uri": "https://localhost:8080/"
        },
        "outputId": "d49cae20-755c-4c96-d7ed-925066197565"
      },
      "source": [
        "X_train.nunique()"
      ],
      "execution_count": 39,
      "outputs": [
        {
          "output_type": "execute_result",
          "data": {
            "text/plain": [
              "total_rech_amt_6     1987\n",
              "total_rech_amt_7     2021\n",
              "total_rech_amt_8     2037\n",
              "total_og_mou_6      29008\n",
              "total_og_mou_7      29080\n",
              "total_og_mou_8      28832\n",
              "offnet_mou_6        23413\n",
              "offnet_mou_7        23287\n",
              "offnet_mou_8        23156\n",
              "vol_3g_mb_6          7919\n",
              "vol_3g_mb_7          8342\n",
              "vol_3g_mb_8          8597\n",
              "vol_2g_mb_6          9546\n",
              "vol_2g_mb_7          9497\n",
              "vol_2g_mb_8          9443\n",
              "aon                  3429\n",
              "dtype: int64"
            ]
          },
          "metadata": {},
          "execution_count": 39
        }
      ]
    },
    {
      "cell_type": "code",
      "metadata": {
        "execution": {
          "iopub.status.busy": "2021-09-21T18:08:04.209769Z",
          "iopub.execute_input": "2021-09-21T18:08:04.210070Z",
          "iopub.status.idle": "2021-09-21T18:08:04.883653Z",
          "shell.execute_reply.started": "2021-09-21T18:08:04.210039Z",
          "shell.execute_reply": "2021-09-21T18:08:04.883027Z"
        },
        "trusted": true,
        "id": "ejKRLyJXPQAD",
        "colab": {
          "base_uri": "https://localhost:8080/",
          "height": 541
        },
        "outputId": "a7fc70a6-a2f9-43aa-f174-8effe13c7208"
      },
      "source": [
        "plt.figure(figsize=(15,8))\n",
        "plt.xticks(rotation=45)\n",
        "sns.boxplot(data = X_train)\n",
        "plt.show()"
      ],
      "execution_count": 40,
      "outputs": [
        {
          "output_type": "display_data",
          "data": {
            "image/png": "[encoded data removed]",
            "text/plain": [
              "<Figure size 1080x576 with 1 Axes>"
            ]
          },
          "metadata": {
            "needs_background": "light"
          }
        }
      ]
    },
    {
      "cell_type": "markdown",
      "metadata": {
        "execution": {
          "iopub.status.busy": "2021-09-21T16:42:07.936138Z",
          "iopub.execute_input": "2021-09-21T16:42:07.936577Z",
          "iopub.status.idle": "2021-09-21T16:42:07.94017Z",
          "shell.execute_reply.started": "2021-09-21T16:42:07.936546Z",
          "shell.execute_reply": "2021-09-21T16:42:07.939297Z"
        },
        "id": "5FF3pDXoPQAD"
      },
      "source": [
        "##### 5.2 Removing Outliers"
      ]
    },
    {
      "cell_type": "code",
      "metadata": {
        "execution": {
          "iopub.status.busy": "2021-09-21T18:07:43.691461Z",
          "iopub.execute_input": "2021-09-21T18:07:43.691864Z",
          "iopub.status.idle": "2021-09-21T18:07:43.698105Z",
          "shell.execute_reply.started": "2021-09-21T18:07:43.691807Z",
          "shell.execute_reply": "2021-09-21T18:07:43.697170Z"
        },
        "trusted": true,
        "id": "hADytLT8PQAD"
      },
      "source": [
        "def cap_outliers(array, k=3):\n",
        "    upper_limit = array.mean() + k*array.std()\n",
        "    lower_limit = array.mean() - k*array.std()\n",
        "    array[array<lower_limit] = lower_limit\n",
        "    array[array>upper_limit] = upper_limit\n",
        "    return array\n"
      ],
      "execution_count": 41,
      "outputs": []
    },
    {
      "cell_type": "code",
      "metadata": {
        "execution": {
          "iopub.status.busy": "2021-09-21T18:08:45.602836Z",
          "iopub.execute_input": "2021-09-21T18:08:45.603294Z",
          "iopub.status.idle": "2021-09-21T18:08:46.567801Z",
          "shell.execute_reply.started": "2021-09-21T18:08:45.603260Z",
          "shell.execute_reply": "2021-09-21T18:08:46.566905Z"
        },
        "trusted": true,
        "id": "3T9uouQ5PQAD",
        "colab": {
          "base_uri": "https://localhost:8080/",
          "height": 559
        },
        "outputId": "affd2bc0-f83e-460d-88f6-2f5d6c8e2280"
      },
      "source": [
        "X_train_new = X_train.apply(cap_outliers, axis=0)\n",
        "\n",
        "plt.figure(figsize=(15,8))\n",
        "plt.xticks(rotation=45)\n",
        "sns.boxplot(data = X_train)"
      ],
      "execution_count": 42,
      "outputs": [
        {
          "output_type": "execute_result",
          "data": {
            "text/plain": [
              "<matplotlib.axes._subplots.AxesSubplot at 0x7fce7fd9bb50>"
            ]
          },
          "metadata": {},
          "execution_count": 42
        },
        {
          "output_type": "display_data",
          "data": {
            "image/png": "[encoded data removed]",
            "text/plain": [
              "<Figure size 1080x576 with 1 Axes>"
            ]
          },
          "metadata": {
            "needs_background": "light"
          }
        }
      ]
    },
    {
      "cell_type": "markdown",
      "metadata": {
        "id": "QVDwLOyOPQAE"
      },
      "source": [
        "### 6. Feature Scaling"
      ]
    },
    {
      "cell_type": "code",
      "metadata": {
        "colab": {
          "base_uri": "https://localhost:8080/",
          "height": 316
        },
        "id": "egUuodsCh3VQ",
        "outputId": "b2c3b463-8863-4bd5-8004-a728cb8e5f3b"
      },
      "source": [
        "X_train.describe()"
      ],
      "execution_count": 43,
      "outputs": [
        {
          "output_type": "execute_result",
          "data": {
            "text/html": [
              "<div>\n",
              "<style scoped>\n",
              "    .dataframe tbody tr th:only-of-type {\n",
              "        vertical-align: middle;\n",
              "    }\n",
              "\n",
              "    .dataframe tbody tr th {\n",
              "        vertical-align: top;\n",
              "    }\n",
              "\n",
              "    .dataframe thead th {\n",
              "        text-align: right;\n",
              "    }\n",
              "</style>\n",
              "<table border=\"1\" class=\"dataframe\">\n",
              "  <thead>\n",
              "    <tr style=\"text-align: right;\">\n",
              "      <th></th>\n",
              "      <th>total_rech_amt_6</th>\n",
              "      <th>total_rech_amt_7</th>\n",
              "      <th>total_rech_amt_8</th>\n",
              "      <th>total_og_mou_6</th>\n",
              "      <th>total_og_mou_7</th>\n",
              "      <th>total_og_mou_8</th>\n",
              "      <th>offnet_mou_6</th>\n",
              "      <th>offnet_mou_7</th>\n",
              "      <th>offnet_mou_8</th>\n",
              "      <th>vol_3g_mb_6</th>\n",
              "      <th>vol_3g_mb_7</th>\n",
              "      <th>vol_3g_mb_8</th>\n",
              "      <th>vol_2g_mb_6</th>\n",
              "      <th>vol_2g_mb_7</th>\n",
              "      <th>vol_2g_mb_8</th>\n",
              "      <th>aon</th>\n",
              "    </tr>\n",
              "  </thead>\n",
              "  <tbody>\n",
              "    <tr>\n",
              "      <th>count</th>\n",
              "      <td>55999.000000</td>\n",
              "      <td>55999.000000</td>\n",
              "      <td>55999.000000</td>\n",
              "      <td>55999.000000</td>\n",
              "      <td>55999.000000</td>\n",
              "      <td>55999.000000</td>\n",
              "      <td>55999.000000</td>\n",
              "      <td>55999.000000</td>\n",
              "      <td>55999.000000</td>\n",
              "      <td>55999.000000</td>\n",
              "      <td>55999.000000</td>\n",
              "      <td>55999.000000</td>\n",
              "      <td>55999.000000</td>\n",
              "      <td>55999.000000</td>\n",
              "      <td>55999.000000</td>\n",
              "      <td>55999.000000</td>\n",
              "    </tr>\n",
              "    <tr>\n",
              "      <th>mean</th>\n",
              "      <td>317.979084</td>\n",
              "      <td>311.097737</td>\n",
              "      <td>313.613369</td>\n",
              "      <td>290.092133</td>\n",
              "      <td>293.745801</td>\n",
              "      <td>288.333021</td>\n",
              "      <td>182.255915</td>\n",
              "      <td>180.115879</td>\n",
              "      <td>178.795358</td>\n",
              "      <td>101.684198</td>\n",
              "      <td>105.651174</td>\n",
              "      <td>112.234815</td>\n",
              "      <td>41.107628</td>\n",
              "      <td>40.364241</td>\n",
              "      <td>39.442828</td>\n",
              "      <td>1222.763843</td>\n",
              "    </tr>\n",
              "    <tr>\n",
              "      <th>std</th>\n",
              "      <td>312.875878</td>\n",
              "      <td>312.532944</td>\n",
              "      <td>317.807800</td>\n",
              "      <td>376.897072</td>\n",
              "      <td>386.586807</td>\n",
              "      <td>383.893400</td>\n",
              "      <td>235.729205</td>\n",
              "      <td>239.112290</td>\n",
              "      <td>236.713761</td>\n",
              "      <td>326.669970</td>\n",
              "      <td>331.086379</td>\n",
              "      <td>344.167689</td>\n",
              "      <td>130.831674</td>\n",
              "      <td>129.587542</td>\n",
              "      <td>128.355380</td>\n",
              "      <td>953.638076</td>\n",
              "    </tr>\n",
              "    <tr>\n",
              "      <th>min</th>\n",
              "      <td>0.000000</td>\n",
              "      <td>0.000000</td>\n",
              "      <td>0.000000</td>\n",
              "      <td>0.000000</td>\n",
              "      <td>0.000000</td>\n",
              "      <td>0.000000</td>\n",
              "      <td>0.000000</td>\n",
              "      <td>0.000000</td>\n",
              "      <td>0.000000</td>\n",
              "      <td>0.000000</td>\n",
              "      <td>0.000000</td>\n",
              "      <td>0.000000</td>\n",
              "      <td>0.000000</td>\n",
              "      <td>0.000000</td>\n",
              "      <td>0.000000</td>\n",
              "      <td>180.000000</td>\n",
              "    </tr>\n",
              "    <tr>\n",
              "      <th>25%</th>\n",
              "      <td>110.000000</td>\n",
              "      <td>100.000000</td>\n",
              "      <td>90.000000</td>\n",
              "      <td>45.250000</td>\n",
              "      <td>43.240000</td>\n",
              "      <td>38.780000</td>\n",
              "      <td>37.010000</td>\n",
              "      <td>34.140000</td>\n",
              "      <td>34.330000</td>\n",
              "      <td>0.000000</td>\n",
              "      <td>0.000000</td>\n",
              "      <td>0.000000</td>\n",
              "      <td>0.000000</td>\n",
              "      <td>0.000000</td>\n",
              "      <td>0.000000</td>\n",
              "      <td>469.000000</td>\n",
              "    </tr>\n",
              "    <tr>\n",
              "      <th>50%</th>\n",
              "      <td>230.000000</td>\n",
              "      <td>220.000000</td>\n",
              "      <td>225.000000</td>\n",
              "      <td>145.910000</td>\n",
              "      <td>142.190000</td>\n",
              "      <td>138.590000</td>\n",
              "      <td>96.580000</td>\n",
              "      <td>91.990000</td>\n",
              "      <td>91.940000</td>\n",
              "      <td>0.000000</td>\n",
              "      <td>0.000000</td>\n",
              "      <td>0.000000</td>\n",
              "      <td>0.000000</td>\n",
              "      <td>0.000000</td>\n",
              "      <td>0.000000</td>\n",
              "      <td>869.000000</td>\n",
              "    </tr>\n",
              "    <tr>\n",
              "      <th>75%</th>\n",
              "      <td>440.000000</td>\n",
              "      <td>430.000000</td>\n",
              "      <td>436.000000</td>\n",
              "      <td>374.720000</td>\n",
              "      <td>380.645000</td>\n",
              "      <td>372.650000</td>\n",
              "      <td>223.770000</td>\n",
              "      <td>217.375000</td>\n",
              "      <td>216.130000</td>\n",
              "      <td>0.000000</td>\n",
              "      <td>0.000000</td>\n",
              "      <td>0.000000</td>\n",
              "      <td>0.000000</td>\n",
              "      <td>0.000000</td>\n",
              "      <td>0.000000</td>\n",
              "      <td>1818.000000</td>\n",
              "    </tr>\n",
              "    <tr>\n",
              "      <th>max</th>\n",
              "      <td>1468.155079</td>\n",
              "      <td>1443.049727</td>\n",
              "      <td>1489.069949</td>\n",
              "      <td>1704.954022</td>\n",
              "      <td>1754.187528</td>\n",
              "      <td>1745.194540</td>\n",
              "      <td>1126.206675</td>\n",
              "      <td>1144.679487</td>\n",
              "      <td>1137.612174</td>\n",
              "      <td>1797.646296</td>\n",
              "      <td>1745.599990</td>\n",
              "      <td>1819.168164</td>\n",
              "      <td>685.542831</td>\n",
              "      <td>690.158135</td>\n",
              "      <td>696.406911</td>\n",
              "      <td>4084.381534</td>\n",
              "    </tr>\n",
              "  </tbody>\n",
              "</table>\n",
              "</div>"
            ],
            "text/plain": [
              "       total_rech_amt_6  total_rech_amt_7  total_rech_amt_8  total_og_mou_6  \\\n",
              "count      55999.000000      55999.000000      55999.000000    55999.000000   \n",
              "mean         317.979084        311.097737        313.613369      290.092133   \n",
              "std          312.875878        312.532944        317.807800      376.897072   \n",
              "min            0.000000          0.000000          0.000000        0.000000   \n",
              "25%          110.000000        100.000000         90.000000       45.250000   \n",
              "50%          230.000000        220.000000        225.000000      145.910000   \n",
              "75%          440.000000        430.000000        436.000000      374.720000   \n",
              "max         1468.155079       1443.049727       1489.069949     1704.954022   \n",
              "\n",
              "       total_og_mou_7  total_og_mou_8  offnet_mou_6  offnet_mou_7  \\\n",
              "count    55999.000000    55999.000000  55999.000000  55999.000000   \n",
              "mean       293.745801      288.333021    182.255915    180.115879   \n",
              "std        386.586807      383.893400    235.729205    239.112290   \n",
              "min          0.000000        0.000000      0.000000      0.000000   \n",
              "25%         43.240000       38.780000     37.010000     34.140000   \n",
              "50%        142.190000      138.590000     96.580000     91.990000   \n",
              "75%        380.645000      372.650000    223.770000    217.375000   \n",
              "max       1754.187528     1745.194540   1126.206675   1144.679487   \n",
              "\n",
              "       offnet_mou_8   vol_3g_mb_6   vol_3g_mb_7   vol_3g_mb_8   vol_2g_mb_6  \\\n",
              "count  55999.000000  55999.000000  55999.000000  55999.000000  55999.000000   \n",
              "mean     178.795358    101.684198    105.651174    112.234815     41.107628   \n",
              "std      236.713761    326.669970    331.086379    344.167689    130.831674   \n",
              "min        0.000000      0.000000      0.000000      0.000000      0.000000   \n",
              "25%       34.330000      0.000000      0.000000      0.000000      0.000000   \n",
              "50%       91.940000      0.000000      0.000000      0.000000      0.000000   \n",
              "75%      216.130000      0.000000      0.000000      0.000000      0.000000   \n",
              "max     1137.612174   1797.646296   1745.599990   1819.168164    685.542831   \n",
              "\n",
              "        vol_2g_mb_7   vol_2g_mb_8           aon  \n",
              "count  55999.000000  55999.000000  55999.000000  \n",
              "mean      40.364241     39.442828   1222.763843  \n",
              "std      129.587542    128.355380    953.638076  \n",
              "min        0.000000      0.000000    180.000000  \n",
              "25%        0.000000      0.000000    469.000000  \n",
              "50%        0.000000      0.000000    869.000000  \n",
              "75%        0.000000      0.000000   1818.000000  \n",
              "max      690.158135    696.406911   4084.381534  "
            ]
          },
          "metadata": {},
          "execution_count": 43
        }
      ]
    },
    {
      "cell_type": "code",
      "metadata": {
        "id": "atPoTsOFWcT9"
      },
      "source": [
        "X_train_cols=X_train.columns"
      ],
      "execution_count": 44,
      "outputs": []
    },
    {
      "cell_type": "code",
      "metadata": {
        "id": "3kmAhspZc6Om"
      },
      "source": [
        "scale = StandardScaler()\n",
        "X_train1= scale.fit_transform(X_train)"
      ],
      "execution_count": 45,
      "outputs": []
    },
    {
      "cell_type": "code",
      "metadata": {
        "colab": {
          "base_uri": "https://localhost:8080/",
          "height": 224
        },
        "id": "rqIt8L1KdcYh",
        "outputId": "60d24ffa-374d-490f-c923-ea41afdbcc82"
      },
      "source": [
        "X_train2=pd.DataFrame(X_train1,columns=X_train_cols)\n",
        "X_train2.head()"
      ],
      "execution_count": 46,
      "outputs": [
        {
          "output_type": "execute_result",
          "data": {
            "text/html": [
              "<div>\n",
              "<style scoped>\n",
              "    .dataframe tbody tr th:only-of-type {\n",
              "        vertical-align: middle;\n",
              "    }\n",
              "\n",
              "    .dataframe tbody tr th {\n",
              "        vertical-align: top;\n",
              "    }\n",
              "\n",
              "    .dataframe thead th {\n",
              "        text-align: right;\n",
              "    }\n",
              "</style>\n",
              "<table border=\"1\" class=\"dataframe\">\n",
              "  <thead>\n",
              "    <tr style=\"text-align: right;\">\n",
              "      <th></th>\n",
              "      <th>total_rech_amt_6</th>\n",
              "      <th>total_rech_amt_7</th>\n",
              "      <th>total_rech_amt_8</th>\n",
              "      <th>total_og_mou_6</th>\n",
              "      <th>total_og_mou_7</th>\n",
              "      <th>total_og_mou_8</th>\n",
              "      <th>offnet_mou_6</th>\n",
              "      <th>offnet_mou_7</th>\n",
              "      <th>offnet_mou_8</th>\n",
              "      <th>vol_3g_mb_6</th>\n",
              "      <th>vol_3g_mb_7</th>\n",
              "      <th>vol_3g_mb_8</th>\n",
              "      <th>vol_2g_mb_6</th>\n",
              "      <th>vol_2g_mb_7</th>\n",
              "      <th>vol_2g_mb_8</th>\n",
              "      <th>aon</th>\n",
              "    </tr>\n",
              "  </thead>\n",
              "  <tbody>\n",
              "    <tr>\n",
              "      <th>0</th>\n",
              "      <td>0.402786</td>\n",
              "      <td>0.857205</td>\n",
              "      <td>0.551869</td>\n",
              "      <td>0.691542</td>\n",
              "      <td>0.831035</td>\n",
              "      <td>1.005905</td>\n",
              "      <td>1.365367</td>\n",
              "      <td>1.326644</td>\n",
              "      <td>1.456898</td>\n",
              "      <td>-0.311278</td>\n",
              "      <td>-0.319107</td>\n",
              "      <td>-0.326108</td>\n",
              "      <td>4.925726</td>\n",
              "      <td>3.300005</td>\n",
              "      <td>1.643321</td>\n",
              "      <td>-0.666678</td>\n",
              "    </tr>\n",
              "    <tr>\n",
              "      <th>1</th>\n",
              "      <td>0.920568</td>\n",
              "      <td>0.783612</td>\n",
              "      <td>0.322168</td>\n",
              "      <td>2.351586</td>\n",
              "      <td>2.023611</td>\n",
              "      <td>1.041046</td>\n",
              "      <td>4.004422</td>\n",
              "      <td>3.554070</td>\n",
              "      <td>1.964900</td>\n",
              "      <td>-0.311278</td>\n",
              "      <td>-0.319107</td>\n",
              "      <td>-0.326108</td>\n",
              "      <td>-0.314205</td>\n",
              "      <td>-0.311485</td>\n",
              "      <td>-0.307297</td>\n",
              "      <td>-0.578593</td>\n",
              "    </tr>\n",
              "    <tr>\n",
              "      <th>2</th>\n",
              "      <td>0.294116</td>\n",
              "      <td>0.828407</td>\n",
              "      <td>0.523550</td>\n",
              "      <td>0.090975</td>\n",
              "      <td>1.070052</td>\n",
              "      <td>0.357855</td>\n",
              "      <td>0.573223</td>\n",
              "      <td>2.205235</td>\n",
              "      <td>1.043103</td>\n",
              "      <td>-0.311278</td>\n",
              "      <td>-0.319107</td>\n",
              "      <td>-0.326108</td>\n",
              "      <td>-0.314205</td>\n",
              "      <td>-0.311485</td>\n",
              "      <td>-0.307297</td>\n",
              "      <td>-1.067253</td>\n",
              "    </tr>\n",
              "    <tr>\n",
              "      <th>3</th>\n",
              "      <td>-0.690309</td>\n",
              "      <td>-0.774638</td>\n",
              "      <td>-0.892413</td>\n",
              "      <td>-0.681763</td>\n",
              "      <td>-0.759851</td>\n",
              "      <td>-0.748009</td>\n",
              "      <td>-0.659856</td>\n",
              "      <td>-0.753276</td>\n",
              "      <td>-0.751485</td>\n",
              "      <td>0.066263</td>\n",
              "      <td>0.316020</td>\n",
              "      <td>-0.326108</td>\n",
              "      <td>-0.221796</td>\n",
              "      <td>-0.039003</td>\n",
              "      <td>-0.307297</td>\n",
              "      <td>-1.068301</td>\n",
              "    </tr>\n",
              "    <tr>\n",
              "      <th>4</th>\n",
              "      <td>0.581772</td>\n",
              "      <td>1.404352</td>\n",
              "      <td>0.586481</td>\n",
              "      <td>-0.506143</td>\n",
              "      <td>-0.516230</td>\n",
              "      <td>-0.512056</td>\n",
              "      <td>-0.312972</td>\n",
              "      <td>-0.388548</td>\n",
              "      <td>-0.465821</td>\n",
              "      <td>-0.311278</td>\n",
              "      <td>-0.319107</td>\n",
              "      <td>-0.326108</td>\n",
              "      <td>-0.314205</td>\n",
              "      <td>-0.311485</td>\n",
              "      <td>-0.307297</td>\n",
              "      <td>0.439622</td>\n",
              "    </tr>\n",
              "  </tbody>\n",
              "</table>\n",
              "</div>"
            ],
            "text/plain": [
              "   total_rech_amt_6  total_rech_amt_7  total_rech_amt_8  total_og_mou_6  \\\n",
              "0          0.402786          0.857205          0.551869        0.691542   \n",
              "1          0.920568          0.783612          0.322168        2.351586   \n",
              "2          0.294116          0.828407          0.523550        0.090975   \n",
              "3         -0.690309         -0.774638         -0.892413       -0.681763   \n",
              "4          0.581772          1.404352          0.586481       -0.506143   \n",
              "\n",
              "   total_og_mou_7  total_og_mou_8  offnet_mou_6  offnet_mou_7  offnet_mou_8  \\\n",
              "0        0.831035        1.005905      1.365367      1.326644      1.456898   \n",
              "1        2.023611        1.041046      4.004422      3.554070      1.964900   \n",
              "2        1.070052        0.357855      0.573223      2.205235      1.043103   \n",
              "3       -0.759851       -0.748009     -0.659856     -0.753276     -0.751485   \n",
              "4       -0.516230       -0.512056     -0.312972     -0.388548     -0.465821   \n",
              "\n",
              "   vol_3g_mb_6  vol_3g_mb_7  vol_3g_mb_8  vol_2g_mb_6  vol_2g_mb_7  \\\n",
              "0    -0.311278    -0.319107    -0.326108     4.925726     3.300005   \n",
              "1    -0.311278    -0.319107    -0.326108    -0.314205    -0.311485   \n",
              "2    -0.311278    -0.319107    -0.326108    -0.314205    -0.311485   \n",
              "3     0.066263     0.316020    -0.326108    -0.221796    -0.039003   \n",
              "4    -0.311278    -0.319107    -0.326108    -0.314205    -0.311485   \n",
              "\n",
              "   vol_2g_mb_8       aon  \n",
              "0     1.643321 -0.666678  \n",
              "1    -0.307297 -0.578593  \n",
              "2    -0.307297 -1.067253  \n",
              "3    -0.307297 -1.068301  \n",
              "4    -0.307297  0.439622  "
            ]
          },
          "metadata": {},
          "execution_count": 46
        }
      ]
    },
    {
      "cell_type": "code",
      "metadata": {
        "colab": {
          "base_uri": "https://localhost:8080/"
        },
        "id": "yP03EPVKdiMq",
        "outputId": "40a8b72c-3698-4374-9c71-95a918ef6443"
      },
      "source": [
        "X_train2.shape"
      ],
      "execution_count": 47,
      "outputs": [
        {
          "output_type": "execute_result",
          "data": {
            "text/plain": [
              "(55999, 16)"
            ]
          },
          "metadata": {},
          "execution_count": 47
        }
      ]
    },
    {
      "cell_type": "code",
      "metadata": {
        "colab": {
          "base_uri": "https://localhost:8080/",
          "height": 400
        },
        "id": "su7D6RmndkWp",
        "outputId": "196014a7-2474-4026-f445-2ca00c6f97b4"
      },
      "source": [
        "X_train2.describe()"
      ],
      "execution_count": 48,
      "outputs": [
        {
          "output_type": "execute_result",
          "data": {
            "text/html": [
              "<div>\n",
              "<style scoped>\n",
              "    .dataframe tbody tr th:only-of-type {\n",
              "        vertical-align: middle;\n",
              "    }\n",
              "\n",
              "    .dataframe tbody tr th {\n",
              "        vertical-align: top;\n",
              "    }\n",
              "\n",
              "    .dataframe thead th {\n",
              "        text-align: right;\n",
              "    }\n",
              "</style>\n",
              "<table border=\"1\" class=\"dataframe\">\n",
              "  <thead>\n",
              "    <tr style=\"text-align: right;\">\n",
              "      <th></th>\n",
              "      <th>total_rech_amt_6</th>\n",
              "      <th>total_rech_amt_7</th>\n",
              "      <th>total_rech_amt_8</th>\n",
              "      <th>total_og_mou_6</th>\n",
              "      <th>total_og_mou_7</th>\n",
              "      <th>total_og_mou_8</th>\n",
              "      <th>offnet_mou_6</th>\n",
              "      <th>offnet_mou_7</th>\n",
              "      <th>offnet_mou_8</th>\n",
              "      <th>vol_3g_mb_6</th>\n",
              "      <th>vol_3g_mb_7</th>\n",
              "      <th>vol_3g_mb_8</th>\n",
              "      <th>vol_2g_mb_6</th>\n",
              "      <th>vol_2g_mb_7</th>\n",
              "      <th>vol_2g_mb_8</th>\n",
              "      <th>aon</th>\n",
              "    </tr>\n",
              "  </thead>\n",
              "  <tbody>\n",
              "    <tr>\n",
              "      <th>count</th>\n",
              "      <td>5.599900e+04</td>\n",
              "      <td>5.599900e+04</td>\n",
              "      <td>5.599900e+04</td>\n",
              "      <td>5.599900e+04</td>\n",
              "      <td>5.599900e+04</td>\n",
              "      <td>5.599900e+04</td>\n",
              "      <td>5.599900e+04</td>\n",
              "      <td>5.599900e+04</td>\n",
              "      <td>5.599900e+04</td>\n",
              "      <td>5.599900e+04</td>\n",
              "      <td>5.599900e+04</td>\n",
              "      <td>5.599900e+04</td>\n",
              "      <td>5.599900e+04</td>\n",
              "      <td>5.599900e+04</td>\n",
              "      <td>5.599900e+04</td>\n",
              "      <td>5.599900e+04</td>\n",
              "    </tr>\n",
              "    <tr>\n",
              "      <th>mean</th>\n",
              "      <td>8.501288e-17</td>\n",
              "      <td>-4.129469e-16</td>\n",
              "      <td>1.152829e-16</td>\n",
              "      <td>8.880496e-16</td>\n",
              "      <td>-1.974646e-18</td>\n",
              "      <td>2.718430e-16</td>\n",
              "      <td>6.740760e-20</td>\n",
              "      <td>-8.867668e-17</td>\n",
              "      <td>2.336427e-16</td>\n",
              "      <td>1.394574e-15</td>\n",
              "      <td>-2.462642e-15</td>\n",
              "      <td>1.654295e-15</td>\n",
              "      <td>-1.732930e-16</td>\n",
              "      <td>1.290445e-15</td>\n",
              "      <td>-1.508687e-15</td>\n",
              "      <td>8.364589e-17</td>\n",
              "    </tr>\n",
              "    <tr>\n",
              "      <th>std</th>\n",
              "      <td>1.000009e+00</td>\n",
              "      <td>1.000009e+00</td>\n",
              "      <td>1.000009e+00</td>\n",
              "      <td>1.000009e+00</td>\n",
              "      <td>1.000009e+00</td>\n",
              "      <td>1.000009e+00</td>\n",
              "      <td>1.000009e+00</td>\n",
              "      <td>1.000009e+00</td>\n",
              "      <td>1.000009e+00</td>\n",
              "      <td>1.000009e+00</td>\n",
              "      <td>1.000009e+00</td>\n",
              "      <td>1.000009e+00</td>\n",
              "      <td>1.000009e+00</td>\n",
              "      <td>1.000009e+00</td>\n",
              "      <td>1.000009e+00</td>\n",
              "      <td>1.000009e+00</td>\n",
              "    </tr>\n",
              "    <tr>\n",
              "      <th>min</th>\n",
              "      <td>-1.016320e+00</td>\n",
              "      <td>-9.954167e-01</td>\n",
              "      <td>-9.868108e-01</td>\n",
              "      <td>-7.696922e-01</td>\n",
              "      <td>-7.598511e-01</td>\n",
              "      <td>-7.510825e-01</td>\n",
              "      <td>-7.731649e-01</td>\n",
              "      <td>-7.532757e-01</td>\n",
              "      <td>-7.553298e-01</td>\n",
              "      <td>-3.112778e-01</td>\n",
              "      <td>-3.191074e-01</td>\n",
              "      <td>-3.261079e-01</td>\n",
              "      <td>-3.142052e-01</td>\n",
              "      <td>-3.114852e-01</td>\n",
              "      <td>-3.072967e-01</td>\n",
              "      <td>-1.093468e+00</td>\n",
              "    </tr>\n",
              "    <tr>\n",
              "      <th>25%</th>\n",
              "      <td>-6.647395e-01</td>\n",
              "      <td>-6.754476e-01</td>\n",
              "      <td>-7.036182e-01</td>\n",
              "      <td>-6.496318e-01</td>\n",
              "      <td>-6.479994e-01</td>\n",
              "      <td>-6.500639e-01</td>\n",
              "      <td>-6.161613e-01</td>\n",
              "      <td>-6.104964e-01</td>\n",
              "      <td>-6.103010e-01</td>\n",
              "      <td>-3.112778e-01</td>\n",
              "      <td>-3.191074e-01</td>\n",
              "      <td>-3.261079e-01</td>\n",
              "      <td>-3.142052e-01</td>\n",
              "      <td>-3.114852e-01</td>\n",
              "      <td>-3.072967e-01</td>\n",
              "      <td>-7.904158e-01</td>\n",
              "    </tr>\n",
              "    <tr>\n",
              "      <th>50%</th>\n",
              "      <td>-2.811974e-01</td>\n",
              "      <td>-2.914846e-01</td>\n",
              "      <td>-2.788294e-01</td>\n",
              "      <td>-3.825538e-01</td>\n",
              "      <td>-3.920391e-01</td>\n",
              "      <td>-3.900675e-01</td>\n",
              "      <td>-3.634538e-01</td>\n",
              "      <td>-3.685577e-01</td>\n",
              "      <td>-3.669247e-01</td>\n",
              "      <td>-3.112778e-01</td>\n",
              "      <td>-3.191074e-01</td>\n",
              "      <td>-3.261079e-01</td>\n",
              "      <td>-3.142052e-01</td>\n",
              "      <td>-3.114852e-01</td>\n",
              "      <td>-3.072967e-01</td>\n",
              "      <td>-3.709657e-01</td>\n",
              "    </tr>\n",
              "    <tr>\n",
              "      <th>75%</th>\n",
              "      <td>3.900013e-01</td>\n",
              "      <td>3.804505e-01</td>\n",
              "      <td>3.850998e-01</td>\n",
              "      <td>2.245404e-01</td>\n",
              "      <td>2.247877e-01</td>\n",
              "      <td>2.196384e-01</td>\n",
              "      <td>1.761108e-01</td>\n",
              "      <td>1.558241e-01</td>\n",
              "      <td>1.577220e-01</td>\n",
              "      <td>-3.112778e-01</td>\n",
              "      <td>-3.191074e-01</td>\n",
              "      <td>-3.261079e-01</td>\n",
              "      <td>-3.142052e-01</td>\n",
              "      <td>-3.114852e-01</td>\n",
              "      <td>-3.072967e-01</td>\n",
              "      <td>6.241796e-01</td>\n",
              "    </tr>\n",
              "    <tr>\n",
              "      <th>max</th>\n",
              "      <td>3.676174e+00</td>\n",
              "      <td>3.621897e+00</td>\n",
              "      <td>3.698673e+00</td>\n",
              "      <td>3.754008e+00</td>\n",
              "      <td>3.777818e+00</td>\n",
              "      <td>3.794998e+00</td>\n",
              "      <td>4.004422e+00</td>\n",
              "      <td>4.033972e+00</td>\n",
              "      <td>4.050569e+00</td>\n",
              "      <td>5.191715e+00</td>\n",
              "      <td>4.953280e+00</td>\n",
              "      <td>4.959642e+00</td>\n",
              "      <td>4.925726e+00</td>\n",
              "      <td>5.014369e+00</td>\n",
              "      <td>5.118367e+00</td>\n",
              "      <td>3.000764e+00</td>\n",
              "    </tr>\n",
              "  </tbody>\n",
              "</table>\n",
              "</div>"
            ],
            "text/plain": [
              "       total_rech_amt_6  total_rech_amt_7  total_rech_amt_8  total_og_mou_6  \\\n",
              "count      5.599900e+04      5.599900e+04      5.599900e+04    5.599900e+04   \n",
              "mean       8.501288e-17     -4.129469e-16      1.152829e-16    8.880496e-16   \n",
              "std        1.000009e+00      1.000009e+00      1.000009e+00    1.000009e+00   \n",
              "min       -1.016320e+00     -9.954167e-01     -9.868108e-01   -7.696922e-01   \n",
              "25%       -6.647395e-01     -6.754476e-01     -7.036182e-01   -6.496318e-01   \n",
              "50%       -2.811974e-01     -2.914846e-01     -2.788294e-01   -3.825538e-01   \n",
              "75%        3.900013e-01      3.804505e-01      3.850998e-01    2.245404e-01   \n",
              "max        3.676174e+00      3.621897e+00      3.698673e+00    3.754008e+00   \n",
              "\n",
              "       total_og_mou_7  total_og_mou_8  offnet_mou_6  offnet_mou_7  \\\n",
              "count    5.599900e+04    5.599900e+04  5.599900e+04  5.599900e+04   \n",
              "mean    -1.974646e-18    2.718430e-16  6.740760e-20 -8.867668e-17   \n",
              "std      1.000009e+00    1.000009e+00  1.000009e+00  1.000009e+00   \n",
              "min     -7.598511e-01   -7.510825e-01 -7.731649e-01 -7.532757e-01   \n",
              "25%     -6.479994e-01   -6.500639e-01 -6.161613e-01 -6.104964e-01   \n",
              "50%     -3.920391e-01   -3.900675e-01 -3.634538e-01 -3.685577e-01   \n",
              "75%      2.247877e-01    2.196384e-01  1.761108e-01  1.558241e-01   \n",
              "max      3.777818e+00    3.794998e+00  4.004422e+00  4.033972e+00   \n",
              "\n",
              "       offnet_mou_8   vol_3g_mb_6   vol_3g_mb_7   vol_3g_mb_8   vol_2g_mb_6  \\\n",
              "count  5.599900e+04  5.599900e+04  5.599900e+04  5.599900e+04  5.599900e+04   \n",
              "mean   2.336427e-16  1.394574e-15 -2.462642e-15  1.654295e-15 -1.732930e-16   \n",
              "std    1.000009e+00  1.000009e+00  1.000009e+00  1.000009e+00  1.000009e+00   \n",
              "min   -7.553298e-01 -3.112778e-01 -3.191074e-01 -3.261079e-01 -3.142052e-01   \n",
              "25%   -6.103010e-01 -3.112778e-01 -3.191074e-01 -3.261079e-01 -3.142052e-01   \n",
              "50%   -3.669247e-01 -3.112778e-01 -3.191074e-01 -3.261079e-01 -3.142052e-01   \n",
              "75%    1.577220e-01 -3.112778e-01 -3.191074e-01 -3.261079e-01 -3.142052e-01   \n",
              "max    4.050569e+00  5.191715e+00  4.953280e+00  4.959642e+00  4.925726e+00   \n",
              "\n",
              "        vol_2g_mb_7   vol_2g_mb_8           aon  \n",
              "count  5.599900e+04  5.599900e+04  5.599900e+04  \n",
              "mean   1.290445e-15 -1.508687e-15  8.364589e-17  \n",
              "std    1.000009e+00  1.000009e+00  1.000009e+00  \n",
              "min   -3.114852e-01 -3.072967e-01 -1.093468e+00  \n",
              "25%   -3.114852e-01 -3.072967e-01 -7.904158e-01  \n",
              "50%   -3.114852e-01 -3.072967e-01 -3.709657e-01  \n",
              "75%   -3.114852e-01 -3.072967e-01  6.241796e-01  \n",
              "max    5.014369e+00  5.118367e+00  3.000764e+00  "
            ]
          },
          "metadata": {},
          "execution_count": 48
        }
      ]
    },
    {
      "cell_type": "markdown",
      "metadata": {
        "id": "GK36PNZ0PONF"
      },
      "source": [
        "### 7. Exploratory Data Analysis"
      ]
    },
    {
      "cell_type": "markdown",
      "metadata": {
        "id": "KqD_QZIFPbEQ"
      },
      "source": [
        "#### 7.1 Plotting Heatmap"
      ]
    },
    {
      "cell_type": "code",
      "metadata": {
        "colab": {
          "base_uri": "https://localhost:8080/",
          "height": 580
        },
        "id": "uXy0CAkNdpCT",
        "outputId": "0b9c1aea-bc0b-469f-d7be-35797141c5e6"
      },
      "source": [
        "plt.figure(figsize=(15,8))\n",
        "sns.heatmap(X_train2.corr(),annot=True)"
      ],
      "execution_count": 49,
      "outputs": [
        {
          "output_type": "execute_result",
          "data": {
            "text/plain": [
              "<matplotlib.axes._subplots.AxesSubplot at 0x7fce7fb44550>"
            ]
          },
          "metadata": {},
          "execution_count": 49
        },
        {
          "output_type": "display_data",
          "data": {
            "image/png": "[encoded data removed]",
            "text/plain": [
              "<Figure size 1080x576 with 2 Axes>"
            ]
          },
          "metadata": {
            "needs_background": "light"
          }
        }
      ]
    },
    {
      "cell_type": "markdown",
      "metadata": {
        "id": "sl6dd5mQQUmo"
      },
      "source": [
        "### 8.Feature Engineering And Selection"
      ]
    },
    {
      "cell_type": "markdown",
      "metadata": {
        "id": "uevgtXK5Q8Nh"
      },
      "source": [
        "#### 8.1 Performing PCA Train Data"
      ]
    },
    {
      "cell_type": "code",
      "metadata": {
        "id": "l-RXMKGyeBzK"
      },
      "source": [
        "pca = PCA(random_state=42)"
      ],
      "execution_count": 50,
      "outputs": []
    },
    {
      "cell_type": "code",
      "metadata": {
        "colab": {
          "base_uri": "https://localhost:8080/"
        },
        "id": "Tmcd4HRJeGTm",
        "outputId": "545d8fec-3091-426e-c064-0035f7a628df"
      },
      "source": [
        "pca.fit(X_train2)"
      ],
      "execution_count": 51,
      "outputs": [
        {
          "output_type": "execute_result",
          "data": {
            "text/plain": [
              "PCA(copy=True, iterated_power='auto', n_components=None, random_state=42,\n",
              "    svd_solver='auto', tol=0.0, whiten=False)"
            ]
          },
          "metadata": {},
          "execution_count": 51
        }
      ]
    },
    {
      "cell_type": "code",
      "metadata": {
        "colab": {
          "base_uri": "https://localhost:8080/"
        },
        "id": "L4qYFhojeL2M",
        "outputId": "c7c9787a-4f0a-4e7b-82a0-96959c55b0e7"
      },
      "source": [
        "pca.components_"
      ],
      "execution_count": 52,
      "outputs": [
        {
          "output_type": "execute_result",
          "data": {
            "text/plain": [
              "array([[ 3.14882265e-01,  3.40406839e-01,  3.16322147e-01,\n",
              "         3.23848001e-01,  3.54962282e-01,  3.33198122e-01,\n",
              "         3.20344904e-01,  3.47143380e-01,  3.27716628e-01,\n",
              "         5.74712569e-02,  6.57688909e-02,  6.51930728e-02,\n",
              "         1.11902440e-02,  1.42444893e-02,  1.47520378e-02,\n",
              "         7.99710874e-03],\n",
              "       [ 9.54411073e-02,  1.03555511e-01,  1.08015405e-01,\n",
              "        -9.82271359e-02, -1.06243990e-01, -9.69950443e-02,\n",
              "        -9.16062840e-02, -1.00044819e-01, -9.05492816e-02,\n",
              "         4.27467424e-01,  4.50260436e-01,  4.42176419e-01,\n",
              "         3.36245842e-01,  3.39574753e-01,  3.18809489e-01,\n",
              "        -2.36868428e-02],\n",
              "       [-2.27043928e-02, -1.17744888e-02, -1.68346456e-02,\n",
              "         2.67421525e-02,  3.64807226e-02,  3.19625342e-02,\n",
              "         2.45801669e-02,  3.30109514e-02,  2.89747046e-02,\n",
              "        -3.41341022e-01, -3.49503856e-01, -3.14324236e-01,\n",
              "         4.45874761e-01,  4.95428146e-01,  4.58413637e-01,\n",
              "        -3.99832473e-02],\n",
              "       [-4.34258614e-01,  6.01930717e-02,  3.94004235e-01,\n",
              "        -4.41553998e-01,  4.07369295e-02,  3.87094135e-01,\n",
              "        -4.07780892e-01,  2.61992458e-02,  3.43635505e-01,\n",
              "        -7.84826859e-02,  2.37183182e-03,  6.61615931e-02,\n",
              "        -7.80198643e-02, -6.20758769e-03,  6.16790244e-02,\n",
              "         2.35827785e-02],\n",
              "       [ 4.75466958e-02,  3.06038770e-02,  4.60800125e-02,\n",
              "        -2.15487739e-02, -5.43298878e-02, -4.84479481e-02,\n",
              "         1.79065514e-02, -1.44947910e-02, -1.15270946e-02,\n",
              "        -2.18353648e-02, -1.96111941e-02, -1.07730077e-02,\n",
              "         1.87293282e-02,  2.61253302e-02,  1.61618841e-02,\n",
              "         9.92965494e-01],\n",
              "       [ 2.67682046e-01,  2.67216883e-01,  2.59034756e-01,\n",
              "         2.12982454e-01,  2.27036737e-01,  1.98267956e-01,\n",
              "        -4.30135524e-01, -4.78647855e-01, -4.62665158e-01,\n",
              "        -9.50550167e-02, -7.99732396e-02, -7.54689241e-02,\n",
              "        -2.86864122e-02, -4.51059634e-02, -3.59025421e-02,\n",
              "        -1.31337797e-02],\n",
              "       [-2.26884845e-01,  4.72220725e-01, -3.56056725e-01,\n",
              "        -1.72072645e-01,  4.03272554e-01, -1.77444768e-01,\n",
              "        -1.96816560e-01,  3.47406788e-01, -1.96398631e-01,\n",
              "        -5.37531042e-02,  1.50270404e-01, -6.89922895e-02,\n",
              "         1.63276488e-01,  1.47469114e-01, -3.12422791e-01,\n",
              "         2.80095352e-02],\n",
              "       [ 1.22052251e-01, -1.76588757e-01,  9.28829671e-02,\n",
              "        -1.74332739e-02, -1.45831390e-01,  1.45458602e-01,\n",
              "        -1.18562414e-02, -1.24007699e-01,  1.60886392e-01,\n",
              "        -1.87893810e-02, -5.19590223e-02,  3.56826515e-02,\n",
              "         6.61432333e-01, -1.76984777e-02, -6.47271873e-01,\n",
              "        -8.22843210e-03],\n",
              "       [-9.53072285e-02,  3.69579036e-02,  1.27367892e-01,\n",
              "         8.43407112e-02, -4.90803740e-02, -1.40733140e-01,\n",
              "         1.44272296e-01,  1.36718726e-03, -1.08936990e-01,\n",
              "        -6.90651590e-01,  2.46454655e-02,  6.44608835e-01,\n",
              "        -6.48436251e-02,  8.68065072e-02, -7.73548873e-02,\n",
              "        -2.15630611e-02],\n",
              "       [ 3.71431740e-01,  4.16315332e-01,  3.49379864e-01,\n",
              "        -4.14279591e-01, -3.76382684e-01, -4.06811338e-01,\n",
              "         4.65102037e-02,  9.72446412e-02,  3.81533475e-02,\n",
              "        -7.23459555e-02, -1.11096586e-01, -1.93185325e-01,\n",
              "        -6.97527044e-02, -2.91465077e-02, -6.77356076e-02,\n",
              "        -9.79352958e-02],\n",
              "       [-2.60163808e-04, -1.61433055e-02, -5.91072314e-03,\n",
              "         8.02230007e-02, -1.40179991e-01,  1.11431473e-01,\n",
              "         5.22966208e-02, -1.59872230e-01,  9.53762951e-02,\n",
              "         4.32623557e-02,  1.15955614e-01, -1.37373434e-01,\n",
              "        -4.31416220e-01,  7.53601513e-01, -3.68174743e-01,\n",
              "        -5.82397223e-03],\n",
              "       [ 4.25805305e-02, -7.64799655e-02,  4.33791226e-02,\n",
              "        -7.66241568e-02,  1.56653547e-01, -8.48578731e-02,\n",
              "        -8.09584152e-02,  1.58914133e-01, -9.73865575e-02,\n",
              "         3.83200941e-01, -7.46328919e-01,  4.02620106e-01,\n",
              "        -9.22468499e-02,  1.65682672e-01, -9.81724849e-02,\n",
              "         7.55798218e-04],\n",
              "       [ 5.93614875e-01, -1.60647697e-01, -4.12522660e-01,\n",
              "        -1.27758493e-01,  5.52460881e-02,  5.58724466e-02,\n",
              "        -4.63601176e-01,  9.84688560e-02,  3.46415279e-01,\n",
              "        -2.02686607e-01,  5.62297794e-02,  1.49838756e-01,\n",
              "        -1.05946961e-01,  2.54078970e-02,  7.63806066e-02,\n",
              "         1.08318708e-02],\n",
              "       [ 1.47544037e-01, -5.75761276e-01,  4.18310016e-01,\n",
              "        -1.21717748e-01,  2.92491142e-01, -1.55101484e-01,\n",
              "        -8.12551639e-02,  3.81543192e-01, -3.13760700e-01,\n",
              "        -6.48994734e-02,  2.27876267e-01, -1.61240812e-01,\n",
              "        -3.12415965e-02,  9.86513626e-02, -6.20759927e-02,\n",
              "         7.83382301e-04],\n",
              "       [ 1.98110743e-01, -1.17575042e-02, -2.00318475e-01,\n",
              "        -5.82064660e-01,  7.35280593e-02,  5.01536061e-01,\n",
              "         4.40623779e-01, -8.61124661e-02, -3.41695028e-01,\n",
              "        -4.78859945e-02,  2.31572864e-03,  5.31714297e-02,\n",
              "        -2.62149038e-02,  3.12433399e-03,  2.43630678e-02,\n",
              "         2.44985690e-03],\n",
              "       [ 1.01176287e-02, -6.98500637e-02,  5.13123728e-02,\n",
              "        -2.30359282e-01,  5.82286479e-01, -3.88290522e-01,\n",
              "         2.23469876e-01, -5.28550120e-01,  3.46006403e-01,\n",
              "        -2.39466452e-03,  1.49337074e-02, -1.07242756e-02,\n",
              "        -2.98008788e-03,  9.09680403e-03, -5.75258414e-03,\n",
              "        -4.89749465e-04]])"
            ]
          },
          "metadata": {},
          "execution_count": 52
        }
      ]
    },
    {
      "cell_type": "markdown",
      "metadata": {
        "id": "lTIg3xcwROUu"
      },
      "source": [
        "#### 8.2 Components From PCA"
      ]
    },
    {
      "cell_type": "code",
      "metadata": {
        "colab": {
          "base_uri": "https://localhost:8080/"
        },
        "id": "WTLKXApPeWrs",
        "outputId": "4bdd5f83-b4a3-411c-a951-3e5990da7f40"
      },
      "source": [
        "pca.components_"
      ],
      "execution_count": 53,
      "outputs": [
        {
          "output_type": "execute_result",
          "data": {
            "text/plain": [
              "array([[ 3.14882265e-01,  3.40406839e-01,  3.16322147e-01,\n",
              "         3.23848001e-01,  3.54962282e-01,  3.33198122e-01,\n",
              "         3.20344904e-01,  3.47143380e-01,  3.27716628e-01,\n",
              "         5.74712569e-02,  6.57688909e-02,  6.51930728e-02,\n",
              "         1.11902440e-02,  1.42444893e-02,  1.47520378e-02,\n",
              "         7.99710874e-03],\n",
              "       [ 9.54411073e-02,  1.03555511e-01,  1.08015405e-01,\n",
              "        -9.82271359e-02, -1.06243990e-01, -9.69950443e-02,\n",
              "        -9.16062840e-02, -1.00044819e-01, -9.05492816e-02,\n",
              "         4.27467424e-01,  4.50260436e-01,  4.42176419e-01,\n",
              "         3.36245842e-01,  3.39574753e-01,  3.18809489e-01,\n",
              "        -2.36868428e-02],\n",
              "       [-2.27043928e-02, -1.17744888e-02, -1.68346456e-02,\n",
              "         2.67421525e-02,  3.64807226e-02,  3.19625342e-02,\n",
              "         2.45801669e-02,  3.30109514e-02,  2.89747046e-02,\n",
              "        -3.41341022e-01, -3.49503856e-01, -3.14324236e-01,\n",
              "         4.45874761e-01,  4.95428146e-01,  4.58413637e-01,\n",
              "        -3.99832473e-02],\n",
              "       [-4.34258614e-01,  6.01930717e-02,  3.94004235e-01,\n",
              "        -4.41553998e-01,  4.07369295e-02,  3.87094135e-01,\n",
              "        -4.07780892e-01,  2.61992458e-02,  3.43635505e-01,\n",
              "        -7.84826859e-02,  2.37183182e-03,  6.61615931e-02,\n",
              "        -7.80198643e-02, -6.20758769e-03,  6.16790244e-02,\n",
              "         2.35827785e-02],\n",
              "       [ 4.75466958e-02,  3.06038770e-02,  4.60800125e-02,\n",
              "        -2.15487739e-02, -5.43298878e-02, -4.84479481e-02,\n",
              "         1.79065514e-02, -1.44947910e-02, -1.15270946e-02,\n",
              "        -2.18353648e-02, -1.96111941e-02, -1.07730077e-02,\n",
              "         1.87293282e-02,  2.61253302e-02,  1.61618841e-02,\n",
              "         9.92965494e-01],\n",
              "       [ 2.67682046e-01,  2.67216883e-01,  2.59034756e-01,\n",
              "         2.12982454e-01,  2.27036737e-01,  1.98267956e-01,\n",
              "        -4.30135524e-01, -4.78647855e-01, -4.62665158e-01,\n",
              "        -9.50550167e-02, -7.99732396e-02, -7.54689241e-02,\n",
              "        -2.86864122e-02, -4.51059634e-02, -3.59025421e-02,\n",
              "        -1.31337797e-02],\n",
              "       [-2.26884845e-01,  4.72220725e-01, -3.56056725e-01,\n",
              "        -1.72072645e-01,  4.03272554e-01, -1.77444768e-01,\n",
              "        -1.96816560e-01,  3.47406788e-01, -1.96398631e-01,\n",
              "        -5.37531042e-02,  1.50270404e-01, -6.89922895e-02,\n",
              "         1.63276488e-01,  1.47469114e-01, -3.12422791e-01,\n",
              "         2.80095352e-02],\n",
              "       [ 1.22052251e-01, -1.76588757e-01,  9.28829671e-02,\n",
              "        -1.74332739e-02, -1.45831390e-01,  1.45458602e-01,\n",
              "        -1.18562414e-02, -1.24007699e-01,  1.60886392e-01,\n",
              "        -1.87893810e-02, -5.19590223e-02,  3.56826515e-02,\n",
              "         6.61432333e-01, -1.76984777e-02, -6.47271873e-01,\n",
              "        -8.22843210e-03],\n",
              "       [-9.53072285e-02,  3.69579036e-02,  1.27367892e-01,\n",
              "         8.43407112e-02, -4.90803740e-02, -1.40733140e-01,\n",
              "         1.44272296e-01,  1.36718726e-03, -1.08936990e-01,\n",
              "        -6.90651590e-01,  2.46454655e-02,  6.44608835e-01,\n",
              "        -6.48436251e-02,  8.68065072e-02, -7.73548873e-02,\n",
              "        -2.15630611e-02],\n",
              "       [ 3.71431740e-01,  4.16315332e-01,  3.49379864e-01,\n",
              "        -4.14279591e-01, -3.76382684e-01, -4.06811338e-01,\n",
              "         4.65102037e-02,  9.72446412e-02,  3.81533475e-02,\n",
              "        -7.23459555e-02, -1.11096586e-01, -1.93185325e-01,\n",
              "        -6.97527044e-02, -2.91465077e-02, -6.77356076e-02,\n",
              "        -9.79352958e-02],\n",
              "       [-2.60163808e-04, -1.61433055e-02, -5.91072314e-03,\n",
              "         8.02230007e-02, -1.40179991e-01,  1.11431473e-01,\n",
              "         5.22966208e-02, -1.59872230e-01,  9.53762951e-02,\n",
              "         4.32623557e-02,  1.15955614e-01, -1.37373434e-01,\n",
              "        -4.31416220e-01,  7.53601513e-01, -3.68174743e-01,\n",
              "        -5.82397223e-03],\n",
              "       [ 4.25805305e-02, -7.64799655e-02,  4.33791226e-02,\n",
              "        -7.66241568e-02,  1.56653547e-01, -8.48578731e-02,\n",
              "        -8.09584152e-02,  1.58914133e-01, -9.73865575e-02,\n",
              "         3.83200941e-01, -7.46328919e-01,  4.02620106e-01,\n",
              "        -9.22468499e-02,  1.65682672e-01, -9.81724849e-02,\n",
              "         7.55798218e-04],\n",
              "       [ 5.93614875e-01, -1.60647697e-01, -4.12522660e-01,\n",
              "        -1.27758493e-01,  5.52460881e-02,  5.58724466e-02,\n",
              "        -4.63601176e-01,  9.84688560e-02,  3.46415279e-01,\n",
              "        -2.02686607e-01,  5.62297794e-02,  1.49838756e-01,\n",
              "        -1.05946961e-01,  2.54078970e-02,  7.63806066e-02,\n",
              "         1.08318708e-02],\n",
              "       [ 1.47544037e-01, -5.75761276e-01,  4.18310016e-01,\n",
              "        -1.21717748e-01,  2.92491142e-01, -1.55101484e-01,\n",
              "        -8.12551639e-02,  3.81543192e-01, -3.13760700e-01,\n",
              "        -6.48994734e-02,  2.27876267e-01, -1.61240812e-01,\n",
              "        -3.12415965e-02,  9.86513626e-02, -6.20759927e-02,\n",
              "         7.83382301e-04],\n",
              "       [ 1.98110743e-01, -1.17575042e-02, -2.00318475e-01,\n",
              "        -5.82064660e-01,  7.35280593e-02,  5.01536061e-01,\n",
              "         4.40623779e-01, -8.61124661e-02, -3.41695028e-01,\n",
              "        -4.78859945e-02,  2.31572864e-03,  5.31714297e-02,\n",
              "        -2.62149038e-02,  3.12433399e-03,  2.43630678e-02,\n",
              "         2.44985690e-03],\n",
              "       [ 1.01176287e-02, -6.98500637e-02,  5.13123728e-02,\n",
              "        -2.30359282e-01,  5.82286479e-01, -3.88290522e-01,\n",
              "         2.23469876e-01, -5.28550120e-01,  3.46006403e-01,\n",
              "        -2.39466452e-03,  1.49337074e-02, -1.07242756e-02,\n",
              "        -2.98008788e-03,  9.09680403e-03, -5.75258414e-03,\n",
              "        -4.89749465e-04]])"
            ]
          },
          "metadata": {},
          "execution_count": 53
        }
      ]
    },
    {
      "cell_type": "code",
      "metadata": {
        "colab": {
          "base_uri": "https://localhost:8080/"
        },
        "id": "r0tysAhmeZb-",
        "outputId": "d2dc32d3-ae7e-40d1-a3da-b71a1b464ae4"
      },
      "source": [
        "pca.explained_variance_ratio_"
      ],
      "execution_count": 54,
      "outputs": [
        {
          "output_type": "execute_result",
          "data": {
            "text/plain": [
              "array([0.37452116, 0.17453984, 0.12178424, 0.06600577, 0.06278585,\n",
              "       0.03541558, 0.03126428, 0.03019375, 0.02411034, 0.02038118,\n",
              "       0.0191816 , 0.01548383, 0.00879503, 0.00775652, 0.00509252,\n",
              "       0.00268852])"
            ]
          },
          "metadata": {},
          "execution_count": 54
        }
      ]
    },
    {
      "cell_type": "markdown",
      "metadata": {
        "id": "6N-qYGmoRZ9H"
      },
      "source": [
        "#### 8.3 Making Scree Plot For Explained Variance"
      ]
    },
    {
      "cell_type": "code",
      "metadata": {
        "id": "p0pZP5Eeeihx"
      },
      "source": [
        "var_cumu = np.cumsum(pca.explained_variance_ratio_)"
      ],
      "execution_count": 55,
      "outputs": []
    },
    {
      "cell_type": "code",
      "metadata": {
        "colab": {
          "base_uri": "https://localhost:8080/",
          "height": 483
        },
        "id": "5F04SwbNelwE",
        "outputId": "b2e34bfa-1d00-497f-c4a2-658ab9857087"
      },
      "source": [
        "fig = plt.figure(figsize=[12,8])\n",
        "plt.vlines(x=15, ymax=1, ymin=0, colors=\"r\", linestyles=\"--\")\n",
        "plt.hlines(y=0.95, xmax=30, xmin=0, colors=\"g\", linestyles=\"--\")\n",
        "plt.plot(var_cumu)\n",
        "plt.ylabel(\"Cumulative variance explained\")\n",
        "plt.show()\n"
      ],
      "execution_count": 56,
      "outputs": [
        {
          "output_type": "display_data",
          "data": {
            "image/png": "[encoded data removed]",
            "text/plain": [
              "<Figure size 864x576 with 1 Axes>"
            ]
          },
          "metadata": {
            "needs_background": "light"
          }
        }
      ]
    },
    {
      "cell_type": "markdown",
      "metadata": {
        "id": "F7FvLneuRn0o"
      },
      "source": [
        "#### 8.4 Perform PCA With 10 Components"
      ]
    },
    {
      "cell_type": "code",
      "metadata": {
        "id": "ZSjBkoCfe0Z1"
      },
      "source": [
        "pca_final = IncrementalPCA(n_components=10)"
      ],
      "execution_count": 57,
      "outputs": []
    },
    {
      "cell_type": "code",
      "metadata": {
        "id": "PTKcx0Sfe2pS"
      },
      "source": [
        "df_train_pca = pca_final.fit_transform(X_train2)"
      ],
      "execution_count": 58,
      "outputs": []
    },
    {
      "cell_type": "code",
      "metadata": {
        "colab": {
          "base_uri": "https://localhost:8080/"
        },
        "id": "BI784o5Oe4o8",
        "outputId": "38e55e5b-d7b3-4228-a5d6-cf46f488014e"
      },
      "source": [
        "df_train_pca.shape"
      ],
      "execution_count": 59,
      "outputs": [
        {
          "output_type": "execute_result",
          "data": {
            "text/plain": [
              "(55999, 10)"
            ]
          },
          "metadata": {},
          "execution_count": 59
        }
      ]
    },
    {
      "cell_type": "code",
      "metadata": {
        "id": "CD4Pxt5ce6Xz"
      },
      "source": [
        "corrmat = np.corrcoef(df_train_pca.transpose())"
      ],
      "execution_count": 70,
      "outputs": []
    },
    {
      "cell_type": "code",
      "metadata": {
        "colab": {
          "base_uri": "https://localhost:8080/"
        },
        "id": "0oFMt-Aoe8A0",
        "outputId": "9582200c-6d57-46b4-9507-6dcf45d19ca9"
      },
      "source": [
        "corrmat.shape"
      ],
      "execution_count": 71,
      "outputs": [
        {
          "output_type": "execute_result",
          "data": {
            "text/plain": [
              "(10, 10)"
            ]
          },
          "metadata": {},
          "execution_count": 71
        }
      ]
    },
    {
      "cell_type": "markdown",
      "metadata": {
        "id": "hMU8DkigR2W0"
      },
      "source": [
        "#### 8.5 Plotting Heatmap For Corr Matrix"
      ]
    },
    {
      "cell_type": "code",
      "metadata": {
        "colab": {
          "base_uri": "https://localhost:8080/",
          "height": 884
        },
        "id": "uEEVfsOQfD8p",
        "outputId": "a3f38910-e2e2-419f-a5b6-27f90fdc69d5"
      },
      "source": [
        "plt.figure(figsize=[15,15])\n",
        "sns.heatmap(corrmat, annot=True)"
      ],
      "execution_count": 72,
      "outputs": [
        {
          "output_type": "execute_result",
          "data": {
            "text/plain": [
              "<matplotlib.axes._subplots.AxesSubplot at 0x7fce7f8d5410>"
            ]
          },
          "metadata": {},
          "execution_count": 72
        },
        {
          "output_type": "display_data",
          "data": {
            "image/png": "[encoded data removed]",
            "text/plain": [
              "<Figure size 1080x1080 with 2 Axes>"
            ]
          },
          "metadata": {
            "needs_background": "light"
          }
        }
      ]
    },
    {
      "cell_type": "markdown",
      "metadata": {
        "id": "LXf-SLDRSOHy"
      },
      "source": [
        "#### 8.6 Applying Transformation On Test Set"
      ]
    },
    {
      "cell_type": "code",
      "metadata": {
        "colab": {
          "base_uri": "https://localhost:8080/"
        },
        "id": "lLH23c3LfKEp",
        "outputId": "8ed19b5a-91cc-43b7-8a6c-1074087eba7a"
      },
      "source": [
        "df_test_pca = pca_final.transform(X_test)\n",
        "df_test_pca.shape"
      ],
      "execution_count": 73,
      "outputs": [
        {
          "output_type": "execute_result",
          "data": {
            "text/plain": [
              "(14000, 10)"
            ]
          },
          "metadata": {},
          "execution_count": 73
        }
      ]
    },
    {
      "cell_type": "markdown",
      "metadata": {
        "id": "F6zQRRavSe4G"
      },
      "source": [
        "#### 8.7 Applying Logistic Regression On Data of Principal Components"
      ]
    },
    {
      "cell_type": "code",
      "metadata": {
        "id": "9zBh5xxPfO8Y"
      },
      "source": [
        "learner_pca = LogisticRegression()"
      ],
      "execution_count": 74,
      "outputs": []
    },
    {
      "cell_type": "code",
      "metadata": {
        "id": "g7jAx_WofSD0"
      },
      "source": [
        "model_pca = learner_pca.fit(df_train_pca, y_train)"
      ],
      "execution_count": 75,
      "outputs": []
    },
    {
      "cell_type": "code",
      "metadata": {
        "id": "qwJzYvt_fUFs"
      },
      "source": [
        "pred_probs_train = model_pca.predict_proba(df_train_pca)"
      ],
      "execution_count": 76,
      "outputs": []
    },
    {
      "cell_type": "code",
      "metadata": {
        "colab": {
          "base_uri": "https://localhost:8080/"
        },
        "id": "euedJ4Uvfbv7",
        "outputId": "eca007eb-ed39-48a3-e8b9-eecadbba3840"
      },
      "source": [
        "pred_probs_train"
      ],
      "execution_count": 77,
      "outputs": [
        {
          "output_type": "execute_result",
          "data": {
            "text/plain": [
              "array([[9.75644946e-01, 2.43550537e-02],\n",
              "       [8.55267348e-01, 1.44732652e-01],\n",
              "       [9.33665034e-01, 6.63349658e-02],\n",
              "       ...,\n",
              "       [9.98604082e-01, 1.39591751e-03],\n",
              "       [9.99424605e-01, 5.75394665e-04],\n",
              "       [9.99809489e-01, 1.90511308e-04]])"
            ]
          },
          "metadata": {},
          "execution_count": 77
        }
      ]
    },
    {
      "cell_type": "markdown",
      "metadata": {
        "id": "X2ocyStcSyo5"
      },
      "source": [
        "#### 8.8 Making Predictions On Test Set"
      ]
    },
    {
      "cell_type": "code",
      "metadata": {
        "id": "Pq4LLB3xgE2m"
      },
      "source": [
        "pred_probs_test = model_pca.predict_proba(df_test_pca)"
      ],
      "execution_count": 78,
      "outputs": []
    },
    {
      "cell_type": "code",
      "metadata": {
        "colab": {
          "base_uri": "https://localhost:8080/",
          "height": 36
        },
        "id": "9fWXOPPigI_R",
        "outputId": "c7272c60-ba57-477c-c2e0-4af207793c60"
      },
      "source": [
        "\"{:2.2}\".format(metrics.roc_auc_score(y_test, pred_probs_test[:,1]))"
      ],
      "execution_count": 79,
      "outputs": [
        {
          "output_type": "execute_result",
          "data": {
            "application/vnd.google.colaboratory.intrinsic+json": {
              "type": "string"
            },
            "text/plain": [
              "'0.76'"
            ]
          },
          "metadata": {},
          "execution_count": 79
        }
      ]
    },
    {
      "cell_type": "markdown",
      "metadata": {
        "id": "nO2H_w3nS8qJ"
      },
      "source": [
        "#### 8.9 Train PCA score"
      ]
    },
    {
      "cell_type": "code",
      "metadata": {
        "colab": {
          "base_uri": "https://localhost:8080/"
        },
        "id": "DxE932-dgKvX",
        "outputId": "2fdb23b0-c7f1-4de4-80b0-62a511eb5526"
      },
      "source": [
        "learner_pca.score(df_train_pca, y_train)"
      ],
      "execution_count": 80,
      "outputs": [
        {
          "output_type": "execute_result",
          "data": {
            "text/plain": [
              "0.8996232075572778"
            ]
          },
          "metadata": {},
          "execution_count": 80
        }
      ]
    },
    {
      "cell_type": "markdown",
      "metadata": {
        "id": "Bmq328k3TEz4"
      },
      "source": [
        "#### 8.10 Test PCA score"
      ]
    },
    {
      "cell_type": "code",
      "metadata": {
        "colab": {
          "base_uri": "https://localhost:8080/"
        },
        "id": "mlf5VrVZgTxE",
        "outputId": "00bb7417-9ffe-489c-a67c-2d7110b55210"
      },
      "source": [
        "learner_pca.score(df_test_pca, y_test)"
      ],
      "execution_count": 81,
      "outputs": [
        {
          "output_type": "execute_result",
          "data": {
            "text/plain": [
              "0.9005"
            ]
          },
          "metadata": {},
          "execution_count": 81
        }
      ]
    },
    {
      "cell_type": "markdown",
      "metadata": {
        "id": "g1igDhr-TK1c"
      },
      "source": [
        "### 9. Model Building"
      ]
    },
    {
      "cell_type": "markdown",
      "metadata": {
        "id": "eS9qnI9lTSWI"
      },
      "source": [
        "#### 9.1 Model Building Using Logistic Regression on Seen Data"
      ]
    },
    {
      "cell_type": "code",
      "metadata": {
        "id": "EAUQyYDkhG1A"
      },
      "source": [
        "# Build a Logistic Regression model using SKLearn \n",
        "Log_Reg = LogisticRegression()\n",
        "Log_Reg_Model = Log_Reg.fit(X_train2,y_train)"
      ],
      "execution_count": 82,
      "outputs": []
    },
    {
      "cell_type": "code",
      "metadata": {
        "id": "CUD3zPTGhXhy"
      },
      "source": [
        "pred_prob_logreg_train=Log_Reg_Model.predict_proba(X_train2)"
      ],
      "execution_count": 83,
      "outputs": []
    },
    {
      "cell_type": "code",
      "metadata": {
        "id": "wD_YmdLOiDIn"
      },
      "source": [
        "pred_prob_logreg_test=Log_Reg_Model.predict_proba(X_test)"
      ],
      "execution_count": 84,
      "outputs": []
    },
    {
      "cell_type": "code",
      "metadata": {
        "colab": {
          "base_uri": "https://localhost:8080/",
          "height": 204
        },
        "id": "5ZOYaeA1iGDX",
        "outputId": "eb97918f-c096-4ced-ddc8-a818445a0e1f"
      },
      "source": [
        "y_test_pred_df = pd.DataFrame(pred_prob_logreg_test)\n",
        "# Converting to column dataframe\n",
        "y_test_pred_final = y_test_pred_df.iloc[:,[1]]\n",
        "# Let's see the head\n",
        "y_test_pred_final.head()"
      ],
      "execution_count": 85,
      "outputs": [
        {
          "output_type": "execute_result",
          "data": {
            "text/html": [
              "<div>\n",
              "<style scoped>\n",
              "    .dataframe tbody tr th:only-of-type {\n",
              "        vertical-align: middle;\n",
              "    }\n",
              "\n",
              "    .dataframe tbody tr th {\n",
              "        vertical-align: top;\n",
              "    }\n",
              "\n",
              "    .dataframe thead th {\n",
              "        text-align: right;\n",
              "    }\n",
              "</style>\n",
              "<table border=\"1\" class=\"dataframe\">\n",
              "  <thead>\n",
              "    <tr style=\"text-align: right;\">\n",
              "      <th></th>\n",
              "      <th>1</th>\n",
              "    </tr>\n",
              "  </thead>\n",
              "  <tbody>\n",
              "    <tr>\n",
              "      <th>0</th>\n",
              "      <td>0.000000e+00</td>\n",
              "    </tr>\n",
              "    <tr>\n",
              "      <th>1</th>\n",
              "      <td>0.000000e+00</td>\n",
              "    </tr>\n",
              "    <tr>\n",
              "      <th>2</th>\n",
              "      <td>1.356353e-85</td>\n",
              "    </tr>\n",
              "    <tr>\n",
              "      <th>3</th>\n",
              "      <td>8.968213e-69</td>\n",
              "    </tr>\n",
              "    <tr>\n",
              "      <th>4</th>\n",
              "      <td>0.000000e+00</td>\n",
              "    </tr>\n",
              "  </tbody>\n",
              "</table>\n",
              "</div>"
            ],
            "text/plain": [
              "              1\n",
              "0  0.000000e+00\n",
              "1  0.000000e+00\n",
              "2  1.356353e-85\n",
              "3  8.968213e-69\n",
              "4  0.000000e+00"
            ]
          },
          "metadata": {},
          "execution_count": 85
        }
      ]
    },
    {
      "cell_type": "code",
      "metadata": {
        "colab": {
          "base_uri": "https://localhost:8080/",
          "height": 235
        },
        "id": "2mMJSChGiPV4",
        "outputId": "e4c8c588-f56f-40af-8042-ff67c0b2ec8b"
      },
      "source": [
        "y_test_final=pd.DataFrame(y_test)\n",
        "y_test_final.head()"
      ],
      "execution_count": 86,
      "outputs": [
        {
          "output_type": "execute_result",
          "data": {
            "text/html": [
              "<div>\n",
              "<style scoped>\n",
              "    .dataframe tbody tr th:only-of-type {\n",
              "        vertical-align: middle;\n",
              "    }\n",
              "\n",
              "    .dataframe tbody tr th {\n",
              "        vertical-align: top;\n",
              "    }\n",
              "\n",
              "    .dataframe thead th {\n",
              "        text-align: right;\n",
              "    }\n",
              "</style>\n",
              "<table border=\"1\" class=\"dataframe\">\n",
              "  <thead>\n",
              "    <tr style=\"text-align: right;\">\n",
              "      <th></th>\n",
              "      <th>churn_probability</th>\n",
              "    </tr>\n",
              "    <tr>\n",
              "      <th>id</th>\n",
              "      <th></th>\n",
              "    </tr>\n",
              "  </thead>\n",
              "  <tbody>\n",
              "    <tr>\n",
              "      <th>2039</th>\n",
              "      <td>0</td>\n",
              "    </tr>\n",
              "    <tr>\n",
              "      <th>50712</th>\n",
              "      <td>0</td>\n",
              "    </tr>\n",
              "    <tr>\n",
              "      <th>44634</th>\n",
              "      <td>1</td>\n",
              "    </tr>\n",
              "    <tr>\n",
              "      <th>34846</th>\n",
              "      <td>1</td>\n",
              "    </tr>\n",
              "    <tr>\n",
              "      <th>8109</th>\n",
              "      <td>0</td>\n",
              "    </tr>\n",
              "  </tbody>\n",
              "</table>\n",
              "</div>"
            ],
            "text/plain": [
              "       churn_probability\n",
              "id                      \n",
              "2039                   0\n",
              "50712                  0\n",
              "44634                  1\n",
              "34846                  1\n",
              "8109                   0"
            ]
          },
          "metadata": {},
          "execution_count": 86
        }
      ]
    },
    {
      "cell_type": "code",
      "metadata": {
        "id": "Ky0LpSoEi8X3"
      },
      "source": [
        "y_test_final.reset_index(inplace=True)"
      ],
      "execution_count": 87,
      "outputs": []
    },
    {
      "cell_type": "code",
      "metadata": {
        "colab": {
          "base_uri": "https://localhost:8080/",
          "height": 204
        },
        "id": "mI6Yq2SHjKBS",
        "outputId": "b1dc0348-fdb1-43cb-f8e2-0c4456efd406"
      },
      "source": [
        "y_test_final.head()"
      ],
      "execution_count": 88,
      "outputs": [
        {
          "output_type": "execute_result",
          "data": {
            "text/html": [
              "<div>\n",
              "<style scoped>\n",
              "    .dataframe tbody tr th:only-of-type {\n",
              "        vertical-align: middle;\n",
              "    }\n",
              "\n",
              "    .dataframe tbody tr th {\n",
              "        vertical-align: top;\n",
              "    }\n",
              "\n",
              "    .dataframe thead th {\n",
              "        text-align: right;\n",
              "    }\n",
              "</style>\n",
              "<table border=\"1\" class=\"dataframe\">\n",
              "  <thead>\n",
              "    <tr style=\"text-align: right;\">\n",
              "      <th></th>\n",
              "      <th>id</th>\n",
              "      <th>churn_probability</th>\n",
              "    </tr>\n",
              "  </thead>\n",
              "  <tbody>\n",
              "    <tr>\n",
              "      <th>0</th>\n",
              "      <td>2039</td>\n",
              "      <td>0</td>\n",
              "    </tr>\n",
              "    <tr>\n",
              "      <th>1</th>\n",
              "      <td>50712</td>\n",
              "      <td>0</td>\n",
              "    </tr>\n",
              "    <tr>\n",
              "      <th>2</th>\n",
              "      <td>44634</td>\n",
              "      <td>1</td>\n",
              "    </tr>\n",
              "    <tr>\n",
              "      <th>3</th>\n",
              "      <td>34846</td>\n",
              "      <td>1</td>\n",
              "    </tr>\n",
              "    <tr>\n",
              "      <th>4</th>\n",
              "      <td>8109</td>\n",
              "      <td>0</td>\n",
              "    </tr>\n",
              "  </tbody>\n",
              "</table>\n",
              "</div>"
            ],
            "text/plain": [
              "      id  churn_probability\n",
              "0   2039                  0\n",
              "1  50712                  0\n",
              "2  44634                  1\n",
              "3  34846                  1\n",
              "4   8109                  0"
            ]
          },
          "metadata": {},
          "execution_count": 88
        }
      ]
    },
    {
      "cell_type": "code",
      "metadata": {
        "colab": {
          "base_uri": "https://localhost:8080/",
          "height": 204
        },
        "id": "ODKJDAHzjN6U",
        "outputId": "03c8e279-02db-406e-bfbf-f4042e91e4e4"
      },
      "source": [
        "final_test=pd.concat([y_test_final,y_test_pred_final],axis=1)\n",
        "final_test.head()"
      ],
      "execution_count": 89,
      "outputs": [
        {
          "output_type": "execute_result",
          "data": {
            "text/html": [
              "<div>\n",
              "<style scoped>\n",
              "    .dataframe tbody tr th:only-of-type {\n",
              "        vertical-align: middle;\n",
              "    }\n",
              "\n",
              "    .dataframe tbody tr th {\n",
              "        vertical-align: top;\n",
              "    }\n",
              "\n",
              "    .dataframe thead th {\n",
              "        text-align: right;\n",
              "    }\n",
              "</style>\n",
              "<table border=\"1\" class=\"dataframe\">\n",
              "  <thead>\n",
              "    <tr style=\"text-align: right;\">\n",
              "      <th></th>\n",
              "      <th>id</th>\n",
              "      <th>churn_probability</th>\n",
              "      <th>1</th>\n",
              "    </tr>\n",
              "  </thead>\n",
              "  <tbody>\n",
              "    <tr>\n",
              "      <th>0</th>\n",
              "      <td>2039</td>\n",
              "      <td>0</td>\n",
              "      <td>0.000000e+00</td>\n",
              "    </tr>\n",
              "    <tr>\n",
              "      <th>1</th>\n",
              "      <td>50712</td>\n",
              "      <td>0</td>\n",
              "      <td>0.000000e+00</td>\n",
              "    </tr>\n",
              "    <tr>\n",
              "      <th>2</th>\n",
              "      <td>44634</td>\n",
              "      <td>1</td>\n",
              "      <td>1.356353e-85</td>\n",
              "    </tr>\n",
              "    <tr>\n",
              "      <th>3</th>\n",
              "      <td>34846</td>\n",
              "      <td>1</td>\n",
              "      <td>8.968213e-69</td>\n",
              "    </tr>\n",
              "    <tr>\n",
              "      <th>4</th>\n",
              "      <td>8109</td>\n",
              "      <td>0</td>\n",
              "      <td>0.000000e+00</td>\n",
              "    </tr>\n",
              "  </tbody>\n",
              "</table>\n",
              "</div>"
            ],
            "text/plain": [
              "      id  churn_probability             1\n",
              "0   2039                  0  0.000000e+00\n",
              "1  50712                  0  0.000000e+00\n",
              "2  44634                  1  1.356353e-85\n",
              "3  34846                  1  8.968213e-69\n",
              "4   8109                  0  0.000000e+00"
            ]
          },
          "metadata": {},
          "execution_count": 89
        }
      ]
    },
    {
      "cell_type": "code",
      "metadata": {
        "id": "XbmDboSxjQPe"
      },
      "source": [
        "final_test= final_test.rename(columns={ 1 : 'Churn_pred_Prob'})"
      ],
      "execution_count": 90,
      "outputs": []
    },
    {
      "cell_type": "code",
      "metadata": {
        "colab": {
          "base_uri": "https://localhost:8080/",
          "height": 204
        },
        "id": "aubg9Rd4jSf2",
        "outputId": "4ad04150-467e-4e6f-918a-2c031166cb4b"
      },
      "source": [
        "final_test.head()"
      ],
      "execution_count": 91,
      "outputs": [
        {
          "output_type": "execute_result",
          "data": {
            "text/html": [
              "<div>\n",
              "<style scoped>\n",
              "    .dataframe tbody tr th:only-of-type {\n",
              "        vertical-align: middle;\n",
              "    }\n",
              "\n",
              "    .dataframe tbody tr th {\n",
              "        vertical-align: top;\n",
              "    }\n",
              "\n",
              "    .dataframe thead th {\n",
              "        text-align: right;\n",
              "    }\n",
              "</style>\n",
              "<table border=\"1\" class=\"dataframe\">\n",
              "  <thead>\n",
              "    <tr style=\"text-align: right;\">\n",
              "      <th></th>\n",
              "      <th>id</th>\n",
              "      <th>churn_probability</th>\n",
              "      <th>Churn_pred_Prob</th>\n",
              "    </tr>\n",
              "  </thead>\n",
              "  <tbody>\n",
              "    <tr>\n",
              "      <th>0</th>\n",
              "      <td>2039</td>\n",
              "      <td>0</td>\n",
              "      <td>0.000000e+00</td>\n",
              "    </tr>\n",
              "    <tr>\n",
              "      <th>1</th>\n",
              "      <td>50712</td>\n",
              "      <td>0</td>\n",
              "      <td>0.000000e+00</td>\n",
              "    </tr>\n",
              "    <tr>\n",
              "      <th>2</th>\n",
              "      <td>44634</td>\n",
              "      <td>1</td>\n",
              "      <td>1.356353e-85</td>\n",
              "    </tr>\n",
              "    <tr>\n",
              "      <th>3</th>\n",
              "      <td>34846</td>\n",
              "      <td>1</td>\n",
              "      <td>8.968213e-69</td>\n",
              "    </tr>\n",
              "    <tr>\n",
              "      <th>4</th>\n",
              "      <td>8109</td>\n",
              "      <td>0</td>\n",
              "      <td>0.000000e+00</td>\n",
              "    </tr>\n",
              "  </tbody>\n",
              "</table>\n",
              "</div>"
            ],
            "text/plain": [
              "      id  churn_probability  Churn_pred_Prob\n",
              "0   2039                  0     0.000000e+00\n",
              "1  50712                  0     0.000000e+00\n",
              "2  44634                  1     1.356353e-85\n",
              "3  34846                  1     8.968213e-69\n",
              "4   8109                  0     0.000000e+00"
            ]
          },
          "metadata": {},
          "execution_count": 91
        }
      ]
    },
    {
      "cell_type": "code",
      "metadata": {
        "colab": {
          "base_uri": "https://localhost:8080/",
          "height": 204
        },
        "id": "Eqqu2XDajUZv",
        "outputId": "8be9d39d-1079-48e6-fce6-ff0c07f8d2a3"
      },
      "source": [
        "# Creating new column 'predicted' with 1 if Churn_Prob>0.5 else 0\n",
        "final_test['predicted'] = final_test.Churn_pred_Prob.map( lambda x: 1 if x > 0.5 else 0)\n",
        "# Let's see the head\n",
        "final_test.head()"
      ],
      "execution_count": 92,
      "outputs": [
        {
          "output_type": "execute_result",
          "data": {
            "text/html": [
              "<div>\n",
              "<style scoped>\n",
              "    .dataframe tbody tr th:only-of-type {\n",
              "        vertical-align: middle;\n",
              "    }\n",
              "\n",
              "    .dataframe tbody tr th {\n",
              "        vertical-align: top;\n",
              "    }\n",
              "\n",
              "    .dataframe thead th {\n",
              "        text-align: right;\n",
              "    }\n",
              "</style>\n",
              "<table border=\"1\" class=\"dataframe\">\n",
              "  <thead>\n",
              "    <tr style=\"text-align: right;\">\n",
              "      <th></th>\n",
              "      <th>id</th>\n",
              "      <th>churn_probability</th>\n",
              "      <th>Churn_pred_Prob</th>\n",
              "      <th>predicted</th>\n",
              "    </tr>\n",
              "  </thead>\n",
              "  <tbody>\n",
              "    <tr>\n",
              "      <th>0</th>\n",
              "      <td>2039</td>\n",
              "      <td>0</td>\n",
              "      <td>0.000000e+00</td>\n",
              "      <td>0</td>\n",
              "    </tr>\n",
              "    <tr>\n",
              "      <th>1</th>\n",
              "      <td>50712</td>\n",
              "      <td>0</td>\n",
              "      <td>0.000000e+00</td>\n",
              "      <td>0</td>\n",
              "    </tr>\n",
              "    <tr>\n",
              "      <th>2</th>\n",
              "      <td>44634</td>\n",
              "      <td>1</td>\n",
              "      <td>1.356353e-85</td>\n",
              "      <td>0</td>\n",
              "    </tr>\n",
              "    <tr>\n",
              "      <th>3</th>\n",
              "      <td>34846</td>\n",
              "      <td>1</td>\n",
              "      <td>8.968213e-69</td>\n",
              "      <td>0</td>\n",
              "    </tr>\n",
              "    <tr>\n",
              "      <th>4</th>\n",
              "      <td>8109</td>\n",
              "      <td>0</td>\n",
              "      <td>0.000000e+00</td>\n",
              "      <td>0</td>\n",
              "    </tr>\n",
              "  </tbody>\n",
              "</table>\n",
              "</div>"
            ],
            "text/plain": [
              "      id  churn_probability  Churn_pred_Prob  predicted\n",
              "0   2039                  0     0.000000e+00          0\n",
              "1  50712                  0     0.000000e+00          0\n",
              "2  44634                  1     1.356353e-85          0\n",
              "3  34846                  1     8.968213e-69          0\n",
              "4   8109                  0     0.000000e+00          0"
            ]
          },
          "metadata": {},
          "execution_count": 92
        }
      ]
    },
    {
      "cell_type": "code",
      "metadata": {
        "colab": {
          "base_uri": "https://localhost:8080/"
        },
        "id": "8XAauPf6jZEt",
        "outputId": "35f49431-f80a-49de-bd26-52457c0fb817"
      },
      "source": [
        "# Let's check the overall accuracy.\n",
        "metrics.accuracy_score(final_test['churn_probability'], final_test['predicted'])"
      ],
      "execution_count": 93,
      "outputs": [
        {
          "output_type": "execute_result",
          "data": {
            "text/plain": [
              "0.9111428571428571"
            ]
          },
          "metadata": {},
          "execution_count": 93
        }
      ]
    },
    {
      "cell_type": "code",
      "metadata": {
        "colab": {
          "base_uri": "https://localhost:8080/"
        },
        "id": "O8mpODuXjnC4",
        "outputId": "72d0c091-5fe4-49ae-ba3d-77d5a49660ba"
      },
      "source": [
        "## Let's make a confusion matrix to analyze how each class is being predicted by the model.\n",
        "\n",
        "confusion_matrix(final_test['churn_probability'], final_test['predicted'])"
      ],
      "execution_count": 94,
      "outputs": [
        {
          "output_type": "execute_result",
          "data": {
            "text/plain": [
              "array([[12338,   235],\n",
              "       [ 1009,   418]])"
            ]
          },
          "metadata": {},
          "execution_count": 94
        }
      ]
    },
    {
      "cell_type": "code",
      "metadata": {
        "colab": {
          "base_uri": "https://localhost:8080/"
        },
        "id": "S0mu0KPGjp1p",
        "outputId": "1996a0ed-b244-415a-b333-ffd8068dc5e8"
      },
      "source": [
        "precision_score(final_test['churn_probability'], final_test['predicted'])"
      ],
      "execution_count": 95,
      "outputs": [
        {
          "output_type": "execute_result",
          "data": {
            "text/plain": [
              "0.6401225114854517"
            ]
          },
          "metadata": {},
          "execution_count": 95
        }
      ]
    },
    {
      "cell_type": "code",
      "metadata": {
        "colab": {
          "base_uri": "https://localhost:8080/"
        },
        "id": "HtqHyIXGjsQm",
        "outputId": "873e4b2c-550e-460a-a74c-05148234b4fa"
      },
      "source": [
        "recall_score(final_test['churn_probability'], final_test['predicted'])"
      ],
      "execution_count": 96,
      "outputs": [
        {
          "output_type": "execute_result",
          "data": {
            "text/plain": [
              "0.29292221443587946"
            ]
          },
          "metadata": {},
          "execution_count": 96
        }
      ]
    },
    {
      "cell_type": "code",
      "metadata": {
        "id": "T_0I_6yXjugD"
      },
      "source": [
        "def draw_roc( actual, probs ):\n",
        "    fpr, tpr, thresholds = metrics.roc_curve( actual, probs,\n",
        "                                              drop_intermediate = False )\n",
        "    auc_score = metrics.roc_auc_score( actual, probs )\n",
        "    plt.figure(figsize=(6, 6))\n",
        "    plt.plot( fpr, tpr, label='ROC curve (area = %0.2f)' % auc_score )\n",
        "    plt.plot([0, 1], [0, 1], 'k--')\n",
        "    plt.xlim([0.0, 1.0])\n",
        "    plt.ylim([0.0, 1.05])\n",
        "    plt.xlabel('False Positive Rate or [1 - True Negative Rate]')\n",
        "    plt.ylabel('True Positive Rate')\n",
        "    plt.title('Receiver operating characteristic example')\n",
        "    plt.legend(loc=\"lower right\")\n",
        "    plt.show()\n",
        "\n",
        "    return fpr, tpr, thresholds"
      ],
      "execution_count": 98,
      "outputs": []
    },
    {
      "cell_type": "code",
      "metadata": {
        "colab": {
          "base_uri": "https://localhost:8080/",
          "height": 458
        },
        "id": "netX6vMFkDfg",
        "outputId": "a24a9079-7be0-4920-9a46-4d1934ac49b0"
      },
      "source": [
        "draw_roc(final_test['churn_probability'], final_test['predicted'])"
      ],
      "execution_count": 99,
      "outputs": [
        {
          "output_type": "display_data",
          "data": {
            "image/png": "[encoded data removed]",
            "text/plain": [
              "<Figure size 432x432 with 1 Axes>"
            ]
          },
          "metadata": {
            "needs_background": "light"
          }
        },
        {
          "output_type": "execute_result",
          "data": {
            "text/plain": [
              "(array([0.        , 0.01869085, 1.        ]),\n",
              " array([0.        , 0.29292221, 1.        ]),\n",
              " array([2, 1, 0]))"
            ]
          },
          "metadata": {},
          "execution_count": 99
        }
      ]
    },
    {
      "cell_type": "markdown",
      "metadata": {
        "id": "K8K08KGNT5gC"
      },
      "source": [
        "9.2 Model Building Using Logistic Regression on Unseen Data"
      ]
    },
    {
      "cell_type": "code",
      "metadata": {
        "colab": {
          "base_uri": "https://localhost:8080/"
        },
        "id": "1WvijVYjlBqu",
        "outputId": "de21a0bf-408e-4e91-ecc4-89be54204021"
      },
      "source": [
        "telecom_churn_test.shape"
      ],
      "execution_count": 100,
      "outputs": [
        {
          "output_type": "execute_result",
          "data": {
            "text/plain": [
              "(30000, 171)"
            ]
          },
          "metadata": {},
          "execution_count": 100
        }
      ]
    },
    {
      "cell_type": "code",
      "metadata": {
        "colab": {
          "base_uri": "https://localhost:8080/"
        },
        "id": "qeJ4jF5RlGYu",
        "outputId": "ec5a05cb-e27b-4a47-90ca-24e42946c14e"
      },
      "source": [
        "new_vars=X_train2.columns\n",
        "new_vars"
      ],
      "execution_count": 101,
      "outputs": [
        {
          "output_type": "execute_result",
          "data": {
            "text/plain": [
              "Index(['total_rech_amt_6', 'total_rech_amt_7', 'total_rech_amt_8',\n",
              "       'total_og_mou_6', 'total_og_mou_7', 'total_og_mou_8', 'offnet_mou_6',\n",
              "       'offnet_mou_7', 'offnet_mou_8', 'vol_3g_mb_6', 'vol_3g_mb_7',\n",
              "       'vol_3g_mb_8', 'vol_2g_mb_6', 'vol_2g_mb_7', 'vol_2g_mb_8', 'aon'],\n",
              "      dtype='object')"
            ]
          },
          "metadata": {},
          "execution_count": 101
        }
      ]
    },
    {
      "cell_type": "code",
      "metadata": {
        "id": "h1pZIZtR1qOt",
        "colab": {
          "base_uri": "https://localhost:8080/"
        },
        "outputId": "24e8be1b-ae29-4ca4-b791-90fea6c753b2"
      },
      "source": [
        "submission_data = telecom_churn_test.set_index('id')[new_vars]\n",
        "submission_data.shape\n"
      ],
      "execution_count": 102,
      "outputs": [
        {
          "output_type": "execute_result",
          "data": {
            "text/plain": [
              "(30000, 16)"
            ]
          },
          "metadata": {},
          "execution_count": 102
        }
      ]
    },
    {
      "cell_type": "code",
      "metadata": {
        "id": "8aNDpuXm13En",
        "colab": {
          "base_uri": "https://localhost:8080/"
        },
        "outputId": "de1c18fb-f673-4453-e3a5-ae2c368b0195"
      },
      "source": [
        "submission_data.isnull().sum()/len(submission_data)"
      ],
      "execution_count": 103,
      "outputs": [
        {
          "output_type": "execute_result",
          "data": {
            "text/plain": [
              "total_rech_amt_6    0.000000\n",
              "total_rech_amt_7    0.000000\n",
              "total_rech_amt_8    0.000000\n",
              "total_og_mou_6      0.000000\n",
              "total_og_mou_7      0.000000\n",
              "total_og_mou_8      0.000000\n",
              "offnet_mou_6        0.038967\n",
              "offnet_mou_7        0.039067\n",
              "offnet_mou_8        0.055833\n",
              "vol_3g_mb_6         0.000000\n",
              "vol_3g_mb_7         0.000000\n",
              "vol_3g_mb_8         0.000000\n",
              "vol_2g_mb_6         0.000000\n",
              "vol_2g_mb_7         0.000000\n",
              "vol_2g_mb_8         0.000000\n",
              "aon                 0.000000\n",
              "dtype: float64"
            ]
          },
          "metadata": {},
          "execution_count": 103
        }
      ]
    },
    {
      "cell_type": "code",
      "metadata": {
        "id": "lmqIqI9714Yb",
        "colab": {
          "base_uri": "https://localhost:8080/"
        },
        "outputId": "fa99d131-82b2-489d-ff06-eb96d758fd9f"
      },
      "source": [
        "submission_data.isnull().sum()/len(submission_data)"
      ],
      "execution_count": 104,
      "outputs": [
        {
          "output_type": "execute_result",
          "data": {
            "text/plain": [
              "total_rech_amt_6    0.000000\n",
              "total_rech_amt_7    0.000000\n",
              "total_rech_amt_8    0.000000\n",
              "total_og_mou_6      0.000000\n",
              "total_og_mou_7      0.000000\n",
              "total_og_mou_8      0.000000\n",
              "offnet_mou_6        0.038967\n",
              "offnet_mou_7        0.039067\n",
              "offnet_mou_8        0.055833\n",
              "vol_3g_mb_6         0.000000\n",
              "vol_3g_mb_7         0.000000\n",
              "vol_3g_mb_8         0.000000\n",
              "vol_2g_mb_6         0.000000\n",
              "vol_2g_mb_7         0.000000\n",
              "vol_2g_mb_8         0.000000\n",
              "aon                 0.000000\n",
              "dtype: float64"
            ]
          },
          "metadata": {},
          "execution_count": 104
        }
      ]
    },
    {
      "cell_type": "code",
      "metadata": {
        "id": "uJmFhpKMCmFI"
      },
      "source": [
        "submission_data[offnet_missing_values]=median_imputation.fit_transform(submission_data[offnet_missing_values])"
      ],
      "execution_count": 105,
      "outputs": []
    },
    {
      "cell_type": "code",
      "metadata": {
        "id": "f7NKQ3ud19Kt"
      },
      "source": [
        "prob_telecom_churn_test = Log_Reg_Model.predict_proba(submission_data)"
      ],
      "execution_count": 106,
      "outputs": []
    },
    {
      "cell_type": "code",
      "metadata": {
        "id": "8Yvtv6hn2ATa",
        "colab": {
          "base_uri": "https://localhost:8080/"
        },
        "outputId": "8f2df4fb-bc9a-4909-92af-976e0172d0e9"
      },
      "source": [
        "prob_telecom_churn_test "
      ],
      "execution_count": 107,
      "outputs": [
        {
          "output_type": "execute_result",
          "data": {
            "text/plain": [
              "array([[1.00000000e+000, 0.00000000e+000],\n",
              "       [1.00000000e+000, 0.00000000e+000],\n",
              "       [1.00000000e+000, 0.00000000e+000],\n",
              "       ...,\n",
              "       [1.00000000e+000, 2.70794847e-211],\n",
              "       [1.00000000e+000, 4.45377422e-137],\n",
              "       [1.00000000e+000, 0.00000000e+000]])"
            ]
          },
          "metadata": {},
          "execution_count": 107
        }
      ]
    },
    {
      "cell_type": "code",
      "metadata": {
        "id": "469_0eXx2AXG",
        "colab": {
          "base_uri": "https://localhost:8080/",
          "height": 204
        },
        "outputId": "9d364031-1f76-407b-8f68-ddba0afe1fb0"
      },
      "source": [
        "prob_telecom_churn_test_df = pd.DataFrame(prob_telecom_churn_test)\n",
        "# Converting to column dataframe\n",
        "prob_telecom_churn_test_final = prob_telecom_churn_test_df.iloc[:,[1]]\n",
        "# Let's see the head\n",
        "prob_telecom_churn_test_final.head()"
      ],
      "execution_count": 108,
      "outputs": [
        {
          "output_type": "execute_result",
          "data": {
            "text/html": [
              "<div>\n",
              "<style scoped>\n",
              "    .dataframe tbody tr th:only-of-type {\n",
              "        vertical-align: middle;\n",
              "    }\n",
              "\n",
              "    .dataframe tbody tr th {\n",
              "        vertical-align: top;\n",
              "    }\n",
              "\n",
              "    .dataframe thead th {\n",
              "        text-align: right;\n",
              "    }\n",
              "</style>\n",
              "<table border=\"1\" class=\"dataframe\">\n",
              "  <thead>\n",
              "    <tr style=\"text-align: right;\">\n",
              "      <th></th>\n",
              "      <th>1</th>\n",
              "    </tr>\n",
              "  </thead>\n",
              "  <tbody>\n",
              "    <tr>\n",
              "      <th>0</th>\n",
              "      <td>0.000000e+00</td>\n",
              "    </tr>\n",
              "    <tr>\n",
              "      <th>1</th>\n",
              "      <td>0.000000e+00</td>\n",
              "    </tr>\n",
              "    <tr>\n",
              "      <th>2</th>\n",
              "      <td>0.000000e+00</td>\n",
              "    </tr>\n",
              "    <tr>\n",
              "      <th>3</th>\n",
              "      <td>5.428513e-258</td>\n",
              "    </tr>\n",
              "    <tr>\n",
              "      <th>4</th>\n",
              "      <td>0.000000e+00</td>\n",
              "    </tr>\n",
              "  </tbody>\n",
              "</table>\n",
              "</div>"
            ],
            "text/plain": [
              "               1\n",
              "0   0.000000e+00\n",
              "1   0.000000e+00\n",
              "2   0.000000e+00\n",
              "3  5.428513e-258\n",
              "4   0.000000e+00"
            ]
          },
          "metadata": {},
          "execution_count": 108
        }
      ]
    },
    {
      "cell_type": "code",
      "metadata": {
        "id": "cPlEE4JC2AZ7",
        "colab": {
          "base_uri": "https://localhost:8080/",
          "height": 255
        },
        "outputId": "f0f632dd-d617-4618-f132-22371c4a4327"
      },
      "source": [
        "submission_data.head()"
      ],
      "execution_count": 109,
      "outputs": [
        {
          "output_type": "execute_result",
          "data": {
            "text/html": [
              "<div>\n",
              "<style scoped>\n",
              "    .dataframe tbody tr th:only-of-type {\n",
              "        vertical-align: middle;\n",
              "    }\n",
              "\n",
              "    .dataframe tbody tr th {\n",
              "        vertical-align: top;\n",
              "    }\n",
              "\n",
              "    .dataframe thead th {\n",
              "        text-align: right;\n",
              "    }\n",
              "</style>\n",
              "<table border=\"1\" class=\"dataframe\">\n",
              "  <thead>\n",
              "    <tr style=\"text-align: right;\">\n",
              "      <th></th>\n",
              "      <th>total_rech_amt_6</th>\n",
              "      <th>total_rech_amt_7</th>\n",
              "      <th>total_rech_amt_8</th>\n",
              "      <th>total_og_mou_6</th>\n",
              "      <th>total_og_mou_7</th>\n",
              "      <th>total_og_mou_8</th>\n",
              "      <th>offnet_mou_6</th>\n",
              "      <th>offnet_mou_7</th>\n",
              "      <th>offnet_mou_8</th>\n",
              "      <th>vol_3g_mb_6</th>\n",
              "      <th>vol_3g_mb_7</th>\n",
              "      <th>vol_3g_mb_8</th>\n",
              "      <th>vol_2g_mb_6</th>\n",
              "      <th>vol_2g_mb_7</th>\n",
              "      <th>vol_2g_mb_8</th>\n",
              "      <th>aon</th>\n",
              "    </tr>\n",
              "    <tr>\n",
              "      <th>id</th>\n",
              "      <th></th>\n",
              "      <th></th>\n",
              "      <th></th>\n",
              "      <th></th>\n",
              "      <th></th>\n",
              "      <th></th>\n",
              "      <th></th>\n",
              "      <th></th>\n",
              "      <th></th>\n",
              "      <th></th>\n",
              "      <th></th>\n",
              "      <th></th>\n",
              "      <th></th>\n",
              "      <th></th>\n",
              "      <th></th>\n",
              "      <th></th>\n",
              "    </tr>\n",
              "  </thead>\n",
              "  <tbody>\n",
              "    <tr>\n",
              "      <th>69999</th>\n",
              "      <td>103</td>\n",
              "      <td>90</td>\n",
              "      <td>60</td>\n",
              "      <td>91.94</td>\n",
              "      <td>52.39</td>\n",
              "      <td>57.94</td>\n",
              "      <td>60.16</td>\n",
              "      <td>32.16</td>\n",
              "      <td>34.83</td>\n",
              "      <td>0.0</td>\n",
              "      <td>0.0</td>\n",
              "      <td>0.0</td>\n",
              "      <td>0.0</td>\n",
              "      <td>0.0</td>\n",
              "      <td>0.0</td>\n",
              "      <td>1692</td>\n",
              "    </tr>\n",
              "    <tr>\n",
              "      <th>70000</th>\n",
              "      <td>500</td>\n",
              "      <td>500</td>\n",
              "      <td>500</td>\n",
              "      <td>549.86</td>\n",
              "      <td>663.06</td>\n",
              "      <td>415.59</td>\n",
              "      <td>474.34</td>\n",
              "      <td>621.84</td>\n",
              "      <td>394.94</td>\n",
              "      <td>0.0</td>\n",
              "      <td>0.0</td>\n",
              "      <td>0.0</td>\n",
              "      <td>0.0</td>\n",
              "      <td>0.0</td>\n",
              "      <td>0.0</td>\n",
              "      <td>2533</td>\n",
              "    </tr>\n",
              "    <tr>\n",
              "      <th>70001</th>\n",
              "      <td>500</td>\n",
              "      <td>1000</td>\n",
              "      <td>1000</td>\n",
              "      <td>0.00</td>\n",
              "      <td>0.00</td>\n",
              "      <td>0.00</td>\n",
              "      <td>16.98</td>\n",
              "      <td>45.81</td>\n",
              "      <td>45.04</td>\n",
              "      <td>0.0</td>\n",
              "      <td>0.0</td>\n",
              "      <td>0.0</td>\n",
              "      <td>0.0</td>\n",
              "      <td>0.0</td>\n",
              "      <td>0.0</td>\n",
              "      <td>277</td>\n",
              "    </tr>\n",
              "    <tr>\n",
              "      <th>70002</th>\n",
              "      <td>110</td>\n",
              "      <td>260</td>\n",
              "      <td>0</td>\n",
              "      <td>45.36</td>\n",
              "      <td>207.18</td>\n",
              "      <td>24.01</td>\n",
              "      <td>40.04</td>\n",
              "      <td>205.01</td>\n",
              "      <td>24.01</td>\n",
              "      <td>0.0</td>\n",
              "      <td>0.0</td>\n",
              "      <td>0.0</td>\n",
              "      <td>0.0</td>\n",
              "      <td>0.0</td>\n",
              "      <td>0.0</td>\n",
              "      <td>1244</td>\n",
              "    </tr>\n",
              "    <tr>\n",
              "      <th>70003</th>\n",
              "      <td>356</td>\n",
              "      <td>490</td>\n",
              "      <td>546</td>\n",
              "      <td>514.79</td>\n",
              "      <td>638.28</td>\n",
              "      <td>779.78</td>\n",
              "      <td>60.94</td>\n",
              "      <td>23.84</td>\n",
              "      <td>74.16</td>\n",
              "      <td>0.0</td>\n",
              "      <td>0.0</td>\n",
              "      <td>0.0</td>\n",
              "      <td>0.0</td>\n",
              "      <td>0.0</td>\n",
              "      <td>0.0</td>\n",
              "      <td>462</td>\n",
              "    </tr>\n",
              "  </tbody>\n",
              "</table>\n",
              "</div>"
            ],
            "text/plain": [
              "       total_rech_amt_6  total_rech_amt_7  total_rech_amt_8  total_og_mou_6  \\\n",
              "id                                                                            \n",
              "69999               103                90                60           91.94   \n",
              "70000               500               500               500          549.86   \n",
              "70001               500              1000              1000            0.00   \n",
              "70002               110               260                 0           45.36   \n",
              "70003               356               490               546          514.79   \n",
              "\n",
              "       total_og_mou_7  total_og_mou_8  offnet_mou_6  offnet_mou_7  \\\n",
              "id                                                                  \n",
              "69999           52.39           57.94         60.16         32.16   \n",
              "70000          663.06          415.59        474.34        621.84   \n",
              "70001            0.00            0.00         16.98         45.81   \n",
              "70002          207.18           24.01         40.04        205.01   \n",
              "70003          638.28          779.78         60.94         23.84   \n",
              "\n",
              "       offnet_mou_8  vol_3g_mb_6  vol_3g_mb_7  vol_3g_mb_8  vol_2g_mb_6  \\\n",
              "id                                                                        \n",
              "69999         34.83          0.0          0.0          0.0          0.0   \n",
              "70000        394.94          0.0          0.0          0.0          0.0   \n",
              "70001         45.04          0.0          0.0          0.0          0.0   \n",
              "70002         24.01          0.0          0.0          0.0          0.0   \n",
              "70003         74.16          0.0          0.0          0.0          0.0   \n",
              "\n",
              "       vol_2g_mb_7  vol_2g_mb_8   aon  \n",
              "id                                     \n",
              "69999          0.0          0.0  1692  \n",
              "70000          0.0          0.0  2533  \n",
              "70001          0.0          0.0   277  \n",
              "70002          0.0          0.0  1244  \n",
              "70003          0.0          0.0   462  "
            ]
          },
          "metadata": {},
          "execution_count": 109
        }
      ]
    },
    {
      "cell_type": "code",
      "metadata": {
        "id": "RnfUMpgP2AdJ"
      },
      "source": [
        "submission_data.reset_index(inplace=True)"
      ],
      "execution_count": 110,
      "outputs": []
    },
    {
      "cell_type": "code",
      "metadata": {
        "id": "kCcJS13o2Lyw",
        "colab": {
          "base_uri": "https://localhost:8080/",
          "height": 438
        },
        "outputId": "987b45fd-663e-45b7-c06c-beb12b61f22e"
      },
      "source": [
        "submission_data"
      ],
      "execution_count": 111,
      "outputs": [
        {
          "output_type": "execute_result",
          "data": {
            "text/html": [
              "<div>\n",
              "<style scoped>\n",
              "    .dataframe tbody tr th:only-of-type {\n",
              "        vertical-align: middle;\n",
              "    }\n",
              "\n",
              "    .dataframe tbody tr th {\n",
              "        vertical-align: top;\n",
              "    }\n",
              "\n",
              "    .dataframe thead th {\n",
              "        text-align: right;\n",
              "    }\n",
              "</style>\n",
              "<table border=\"1\" class=\"dataframe\">\n",
              "  <thead>\n",
              "    <tr style=\"text-align: right;\">\n",
              "      <th></th>\n",
              "      <th>id</th>\n",
              "      <th>total_rech_amt_6</th>\n",
              "      <th>total_rech_amt_7</th>\n",
              "      <th>total_rech_amt_8</th>\n",
              "      <th>total_og_mou_6</th>\n",
              "      <th>total_og_mou_7</th>\n",
              "      <th>total_og_mou_8</th>\n",
              "      <th>offnet_mou_6</th>\n",
              "      <th>offnet_mou_7</th>\n",
              "      <th>offnet_mou_8</th>\n",
              "      <th>vol_3g_mb_6</th>\n",
              "      <th>vol_3g_mb_7</th>\n",
              "      <th>vol_3g_mb_8</th>\n",
              "      <th>vol_2g_mb_6</th>\n",
              "      <th>vol_2g_mb_7</th>\n",
              "      <th>vol_2g_mb_8</th>\n",
              "      <th>aon</th>\n",
              "    </tr>\n",
              "  </thead>\n",
              "  <tbody>\n",
              "    <tr>\n",
              "      <th>0</th>\n",
              "      <td>69999</td>\n",
              "      <td>103</td>\n",
              "      <td>90</td>\n",
              "      <td>60</td>\n",
              "      <td>91.94</td>\n",
              "      <td>52.39</td>\n",
              "      <td>57.94</td>\n",
              "      <td>60.16</td>\n",
              "      <td>32.16</td>\n",
              "      <td>34.83</td>\n",
              "      <td>0.00</td>\n",
              "      <td>0.00</td>\n",
              "      <td>0.00</td>\n",
              "      <td>0.00</td>\n",
              "      <td>0.00</td>\n",
              "      <td>0.00</td>\n",
              "      <td>1692</td>\n",
              "    </tr>\n",
              "    <tr>\n",
              "      <th>1</th>\n",
              "      <td>70000</td>\n",
              "      <td>500</td>\n",
              "      <td>500</td>\n",
              "      <td>500</td>\n",
              "      <td>549.86</td>\n",
              "      <td>663.06</td>\n",
              "      <td>415.59</td>\n",
              "      <td>474.34</td>\n",
              "      <td>621.84</td>\n",
              "      <td>394.94</td>\n",
              "      <td>0.00</td>\n",
              "      <td>0.00</td>\n",
              "      <td>0.00</td>\n",
              "      <td>0.00</td>\n",
              "      <td>0.00</td>\n",
              "      <td>0.00</td>\n",
              "      <td>2533</td>\n",
              "    </tr>\n",
              "    <tr>\n",
              "      <th>2</th>\n",
              "      <td>70001</td>\n",
              "      <td>500</td>\n",
              "      <td>1000</td>\n",
              "      <td>1000</td>\n",
              "      <td>0.00</td>\n",
              "      <td>0.00</td>\n",
              "      <td>0.00</td>\n",
              "      <td>16.98</td>\n",
              "      <td>45.81</td>\n",
              "      <td>45.04</td>\n",
              "      <td>0.00</td>\n",
              "      <td>0.00</td>\n",
              "      <td>0.00</td>\n",
              "      <td>0.00</td>\n",
              "      <td>0.00</td>\n",
              "      <td>0.00</td>\n",
              "      <td>277</td>\n",
              "    </tr>\n",
              "    <tr>\n",
              "      <th>3</th>\n",
              "      <td>70002</td>\n",
              "      <td>110</td>\n",
              "      <td>260</td>\n",
              "      <td>0</td>\n",
              "      <td>45.36</td>\n",
              "      <td>207.18</td>\n",
              "      <td>24.01</td>\n",
              "      <td>40.04</td>\n",
              "      <td>205.01</td>\n",
              "      <td>24.01</td>\n",
              "      <td>0.00</td>\n",
              "      <td>0.00</td>\n",
              "      <td>0.00</td>\n",
              "      <td>0.00</td>\n",
              "      <td>0.00</td>\n",
              "      <td>0.00</td>\n",
              "      <td>1244</td>\n",
              "    </tr>\n",
              "    <tr>\n",
              "      <th>4</th>\n",
              "      <td>70003</td>\n",
              "      <td>356</td>\n",
              "      <td>490</td>\n",
              "      <td>546</td>\n",
              "      <td>514.79</td>\n",
              "      <td>638.28</td>\n",
              "      <td>779.78</td>\n",
              "      <td>60.94</td>\n",
              "      <td>23.84</td>\n",
              "      <td>74.16</td>\n",
              "      <td>0.00</td>\n",
              "      <td>0.00</td>\n",
              "      <td>0.00</td>\n",
              "      <td>0.00</td>\n",
              "      <td>0.00</td>\n",
              "      <td>0.00</td>\n",
              "      <td>462</td>\n",
              "    </tr>\n",
              "    <tr>\n",
              "      <th>...</th>\n",
              "      <td>...</td>\n",
              "      <td>...</td>\n",
              "      <td>...</td>\n",
              "      <td>...</td>\n",
              "      <td>...</td>\n",
              "      <td>...</td>\n",
              "      <td>...</td>\n",
              "      <td>...</td>\n",
              "      <td>...</td>\n",
              "      <td>...</td>\n",
              "      <td>...</td>\n",
              "      <td>...</td>\n",
              "      <td>...</td>\n",
              "      <td>...</td>\n",
              "      <td>...</td>\n",
              "      <td>...</td>\n",
              "      <td>...</td>\n",
              "    </tr>\n",
              "    <tr>\n",
              "      <th>29995</th>\n",
              "      <td>99994</td>\n",
              "      <td>669</td>\n",
              "      <td>559</td>\n",
              "      <td>440</td>\n",
              "      <td>402.39</td>\n",
              "      <td>407.69</td>\n",
              "      <td>507.38</td>\n",
              "      <td>190.36</td>\n",
              "      <td>166.14</td>\n",
              "      <td>221.96</td>\n",
              "      <td>45.07</td>\n",
              "      <td>0.00</td>\n",
              "      <td>0.00</td>\n",
              "      <td>21.98</td>\n",
              "      <td>0.00</td>\n",
              "      <td>0.00</td>\n",
              "      <td>1255</td>\n",
              "    </tr>\n",
              "    <tr>\n",
              "      <th>29996</th>\n",
              "      <td>99995</td>\n",
              "      <td>317</td>\n",
              "      <td>298</td>\n",
              "      <td>496</td>\n",
              "      <td>364.03</td>\n",
              "      <td>591.36</td>\n",
              "      <td>840.03</td>\n",
              "      <td>108.53</td>\n",
              "      <td>124.11</td>\n",
              "      <td>189.76</td>\n",
              "      <td>0.00</td>\n",
              "      <td>0.00</td>\n",
              "      <td>0.00</td>\n",
              "      <td>0.00</td>\n",
              "      <td>0.00</td>\n",
              "      <td>0.00</td>\n",
              "      <td>2258</td>\n",
              "    </tr>\n",
              "    <tr>\n",
              "      <th>29997</th>\n",
              "      <td>99996</td>\n",
              "      <td>150</td>\n",
              "      <td>0</td>\n",
              "      <td>240</td>\n",
              "      <td>48.33</td>\n",
              "      <td>31.64</td>\n",
              "      <td>49.64</td>\n",
              "      <td>37.24</td>\n",
              "      <td>16.74</td>\n",
              "      <td>45.28</td>\n",
              "      <td>0.00</td>\n",
              "      <td>0.00</td>\n",
              "      <td>0.00</td>\n",
              "      <td>0.00</td>\n",
              "      <td>0.00</td>\n",
              "      <td>0.00</td>\n",
              "      <td>440</td>\n",
              "    </tr>\n",
              "    <tr>\n",
              "      <th>29998</th>\n",
              "      <td>99997</td>\n",
              "      <td>1286</td>\n",
              "      <td>876</td>\n",
              "      <td>307</td>\n",
              "      <td>1976.84</td>\n",
              "      <td>1112.11</td>\n",
              "      <td>332.63</td>\n",
              "      <td>1854.09</td>\n",
              "      <td>1088.83</td>\n",
              "      <td>306.16</td>\n",
              "      <td>0.00</td>\n",
              "      <td>0.00</td>\n",
              "      <td>0.00</td>\n",
              "      <td>0.00</td>\n",
              "      <td>0.00</td>\n",
              "      <td>0.00</td>\n",
              "      <td>810</td>\n",
              "    </tr>\n",
              "    <tr>\n",
              "      <th>29999</th>\n",
              "      <td>99998</td>\n",
              "      <td>275</td>\n",
              "      <td>865</td>\n",
              "      <td>130</td>\n",
              "      <td>6.05</td>\n",
              "      <td>192.71</td>\n",
              "      <td>218.11</td>\n",
              "      <td>107.78</td>\n",
              "      <td>241.53</td>\n",
              "      <td>331.64</td>\n",
              "      <td>194.85</td>\n",
              "      <td>3481.92</td>\n",
              "      <td>2338.07</td>\n",
              "      <td>282.87</td>\n",
              "      <td>195.34</td>\n",
              "      <td>171.07</td>\n",
              "      <td>440</td>\n",
              "    </tr>\n",
              "  </tbody>\n",
              "</table>\n",
              "<p>30000 rows × 17 columns</p>\n",
              "</div>"
            ],
            "text/plain": [
              "          id  total_rech_amt_6  total_rech_amt_7  total_rech_amt_8  \\\n",
              "0      69999               103                90                60   \n",
              "1      70000               500               500               500   \n",
              "2      70001               500              1000              1000   \n",
              "3      70002               110               260                 0   \n",
              "4      70003               356               490               546   \n",
              "...      ...               ...               ...               ...   \n",
              "29995  99994               669               559               440   \n",
              "29996  99995               317               298               496   \n",
              "29997  99996               150                 0               240   \n",
              "29998  99997              1286               876               307   \n",
              "29999  99998               275               865               130   \n",
              "\n",
              "       total_og_mou_6  total_og_mou_7  total_og_mou_8  offnet_mou_6  \\\n",
              "0               91.94           52.39           57.94         60.16   \n",
              "1              549.86          663.06          415.59        474.34   \n",
              "2                0.00            0.00            0.00         16.98   \n",
              "3               45.36          207.18           24.01         40.04   \n",
              "4              514.79          638.28          779.78         60.94   \n",
              "...               ...             ...             ...           ...   \n",
              "29995          402.39          407.69          507.38        190.36   \n",
              "29996          364.03          591.36          840.03        108.53   \n",
              "29997           48.33           31.64           49.64         37.24   \n",
              "29998         1976.84         1112.11          332.63       1854.09   \n",
              "29999            6.05          192.71          218.11        107.78   \n",
              "\n",
              "       offnet_mou_7  offnet_mou_8  vol_3g_mb_6  vol_3g_mb_7  vol_3g_mb_8  \\\n",
              "0             32.16         34.83         0.00         0.00         0.00   \n",
              "1            621.84        394.94         0.00         0.00         0.00   \n",
              "2             45.81         45.04         0.00         0.00         0.00   \n",
              "3            205.01         24.01         0.00         0.00         0.00   \n",
              "4             23.84         74.16         0.00         0.00         0.00   \n",
              "...             ...           ...          ...          ...          ...   \n",
              "29995        166.14        221.96        45.07         0.00         0.00   \n",
              "29996        124.11        189.76         0.00         0.00         0.00   \n",
              "29997         16.74         45.28         0.00         0.00         0.00   \n",
              "29998       1088.83        306.16         0.00         0.00         0.00   \n",
              "29999        241.53        331.64       194.85      3481.92      2338.07   \n",
              "\n",
              "       vol_2g_mb_6  vol_2g_mb_7  vol_2g_mb_8   aon  \n",
              "0             0.00         0.00         0.00  1692  \n",
              "1             0.00         0.00         0.00  2533  \n",
              "2             0.00         0.00         0.00   277  \n",
              "3             0.00         0.00         0.00  1244  \n",
              "4             0.00         0.00         0.00   462  \n",
              "...            ...          ...          ...   ...  \n",
              "29995        21.98         0.00         0.00  1255  \n",
              "29996         0.00         0.00         0.00  2258  \n",
              "29997         0.00         0.00         0.00   440  \n",
              "29998         0.00         0.00         0.00   810  \n",
              "29999       282.87       195.34       171.07   440  \n",
              "\n",
              "[30000 rows x 17 columns]"
            ]
          },
          "metadata": {},
          "execution_count": 111
        }
      ]
    },
    {
      "cell_type": "code",
      "metadata": {
        "id": "bwl5Bvpb2L1g",
        "colab": {
          "base_uri": "https://localhost:8080/",
          "height": 488
        },
        "outputId": "8baaaf51-a060-4c04-d5d6-66c01a6431cb"
      },
      "source": [
        "submission_data=pd.concat([submission_data,prob_telecom_churn_test_final],axis=1)\n",
        "submission_data"
      ],
      "execution_count": 112,
      "outputs": [
        {
          "output_type": "execute_result",
          "data": {
            "text/html": [
              "<div>\n",
              "<style scoped>\n",
              "    .dataframe tbody tr th:only-of-type {\n",
              "        vertical-align: middle;\n",
              "    }\n",
              "\n",
              "    .dataframe tbody tr th {\n",
              "        vertical-align: top;\n",
              "    }\n",
              "\n",
              "    .dataframe thead th {\n",
              "        text-align: right;\n",
              "    }\n",
              "</style>\n",
              "<table border=\"1\" class=\"dataframe\">\n",
              "  <thead>\n",
              "    <tr style=\"text-align: right;\">\n",
              "      <th></th>\n",
              "      <th>id</th>\n",
              "      <th>total_rech_amt_6</th>\n",
              "      <th>total_rech_amt_7</th>\n",
              "      <th>total_rech_amt_8</th>\n",
              "      <th>total_og_mou_6</th>\n",
              "      <th>total_og_mou_7</th>\n",
              "      <th>total_og_mou_8</th>\n",
              "      <th>offnet_mou_6</th>\n",
              "      <th>offnet_mou_7</th>\n",
              "      <th>offnet_mou_8</th>\n",
              "      <th>vol_3g_mb_6</th>\n",
              "      <th>vol_3g_mb_7</th>\n",
              "      <th>vol_3g_mb_8</th>\n",
              "      <th>vol_2g_mb_6</th>\n",
              "      <th>vol_2g_mb_7</th>\n",
              "      <th>vol_2g_mb_8</th>\n",
              "      <th>aon</th>\n",
              "      <th>1</th>\n",
              "    </tr>\n",
              "  </thead>\n",
              "  <tbody>\n",
              "    <tr>\n",
              "      <th>0</th>\n",
              "      <td>69999</td>\n",
              "      <td>103</td>\n",
              "      <td>90</td>\n",
              "      <td>60</td>\n",
              "      <td>91.94</td>\n",
              "      <td>52.39</td>\n",
              "      <td>57.94</td>\n",
              "      <td>60.16</td>\n",
              "      <td>32.16</td>\n",
              "      <td>34.83</td>\n",
              "      <td>0.00</td>\n",
              "      <td>0.00</td>\n",
              "      <td>0.00</td>\n",
              "      <td>0.00</td>\n",
              "      <td>0.00</td>\n",
              "      <td>0.00</td>\n",
              "      <td>1692</td>\n",
              "      <td>0.000000e+00</td>\n",
              "    </tr>\n",
              "    <tr>\n",
              "      <th>1</th>\n",
              "      <td>70000</td>\n",
              "      <td>500</td>\n",
              "      <td>500</td>\n",
              "      <td>500</td>\n",
              "      <td>549.86</td>\n",
              "      <td>663.06</td>\n",
              "      <td>415.59</td>\n",
              "      <td>474.34</td>\n",
              "      <td>621.84</td>\n",
              "      <td>394.94</td>\n",
              "      <td>0.00</td>\n",
              "      <td>0.00</td>\n",
              "      <td>0.00</td>\n",
              "      <td>0.00</td>\n",
              "      <td>0.00</td>\n",
              "      <td>0.00</td>\n",
              "      <td>2533</td>\n",
              "      <td>0.000000e+00</td>\n",
              "    </tr>\n",
              "    <tr>\n",
              "      <th>2</th>\n",
              "      <td>70001</td>\n",
              "      <td>500</td>\n",
              "      <td>1000</td>\n",
              "      <td>1000</td>\n",
              "      <td>0.00</td>\n",
              "      <td>0.00</td>\n",
              "      <td>0.00</td>\n",
              "      <td>16.98</td>\n",
              "      <td>45.81</td>\n",
              "      <td>45.04</td>\n",
              "      <td>0.00</td>\n",
              "      <td>0.00</td>\n",
              "      <td>0.00</td>\n",
              "      <td>0.00</td>\n",
              "      <td>0.00</td>\n",
              "      <td>0.00</td>\n",
              "      <td>277</td>\n",
              "      <td>0.000000e+00</td>\n",
              "    </tr>\n",
              "    <tr>\n",
              "      <th>3</th>\n",
              "      <td>70002</td>\n",
              "      <td>110</td>\n",
              "      <td>260</td>\n",
              "      <td>0</td>\n",
              "      <td>45.36</td>\n",
              "      <td>207.18</td>\n",
              "      <td>24.01</td>\n",
              "      <td>40.04</td>\n",
              "      <td>205.01</td>\n",
              "      <td>24.01</td>\n",
              "      <td>0.00</td>\n",
              "      <td>0.00</td>\n",
              "      <td>0.00</td>\n",
              "      <td>0.00</td>\n",
              "      <td>0.00</td>\n",
              "      <td>0.00</td>\n",
              "      <td>1244</td>\n",
              "      <td>5.428513e-258</td>\n",
              "    </tr>\n",
              "    <tr>\n",
              "      <th>4</th>\n",
              "      <td>70003</td>\n",
              "      <td>356</td>\n",
              "      <td>490</td>\n",
              "      <td>546</td>\n",
              "      <td>514.79</td>\n",
              "      <td>638.28</td>\n",
              "      <td>779.78</td>\n",
              "      <td>60.94</td>\n",
              "      <td>23.84</td>\n",
              "      <td>74.16</td>\n",
              "      <td>0.00</td>\n",
              "      <td>0.00</td>\n",
              "      <td>0.00</td>\n",
              "      <td>0.00</td>\n",
              "      <td>0.00</td>\n",
              "      <td>0.00</td>\n",
              "      <td>462</td>\n",
              "      <td>0.000000e+00</td>\n",
              "    </tr>\n",
              "    <tr>\n",
              "      <th>...</th>\n",
              "      <td>...</td>\n",
              "      <td>...</td>\n",
              "      <td>...</td>\n",
              "      <td>...</td>\n",
              "      <td>...</td>\n",
              "      <td>...</td>\n",
              "      <td>...</td>\n",
              "      <td>...</td>\n",
              "      <td>...</td>\n",
              "      <td>...</td>\n",
              "      <td>...</td>\n",
              "      <td>...</td>\n",
              "      <td>...</td>\n",
              "      <td>...</td>\n",
              "      <td>...</td>\n",
              "      <td>...</td>\n",
              "      <td>...</td>\n",
              "      <td>...</td>\n",
              "    </tr>\n",
              "    <tr>\n",
              "      <th>29995</th>\n",
              "      <td>99994</td>\n",
              "      <td>669</td>\n",
              "      <td>559</td>\n",
              "      <td>440</td>\n",
              "      <td>402.39</td>\n",
              "      <td>407.69</td>\n",
              "      <td>507.38</td>\n",
              "      <td>190.36</td>\n",
              "      <td>166.14</td>\n",
              "      <td>221.96</td>\n",
              "      <td>45.07</td>\n",
              "      <td>0.00</td>\n",
              "      <td>0.00</td>\n",
              "      <td>21.98</td>\n",
              "      <td>0.00</td>\n",
              "      <td>0.00</td>\n",
              "      <td>1255</td>\n",
              "      <td>0.000000e+00</td>\n",
              "    </tr>\n",
              "    <tr>\n",
              "      <th>29996</th>\n",
              "      <td>99995</td>\n",
              "      <td>317</td>\n",
              "      <td>298</td>\n",
              "      <td>496</td>\n",
              "      <td>364.03</td>\n",
              "      <td>591.36</td>\n",
              "      <td>840.03</td>\n",
              "      <td>108.53</td>\n",
              "      <td>124.11</td>\n",
              "      <td>189.76</td>\n",
              "      <td>0.00</td>\n",
              "      <td>0.00</td>\n",
              "      <td>0.00</td>\n",
              "      <td>0.00</td>\n",
              "      <td>0.00</td>\n",
              "      <td>0.00</td>\n",
              "      <td>2258</td>\n",
              "      <td>0.000000e+00</td>\n",
              "    </tr>\n",
              "    <tr>\n",
              "      <th>29997</th>\n",
              "      <td>99996</td>\n",
              "      <td>150</td>\n",
              "      <td>0</td>\n",
              "      <td>240</td>\n",
              "      <td>48.33</td>\n",
              "      <td>31.64</td>\n",
              "      <td>49.64</td>\n",
              "      <td>37.24</td>\n",
              "      <td>16.74</td>\n",
              "      <td>45.28</td>\n",
              "      <td>0.00</td>\n",
              "      <td>0.00</td>\n",
              "      <td>0.00</td>\n",
              "      <td>0.00</td>\n",
              "      <td>0.00</td>\n",
              "      <td>0.00</td>\n",
              "      <td>440</td>\n",
              "      <td>2.707948e-211</td>\n",
              "    </tr>\n",
              "    <tr>\n",
              "      <th>29998</th>\n",
              "      <td>99997</td>\n",
              "      <td>1286</td>\n",
              "      <td>876</td>\n",
              "      <td>307</td>\n",
              "      <td>1976.84</td>\n",
              "      <td>1112.11</td>\n",
              "      <td>332.63</td>\n",
              "      <td>1854.09</td>\n",
              "      <td>1088.83</td>\n",
              "      <td>306.16</td>\n",
              "      <td>0.00</td>\n",
              "      <td>0.00</td>\n",
              "      <td>0.00</td>\n",
              "      <td>0.00</td>\n",
              "      <td>0.00</td>\n",
              "      <td>0.00</td>\n",
              "      <td>810</td>\n",
              "      <td>4.453774e-137</td>\n",
              "    </tr>\n",
              "    <tr>\n",
              "      <th>29999</th>\n",
              "      <td>99998</td>\n",
              "      <td>275</td>\n",
              "      <td>865</td>\n",
              "      <td>130</td>\n",
              "      <td>6.05</td>\n",
              "      <td>192.71</td>\n",
              "      <td>218.11</td>\n",
              "      <td>107.78</td>\n",
              "      <td>241.53</td>\n",
              "      <td>331.64</td>\n",
              "      <td>194.85</td>\n",
              "      <td>3481.92</td>\n",
              "      <td>2338.07</td>\n",
              "      <td>282.87</td>\n",
              "      <td>195.34</td>\n",
              "      <td>171.07</td>\n",
              "      <td>440</td>\n",
              "      <td>0.000000e+00</td>\n",
              "    </tr>\n",
              "  </tbody>\n",
              "</table>\n",
              "<p>30000 rows × 18 columns</p>\n",
              "</div>"
            ],
            "text/plain": [
              "          id  total_rech_amt_6  total_rech_amt_7  total_rech_amt_8  \\\n",
              "0      69999               103                90                60   \n",
              "1      70000               500               500               500   \n",
              "2      70001               500              1000              1000   \n",
              "3      70002               110               260                 0   \n",
              "4      70003               356               490               546   \n",
              "...      ...               ...               ...               ...   \n",
              "29995  99994               669               559               440   \n",
              "29996  99995               317               298               496   \n",
              "29997  99996               150                 0               240   \n",
              "29998  99997              1286               876               307   \n",
              "29999  99998               275               865               130   \n",
              "\n",
              "       total_og_mou_6  total_og_mou_7  total_og_mou_8  offnet_mou_6  \\\n",
              "0               91.94           52.39           57.94         60.16   \n",
              "1              549.86          663.06          415.59        474.34   \n",
              "2                0.00            0.00            0.00         16.98   \n",
              "3               45.36          207.18           24.01         40.04   \n",
              "4              514.79          638.28          779.78         60.94   \n",
              "...               ...             ...             ...           ...   \n",
              "29995          402.39          407.69          507.38        190.36   \n",
              "29996          364.03          591.36          840.03        108.53   \n",
              "29997           48.33           31.64           49.64         37.24   \n",
              "29998         1976.84         1112.11          332.63       1854.09   \n",
              "29999            6.05          192.71          218.11        107.78   \n",
              "\n",
              "       offnet_mou_7  offnet_mou_8  vol_3g_mb_6  vol_3g_mb_7  vol_3g_mb_8  \\\n",
              "0             32.16         34.83         0.00         0.00         0.00   \n",
              "1            621.84        394.94         0.00         0.00         0.00   \n",
              "2             45.81         45.04         0.00         0.00         0.00   \n",
              "3            205.01         24.01         0.00         0.00         0.00   \n",
              "4             23.84         74.16         0.00         0.00         0.00   \n",
              "...             ...           ...          ...          ...          ...   \n",
              "29995        166.14        221.96        45.07         0.00         0.00   \n",
              "29996        124.11        189.76         0.00         0.00         0.00   \n",
              "29997         16.74         45.28         0.00         0.00         0.00   \n",
              "29998       1088.83        306.16         0.00         0.00         0.00   \n",
              "29999        241.53        331.64       194.85      3481.92      2338.07   \n",
              "\n",
              "       vol_2g_mb_6  vol_2g_mb_7  vol_2g_mb_8   aon              1  \n",
              "0             0.00         0.00         0.00  1692   0.000000e+00  \n",
              "1             0.00         0.00         0.00  2533   0.000000e+00  \n",
              "2             0.00         0.00         0.00   277   0.000000e+00  \n",
              "3             0.00         0.00         0.00  1244  5.428513e-258  \n",
              "4             0.00         0.00         0.00   462   0.000000e+00  \n",
              "...            ...          ...          ...   ...            ...  \n",
              "29995        21.98         0.00         0.00  1255   0.000000e+00  \n",
              "29996         0.00         0.00         0.00  2258   0.000000e+00  \n",
              "29997         0.00         0.00         0.00   440  2.707948e-211  \n",
              "29998         0.00         0.00         0.00   810  4.453774e-137  \n",
              "29999       282.87       195.34       171.07   440   0.000000e+00  \n",
              "\n",
              "[30000 rows x 18 columns]"
            ]
          },
          "metadata": {},
          "execution_count": 112
        }
      ]
    },
    {
      "cell_type": "code",
      "metadata": {
        "id": "ULR8xReG2L5E"
      },
      "source": [
        "submission_data.rename(columns={1:'churn_prob'},inplace=True)"
      ],
      "execution_count": 113,
      "outputs": []
    },
    {
      "cell_type": "code",
      "metadata": {
        "id": "P4U-xAPs2L8d",
        "colab": {
          "base_uri": "https://localhost:8080/",
          "height": 240
        },
        "outputId": "5ea3addd-f95b-4a47-8e12-2d3eba4de53b"
      },
      "source": [
        "submission_data.head()"
      ],
      "execution_count": 114,
      "outputs": [
        {
          "output_type": "execute_result",
          "data": {
            "text/html": [
              "<div>\n",
              "<style scoped>\n",
              "    .dataframe tbody tr th:only-of-type {\n",
              "        vertical-align: middle;\n",
              "    }\n",
              "\n",
              "    .dataframe tbody tr th {\n",
              "        vertical-align: top;\n",
              "    }\n",
              "\n",
              "    .dataframe thead th {\n",
              "        text-align: right;\n",
              "    }\n",
              "</style>\n",
              "<table border=\"1\" class=\"dataframe\">\n",
              "  <thead>\n",
              "    <tr style=\"text-align: right;\">\n",
              "      <th></th>\n",
              "      <th>id</th>\n",
              "      <th>total_rech_amt_6</th>\n",
              "      <th>total_rech_amt_7</th>\n",
              "      <th>total_rech_amt_8</th>\n",
              "      <th>total_og_mou_6</th>\n",
              "      <th>total_og_mou_7</th>\n",
              "      <th>total_og_mou_8</th>\n",
              "      <th>offnet_mou_6</th>\n",
              "      <th>offnet_mou_7</th>\n",
              "      <th>offnet_mou_8</th>\n",
              "      <th>vol_3g_mb_6</th>\n",
              "      <th>vol_3g_mb_7</th>\n",
              "      <th>vol_3g_mb_8</th>\n",
              "      <th>vol_2g_mb_6</th>\n",
              "      <th>vol_2g_mb_7</th>\n",
              "      <th>vol_2g_mb_8</th>\n",
              "      <th>aon</th>\n",
              "      <th>churn_prob</th>\n",
              "    </tr>\n",
              "  </thead>\n",
              "  <tbody>\n",
              "    <tr>\n",
              "      <th>0</th>\n",
              "      <td>69999</td>\n",
              "      <td>103</td>\n",
              "      <td>90</td>\n",
              "      <td>60</td>\n",
              "      <td>91.94</td>\n",
              "      <td>52.39</td>\n",
              "      <td>57.94</td>\n",
              "      <td>60.16</td>\n",
              "      <td>32.16</td>\n",
              "      <td>34.83</td>\n",
              "      <td>0.0</td>\n",
              "      <td>0.0</td>\n",
              "      <td>0.0</td>\n",
              "      <td>0.0</td>\n",
              "      <td>0.0</td>\n",
              "      <td>0.0</td>\n",
              "      <td>1692</td>\n",
              "      <td>0.000000e+00</td>\n",
              "    </tr>\n",
              "    <tr>\n",
              "      <th>1</th>\n",
              "      <td>70000</td>\n",
              "      <td>500</td>\n",
              "      <td>500</td>\n",
              "      <td>500</td>\n",
              "      <td>549.86</td>\n",
              "      <td>663.06</td>\n",
              "      <td>415.59</td>\n",
              "      <td>474.34</td>\n",
              "      <td>621.84</td>\n",
              "      <td>394.94</td>\n",
              "      <td>0.0</td>\n",
              "      <td>0.0</td>\n",
              "      <td>0.0</td>\n",
              "      <td>0.0</td>\n",
              "      <td>0.0</td>\n",
              "      <td>0.0</td>\n",
              "      <td>2533</td>\n",
              "      <td>0.000000e+00</td>\n",
              "    </tr>\n",
              "    <tr>\n",
              "      <th>2</th>\n",
              "      <td>70001</td>\n",
              "      <td>500</td>\n",
              "      <td>1000</td>\n",
              "      <td>1000</td>\n",
              "      <td>0.00</td>\n",
              "      <td>0.00</td>\n",
              "      <td>0.00</td>\n",
              "      <td>16.98</td>\n",
              "      <td>45.81</td>\n",
              "      <td>45.04</td>\n",
              "      <td>0.0</td>\n",
              "      <td>0.0</td>\n",
              "      <td>0.0</td>\n",
              "      <td>0.0</td>\n",
              "      <td>0.0</td>\n",
              "      <td>0.0</td>\n",
              "      <td>277</td>\n",
              "      <td>0.000000e+00</td>\n",
              "    </tr>\n",
              "    <tr>\n",
              "      <th>3</th>\n",
              "      <td>70002</td>\n",
              "      <td>110</td>\n",
              "      <td>260</td>\n",
              "      <td>0</td>\n",
              "      <td>45.36</td>\n",
              "      <td>207.18</td>\n",
              "      <td>24.01</td>\n",
              "      <td>40.04</td>\n",
              "      <td>205.01</td>\n",
              "      <td>24.01</td>\n",
              "      <td>0.0</td>\n",
              "      <td>0.0</td>\n",
              "      <td>0.0</td>\n",
              "      <td>0.0</td>\n",
              "      <td>0.0</td>\n",
              "      <td>0.0</td>\n",
              "      <td>1244</td>\n",
              "      <td>5.428513e-258</td>\n",
              "    </tr>\n",
              "    <tr>\n",
              "      <th>4</th>\n",
              "      <td>70003</td>\n",
              "      <td>356</td>\n",
              "      <td>490</td>\n",
              "      <td>546</td>\n",
              "      <td>514.79</td>\n",
              "      <td>638.28</td>\n",
              "      <td>779.78</td>\n",
              "      <td>60.94</td>\n",
              "      <td>23.84</td>\n",
              "      <td>74.16</td>\n",
              "      <td>0.0</td>\n",
              "      <td>0.0</td>\n",
              "      <td>0.0</td>\n",
              "      <td>0.0</td>\n",
              "      <td>0.0</td>\n",
              "      <td>0.0</td>\n",
              "      <td>462</td>\n",
              "      <td>0.000000e+00</td>\n",
              "    </tr>\n",
              "  </tbody>\n",
              "</table>\n",
              "</div>"
            ],
            "text/plain": [
              "      id  total_rech_amt_6  total_rech_amt_7  total_rech_amt_8  \\\n",
              "0  69999               103                90                60   \n",
              "1  70000               500               500               500   \n",
              "2  70001               500              1000              1000   \n",
              "3  70002               110               260                 0   \n",
              "4  70003               356               490               546   \n",
              "\n",
              "   total_og_mou_6  total_og_mou_7  total_og_mou_8  offnet_mou_6  offnet_mou_7  \\\n",
              "0           91.94           52.39           57.94         60.16         32.16   \n",
              "1          549.86          663.06          415.59        474.34        621.84   \n",
              "2            0.00            0.00            0.00         16.98         45.81   \n",
              "3           45.36          207.18           24.01         40.04        205.01   \n",
              "4          514.79          638.28          779.78         60.94         23.84   \n",
              "\n",
              "   offnet_mou_8  vol_3g_mb_6  vol_3g_mb_7  vol_3g_mb_8  vol_2g_mb_6  \\\n",
              "0         34.83          0.0          0.0          0.0          0.0   \n",
              "1        394.94          0.0          0.0          0.0          0.0   \n",
              "2         45.04          0.0          0.0          0.0          0.0   \n",
              "3         24.01          0.0          0.0          0.0          0.0   \n",
              "4         74.16          0.0          0.0          0.0          0.0   \n",
              "\n",
              "   vol_2g_mb_7  vol_2g_mb_8   aon     churn_prob  \n",
              "0          0.0          0.0  1692   0.000000e+00  \n",
              "1          0.0          0.0  2533   0.000000e+00  \n",
              "2          0.0          0.0   277   0.000000e+00  \n",
              "3          0.0          0.0  1244  5.428513e-258  \n",
              "4          0.0          0.0   462   0.000000e+00  "
            ]
          },
          "metadata": {},
          "execution_count": 114
        }
      ]
    },
    {
      "cell_type": "code",
      "metadata": {
        "id": "5DWGk45n2L_I",
        "colab": {
          "base_uri": "https://localhost:8080/",
          "height": 204
        },
        "outputId": "e12fdd0b-d39b-486d-a396-747e89d5101c"
      },
      "source": [
        "submission_data['churn_probability']=submission_data.churn_prob.map( lambda x: 1 if x > 0.5 else 0)\n",
        "output = submission_data[['id','churn_probability']]\n",
        "output.head()"
      ],
      "execution_count": 115,
      "outputs": [
        {
          "output_type": "execute_result",
          "data": {
            "text/html": [
              "<div>\n",
              "<style scoped>\n",
              "    .dataframe tbody tr th:only-of-type {\n",
              "        vertical-align: middle;\n",
              "    }\n",
              "\n",
              "    .dataframe tbody tr th {\n",
              "        vertical-align: top;\n",
              "    }\n",
              "\n",
              "    .dataframe thead th {\n",
              "        text-align: right;\n",
              "    }\n",
              "</style>\n",
              "<table border=\"1\" class=\"dataframe\">\n",
              "  <thead>\n",
              "    <tr style=\"text-align: right;\">\n",
              "      <th></th>\n",
              "      <th>id</th>\n",
              "      <th>churn_probability</th>\n",
              "    </tr>\n",
              "  </thead>\n",
              "  <tbody>\n",
              "    <tr>\n",
              "      <th>0</th>\n",
              "      <td>69999</td>\n",
              "      <td>0</td>\n",
              "    </tr>\n",
              "    <tr>\n",
              "      <th>1</th>\n",
              "      <td>70000</td>\n",
              "      <td>0</td>\n",
              "    </tr>\n",
              "    <tr>\n",
              "      <th>2</th>\n",
              "      <td>70001</td>\n",
              "      <td>0</td>\n",
              "    </tr>\n",
              "    <tr>\n",
              "      <th>3</th>\n",
              "      <td>70002</td>\n",
              "      <td>0</td>\n",
              "    </tr>\n",
              "    <tr>\n",
              "      <th>4</th>\n",
              "      <td>70003</td>\n",
              "      <td>0</td>\n",
              "    </tr>\n",
              "  </tbody>\n",
              "</table>\n",
              "</div>"
            ],
            "text/plain": [
              "      id  churn_probability\n",
              "0  69999                  0\n",
              "1  70000                  0\n",
              "2  70001                  0\n",
              "3  70002                  0\n",
              "4  70003                  0"
            ]
          },
          "metadata": {},
          "execution_count": 115
        }
      ]
    },
    {
      "cell_type": "markdown",
      "metadata": {
        "id": "8xDbCs_4UGMX"
      },
      "source": [
        "### 9.3 Model Building Using Random Forest"
      ]
    },
    {
      "cell_type": "code",
      "metadata": {
        "id": "dxoalGLQnZTn"
      },
      "source": [
        "rf = RandomForestClassifier(n_estimators=10,max_depth=4,max_features=5,random_state=42,oob_score=True)"
      ],
      "execution_count": 120,
      "outputs": []
    },
    {
      "cell_type": "code",
      "metadata": {
        "colab": {
          "base_uri": "https://localhost:8080/"
        },
        "id": "vevXDzggnbUk",
        "outputId": "622c2f04-7813-407f-9be2-013aa73db861"
      },
      "source": [
        "rf.fit(X_train2,y_train)"
      ],
      "execution_count": 121,
      "outputs": [
        {
          "output_type": "execute_result",
          "data": {
            "text/plain": [
              "RandomForestClassifier(bootstrap=True, ccp_alpha=0.0, class_weight=None,\n",
              "                       criterion='gini', max_depth=4, max_features=5,\n",
              "                       max_leaf_nodes=None, max_samples=None,\n",
              "                       min_impurity_decrease=0.0, min_impurity_split=None,\n",
              "                       min_samples_leaf=1, min_samples_split=2,\n",
              "                       min_weight_fraction_leaf=0.0, n_estimators=10,\n",
              "                       n_jobs=None, oob_score=True, random_state=42, verbose=0,\n",
              "                       warm_start=False)"
            ]
          },
          "metadata": {},
          "execution_count": 121
        }
      ]
    },
    {
      "cell_type": "code",
      "metadata": {
        "colab": {
          "base_uri": "https://localhost:8080/"
        },
        "id": "gbrpmqSXnhNy",
        "outputId": "9dc39889-f19e-4ada-cb22-4646b2d0bf5e"
      },
      "source": [
        "rf.oob_score_"
      ],
      "execution_count": 122,
      "outputs": [
        {
          "output_type": "execute_result",
          "data": {
            "text/plain": [
              "0.933534527402275"
            ]
          },
          "metadata": {},
          "execution_count": 122
        }
      ]
    },
    {
      "cell_type": "code",
      "metadata": {
        "colab": {
          "base_uri": "https://localhost:8080/"
        },
        "id": "f3j5-GfQnx8j",
        "outputId": "8b7edb90-9518-473f-8895-2b33815ce24a"
      },
      "source": [
        "rf.estimators_[0]"
      ],
      "execution_count": 123,
      "outputs": [
        {
          "output_type": "execute_result",
          "data": {
            "text/plain": [
              "DecisionTreeClassifier(ccp_alpha=0.0, class_weight=None, criterion='gini',\n",
              "                       max_depth=4, max_features=5, max_leaf_nodes=None,\n",
              "                       min_impurity_decrease=0.0, min_impurity_split=None,\n",
              "                       min_samples_leaf=1, min_samples_split=2,\n",
              "                       min_weight_fraction_leaf=0.0, presort='deprecated',\n",
              "                       random_state=1608637542, splitter='best')"
            ]
          },
          "metadata": {},
          "execution_count": 123
        }
      ]
    },
    {
      "cell_type": "code",
      "metadata": {
        "id": "CN6r5DYr3oUM"
      },
      "source": [
        "def evaluate_model(dt_classifier):\n",
        "    print(\"Train Accuracy :\", accuracy_score(y_train, dt_classifier.predict(X_train2)))\n",
        "    print(\"Train Precision :\", precision_score(y_train, dt_classifier.predict(X_train2)))\n",
        "    print(\"Train Recall :\", recall_score(y_train, dt_classifier.predict(X_train)))\n",
        "    print(\"Train Confusion Matrix:\")\n",
        "    print(confusion_matrix(y_train, dt_classifier.predict(X_train2)))\n",
        "    print(\"-\"*50)\n",
        "    print(\"Test Accuracy :\", accuracy_score(y_test, dt_classifier.predict(X_test)))\n",
        "    print(\"Test Precision :\", precision_score(y_train, dt_classifier.predict(X_train2)))\n",
        "    print(\"Test Recall :\", recall_score(y_train, dt_classifier.predict(X_train2)))\n",
        "    print(\"Test Confusion Matrix:\")\n",
        "    print(confusion_matrix(y_test, dt_classifier.predict(X_test)))"
      ],
      "execution_count": 1,
      "outputs": []
    },
    {
      "cell_type": "code",
      "metadata": {
        "id": "jvpw-p1oq5nY"
      },
      "source": [
        "evaluate_model(rf)"
      ],
      "execution_count": 10,
      "outputs": []
    },
    {
      "cell_type": "markdown",
      "metadata": {
        "id": "6Omqy2SdVBzb"
      },
      "source": [
        "#### 9.3.1 Evaluating Model using GridSearchCV Random Forest On Seen Data"
      ]
    },
    {
      "cell_type": "code",
      "metadata": {
        "id": "UhtydHhhrvWk"
      },
      "source": [
        "classifier_rf = RandomForestClassifier(random_state=42, n_jobs=-1)"
      ],
      "execution_count": 126,
      "outputs": []
    },
    {
      "cell_type": "code",
      "metadata": {
        "id": "R17Vz2rhrygp"
      },
      "source": [
        "# Create the parameter grid based on the results of random search \n",
        "params = {\n",
        "    'max_depth': [1, 2, 5, 10, 20],\n",
        "    'min_samples_leaf': [5, 10, 20, 50, 100],\n",
        "    'max_features': [2,3,4],\n",
        "    'n_estimators': [10, 30, 50, 100, 200]\n",
        "}"
      ],
      "execution_count": 127,
      "outputs": []
    },
    {
      "cell_type": "code",
      "metadata": {
        "id": "TC97jE0Hr4JC"
      },
      "source": [
        "# Instantiate the grid search model\n",
        "grid_search = GridSearchCV(estimator=classifier_rf, param_grid=params, \n",
        "                          cv=4, n_jobs=-1, verbose=1, scoring = \"accuracy\")"
      ],
      "execution_count": 128,
      "outputs": []
    },
    {
      "cell_type": "code",
      "metadata": {
        "id": "5fGNB9xkr_hp"
      },
      "source": [
        "grid_search.fit(X_train2,y_train)"
      ],
      "execution_count": 10,
      "outputs": []
    },
    {
      "cell_type": "code",
      "metadata": {
        "id": "dX9TW7rPsDhS"
      },
      "source": [
        "rf_best = grid_search.best_estimator_"
      ],
      "execution_count": 10,
      "outputs": []
    },
    {
      "cell_type": "code",
      "metadata": {
        "id": "V0uIF7s3sHLm"
      },
      "source": [
        "rf_best "
      ],
      "execution_count": null,
      "outputs": []
    },
    {
      "cell_type": "code",
      "metadata": {
        "id": "pNBoxpAAsWYa"
      },
      "source": [
        "# Evaluating Grid search CV Random forest on Test Data"
      ],
      "execution_count": 129,
      "outputs": []
    },
    {
      "cell_type": "code",
      "metadata": {
        "id": "RWytAnDNsg0I"
      },
      "source": [
        "RF_test=RandomForestClassifier(max_depth=10, max_features=4, min_samples_leaf=20,\n",
        "                       n_estimators=200, n_jobs=-1, random_state=42)"
      ],
      "execution_count": 130,
      "outputs": []
    },
    {
      "cell_type": "code",
      "metadata": {
        "id": "xXp1DBKFsjwz",
        "colab": {
          "base_uri": "https://localhost:8080/"
        },
        "outputId": "aa9e23f9-9d6d-4a49-c784-4b0651f928f5"
      },
      "source": [
        "RF_test.fit(X_test,y_test)"
      ],
      "execution_count": 131,
      "outputs": [
        {
          "output_type": "execute_result",
          "data": {
            "text/plain": [
              "RandomForestClassifier(bootstrap=True, ccp_alpha=0.0, class_weight=None,\n",
              "                       criterion='gini', max_depth=10, max_features=4,\n",
              "                       max_leaf_nodes=None, max_samples=None,\n",
              "                       min_impurity_decrease=0.0, min_impurity_split=None,\n",
              "                       min_samples_leaf=20, min_samples_split=2,\n",
              "                       min_weight_fraction_leaf=0.0, n_estimators=200,\n",
              "                       n_jobs=-1, oob_score=False, random_state=42, verbose=0,\n",
              "                       warm_start=False)"
            ]
          },
          "metadata": {},
          "execution_count": 131
        }
      ]
    },
    {
      "cell_type": "code",
      "metadata": {
        "id": "2VqyGZavslZP",
        "colab": {
          "base_uri": "https://localhost:8080/"
        },
        "outputId": "56a31f2d-4da5-4f23-a878-2e4abf1d94dc"
      },
      "source": [
        "evaluate_model(RF_test)"
      ],
      "execution_count": 132,
      "outputs": [
        {
          "output_type": "stream",
          "name": "stdout",
          "text": [
            "Train Accuracy : 0.9362488615868141\n",
            "Train Precision : 0.7827763496143959\n",
            "Train Recall : 0.5277296360485269\n",
            "Train Confusion Matrix:\n",
            "[[50064   165]\n",
            " [ 5738    32]]\n",
            "--------------------------------------------------\n",
            "Test Accuracy : 0.9473571428571429\n",
            "Test Precision : 0.7827763496143959\n",
            "Test Recall : 0.5277296360485269\n",
            "Test Confusion Matrix:\n",
            "[[12483   155]\n",
            " [  582   780]]\n"
          ]
        }
      ]
    },
    {
      "cell_type": "markdown",
      "metadata": {
        "id": "s90JeSM_u3ll"
      },
      "source": [
        "Since Random Forest gives Accuracy Score 94 for the Test data, This Model can be considered for Predictions\n",
        "As the Main Objective of the Model is to find out customers who are Churning , In the above model Precision score is quite good and Recall score is better than the previous model"
      ]
    },
    {
      "cell_type": "markdown",
      "metadata": {
        "id": "qKBySqeFVrCj"
      },
      "source": [
        "##### Variable importance in RandomForest"
      ]
    },
    {
      "cell_type": "code",
      "metadata": {
        "id": "Tksnx-s0vMYS",
        "colab": {
          "base_uri": "https://localhost:8080/"
        },
        "outputId": "8370542f-7769-4dd5-81ae-b41bbe748b1c"
      },
      "source": [
        "RF_test.feature_importances_"
      ],
      "execution_count": 133,
      "outputs": [
        {
          "output_type": "execute_result",
          "data": {
            "text/plain": [
              "array([0.01532691, 0.02590593, 0.17737435, 0.02083213, 0.06643684,\n",
              "       0.41582424, 0.01993858, 0.02982809, 0.1346245 , 0.00150601,\n",
              "       0.00499475, 0.01223023, 0.00511664, 0.0123859 , 0.03246553,\n",
              "       0.02520938])"
            ]
          },
          "metadata": {},
          "execution_count": 133
        }
      ]
    },
    {
      "cell_type": "code",
      "metadata": {
        "id": "kkA0EtTGvVbk",
        "colab": {
          "base_uri": "https://localhost:8080/",
          "height": 543
        },
        "outputId": "c9e32f25-71f0-44d7-a823-aae3c64e8933"
      },
      "source": [
        "imp_df = pd.DataFrame({\n",
        "    \"Varname\": X_train.columns,\n",
        "    \"Imp\": RF_test.feature_importances_\n",
        "})\n",
        "\n",
        "imp_df.sort_values(by=\"Imp\", ascending=False)\n"
      ],
      "execution_count": 137,
      "outputs": [
        {
          "output_type": "execute_result",
          "data": {
            "text/html": [
              "<div>\n",
              "<style scoped>\n",
              "    .dataframe tbody tr th:only-of-type {\n",
              "        vertical-align: middle;\n",
              "    }\n",
              "\n",
              "    .dataframe tbody tr th {\n",
              "        vertical-align: top;\n",
              "    }\n",
              "\n",
              "    .dataframe thead th {\n",
              "        text-align: right;\n",
              "    }\n",
              "</style>\n",
              "<table border=\"1\" class=\"dataframe\">\n",
              "  <thead>\n",
              "    <tr style=\"text-align: right;\">\n",
              "      <th></th>\n",
              "      <th>Varname</th>\n",
              "      <th>Imp</th>\n",
              "    </tr>\n",
              "  </thead>\n",
              "  <tbody>\n",
              "    <tr>\n",
              "      <th>5</th>\n",
              "      <td>total_og_mou_8</td>\n",
              "      <td>0.415824</td>\n",
              "    </tr>\n",
              "    <tr>\n",
              "      <th>2</th>\n",
              "      <td>total_rech_amt_8</td>\n",
              "      <td>0.177374</td>\n",
              "    </tr>\n",
              "    <tr>\n",
              "      <th>8</th>\n",
              "      <td>offnet_mou_8</td>\n",
              "      <td>0.134624</td>\n",
              "    </tr>\n",
              "    <tr>\n",
              "      <th>4</th>\n",
              "      <td>total_og_mou_7</td>\n",
              "      <td>0.066437</td>\n",
              "    </tr>\n",
              "    <tr>\n",
              "      <th>14</th>\n",
              "      <td>vol_2g_mb_8</td>\n",
              "      <td>0.032466</td>\n",
              "    </tr>\n",
              "    <tr>\n",
              "      <th>7</th>\n",
              "      <td>offnet_mou_7</td>\n",
              "      <td>0.029828</td>\n",
              "    </tr>\n",
              "    <tr>\n",
              "      <th>1</th>\n",
              "      <td>total_rech_amt_7</td>\n",
              "      <td>0.025906</td>\n",
              "    </tr>\n",
              "    <tr>\n",
              "      <th>15</th>\n",
              "      <td>aon</td>\n",
              "      <td>0.025209</td>\n",
              "    </tr>\n",
              "    <tr>\n",
              "      <th>3</th>\n",
              "      <td>total_og_mou_6</td>\n",
              "      <td>0.020832</td>\n",
              "    </tr>\n",
              "    <tr>\n",
              "      <th>6</th>\n",
              "      <td>offnet_mou_6</td>\n",
              "      <td>0.019939</td>\n",
              "    </tr>\n",
              "    <tr>\n",
              "      <th>0</th>\n",
              "      <td>total_rech_amt_6</td>\n",
              "      <td>0.015327</td>\n",
              "    </tr>\n",
              "    <tr>\n",
              "      <th>13</th>\n",
              "      <td>vol_2g_mb_7</td>\n",
              "      <td>0.012386</td>\n",
              "    </tr>\n",
              "    <tr>\n",
              "      <th>11</th>\n",
              "      <td>vol_3g_mb_8</td>\n",
              "      <td>0.012230</td>\n",
              "    </tr>\n",
              "    <tr>\n",
              "      <th>12</th>\n",
              "      <td>vol_2g_mb_6</td>\n",
              "      <td>0.005117</td>\n",
              "    </tr>\n",
              "    <tr>\n",
              "      <th>10</th>\n",
              "      <td>vol_3g_mb_7</td>\n",
              "      <td>0.004995</td>\n",
              "    </tr>\n",
              "    <tr>\n",
              "      <th>9</th>\n",
              "      <td>vol_3g_mb_6</td>\n",
              "      <td>0.001506</td>\n",
              "    </tr>\n",
              "  </tbody>\n",
              "</table>\n",
              "</div>"
            ],
            "text/plain": [
              "             Varname       Imp\n",
              "5     total_og_mou_8  0.415824\n",
              "2   total_rech_amt_8  0.177374\n",
              "8       offnet_mou_8  0.134624\n",
              "4     total_og_mou_7  0.066437\n",
              "14       vol_2g_mb_8  0.032466\n",
              "7       offnet_mou_7  0.029828\n",
              "1   total_rech_amt_7  0.025906\n",
              "15               aon  0.025209\n",
              "3     total_og_mou_6  0.020832\n",
              "6       offnet_mou_6  0.019939\n",
              "0   total_rech_amt_6  0.015327\n",
              "13       vol_2g_mb_7  0.012386\n",
              "11       vol_3g_mb_8  0.012230\n",
              "12       vol_2g_mb_6  0.005117\n",
              "10       vol_3g_mb_7  0.004995\n",
              "9        vol_3g_mb_6  0.001506"
            ]
          },
          "metadata": {},
          "execution_count": 137
        }
      ]
    },
    {
      "cell_type": "markdown",
      "metadata": {
        "id": "3BPv-IN5V1DS"
      },
      "source": [
        "9.3.2 Evaluating Model using GridSearchCV Random Forest On Unseen Data"
      ]
    },
    {
      "cell_type": "code",
      "metadata": {
        "id": "fzcSaogcvjhM",
        "colab": {
          "base_uri": "https://localhost:8080/",
          "height": 255
        },
        "outputId": "1a0e1fcb-bf05-40f0-d3ce-e1f7e6b6e070"
      },
      "source": [
        "RF_test_data = telecom_churn_test.set_index('id')[new_vars]\n",
        "RF_test_data.head()"
      ],
      "execution_count": 138,
      "outputs": [
        {
          "output_type": "execute_result",
          "data": {
            "text/html": [
              "<div>\n",
              "<style scoped>\n",
              "    .dataframe tbody tr th:only-of-type {\n",
              "        vertical-align: middle;\n",
              "    }\n",
              "\n",
              "    .dataframe tbody tr th {\n",
              "        vertical-align: top;\n",
              "    }\n",
              "\n",
              "    .dataframe thead th {\n",
              "        text-align: right;\n",
              "    }\n",
              "</style>\n",
              "<table border=\"1\" class=\"dataframe\">\n",
              "  <thead>\n",
              "    <tr style=\"text-align: right;\">\n",
              "      <th></th>\n",
              "      <th>total_rech_amt_6</th>\n",
              "      <th>total_rech_amt_7</th>\n",
              "      <th>total_rech_amt_8</th>\n",
              "      <th>total_og_mou_6</th>\n",
              "      <th>total_og_mou_7</th>\n",
              "      <th>total_og_mou_8</th>\n",
              "      <th>offnet_mou_6</th>\n",
              "      <th>offnet_mou_7</th>\n",
              "      <th>offnet_mou_8</th>\n",
              "      <th>vol_3g_mb_6</th>\n",
              "      <th>vol_3g_mb_7</th>\n",
              "      <th>vol_3g_mb_8</th>\n",
              "      <th>vol_2g_mb_6</th>\n",
              "      <th>vol_2g_mb_7</th>\n",
              "      <th>vol_2g_mb_8</th>\n",
              "      <th>aon</th>\n",
              "    </tr>\n",
              "    <tr>\n",
              "      <th>id</th>\n",
              "      <th></th>\n",
              "      <th></th>\n",
              "      <th></th>\n",
              "      <th></th>\n",
              "      <th></th>\n",
              "      <th></th>\n",
              "      <th></th>\n",
              "      <th></th>\n",
              "      <th></th>\n",
              "      <th></th>\n",
              "      <th></th>\n",
              "      <th></th>\n",
              "      <th></th>\n",
              "      <th></th>\n",
              "      <th></th>\n",
              "      <th></th>\n",
              "    </tr>\n",
              "  </thead>\n",
              "  <tbody>\n",
              "    <tr>\n",
              "      <th>69999</th>\n",
              "      <td>103</td>\n",
              "      <td>90</td>\n",
              "      <td>60</td>\n",
              "      <td>91.94</td>\n",
              "      <td>52.39</td>\n",
              "      <td>57.94</td>\n",
              "      <td>60.16</td>\n",
              "      <td>32.16</td>\n",
              "      <td>34.83</td>\n",
              "      <td>0.0</td>\n",
              "      <td>0.0</td>\n",
              "      <td>0.0</td>\n",
              "      <td>0.0</td>\n",
              "      <td>0.0</td>\n",
              "      <td>0.0</td>\n",
              "      <td>1692</td>\n",
              "    </tr>\n",
              "    <tr>\n",
              "      <th>70000</th>\n",
              "      <td>500</td>\n",
              "      <td>500</td>\n",
              "      <td>500</td>\n",
              "      <td>549.86</td>\n",
              "      <td>663.06</td>\n",
              "      <td>415.59</td>\n",
              "      <td>474.34</td>\n",
              "      <td>621.84</td>\n",
              "      <td>394.94</td>\n",
              "      <td>0.0</td>\n",
              "      <td>0.0</td>\n",
              "      <td>0.0</td>\n",
              "      <td>0.0</td>\n",
              "      <td>0.0</td>\n",
              "      <td>0.0</td>\n",
              "      <td>2533</td>\n",
              "    </tr>\n",
              "    <tr>\n",
              "      <th>70001</th>\n",
              "      <td>500</td>\n",
              "      <td>1000</td>\n",
              "      <td>1000</td>\n",
              "      <td>0.00</td>\n",
              "      <td>0.00</td>\n",
              "      <td>0.00</td>\n",
              "      <td>16.98</td>\n",
              "      <td>45.81</td>\n",
              "      <td>45.04</td>\n",
              "      <td>0.0</td>\n",
              "      <td>0.0</td>\n",
              "      <td>0.0</td>\n",
              "      <td>0.0</td>\n",
              "      <td>0.0</td>\n",
              "      <td>0.0</td>\n",
              "      <td>277</td>\n",
              "    </tr>\n",
              "    <tr>\n",
              "      <th>70002</th>\n",
              "      <td>110</td>\n",
              "      <td>260</td>\n",
              "      <td>0</td>\n",
              "      <td>45.36</td>\n",
              "      <td>207.18</td>\n",
              "      <td>24.01</td>\n",
              "      <td>40.04</td>\n",
              "      <td>205.01</td>\n",
              "      <td>24.01</td>\n",
              "      <td>0.0</td>\n",
              "      <td>0.0</td>\n",
              "      <td>0.0</td>\n",
              "      <td>0.0</td>\n",
              "      <td>0.0</td>\n",
              "      <td>0.0</td>\n",
              "      <td>1244</td>\n",
              "    </tr>\n",
              "    <tr>\n",
              "      <th>70003</th>\n",
              "      <td>356</td>\n",
              "      <td>490</td>\n",
              "      <td>546</td>\n",
              "      <td>514.79</td>\n",
              "      <td>638.28</td>\n",
              "      <td>779.78</td>\n",
              "      <td>60.94</td>\n",
              "      <td>23.84</td>\n",
              "      <td>74.16</td>\n",
              "      <td>0.0</td>\n",
              "      <td>0.0</td>\n",
              "      <td>0.0</td>\n",
              "      <td>0.0</td>\n",
              "      <td>0.0</td>\n",
              "      <td>0.0</td>\n",
              "      <td>462</td>\n",
              "    </tr>\n",
              "  </tbody>\n",
              "</table>\n",
              "</div>"
            ],
            "text/plain": [
              "       total_rech_amt_6  total_rech_amt_7  total_rech_amt_8  total_og_mou_6  \\\n",
              "id                                                                            \n",
              "69999               103                90                60           91.94   \n",
              "70000               500               500               500          549.86   \n",
              "70001               500              1000              1000            0.00   \n",
              "70002               110               260                 0           45.36   \n",
              "70003               356               490               546          514.79   \n",
              "\n",
              "       total_og_mou_7  total_og_mou_8  offnet_mou_6  offnet_mou_7  \\\n",
              "id                                                                  \n",
              "69999           52.39           57.94         60.16         32.16   \n",
              "70000          663.06          415.59        474.34        621.84   \n",
              "70001            0.00            0.00         16.98         45.81   \n",
              "70002          207.18           24.01         40.04        205.01   \n",
              "70003          638.28          779.78         60.94         23.84   \n",
              "\n",
              "       offnet_mou_8  vol_3g_mb_6  vol_3g_mb_7  vol_3g_mb_8  vol_2g_mb_6  \\\n",
              "id                                                                        \n",
              "69999         34.83          0.0          0.0          0.0          0.0   \n",
              "70000        394.94          0.0          0.0          0.0          0.0   \n",
              "70001         45.04          0.0          0.0          0.0          0.0   \n",
              "70002         24.01          0.0          0.0          0.0          0.0   \n",
              "70003         74.16          0.0          0.0          0.0          0.0   \n",
              "\n",
              "       vol_2g_mb_7  vol_2g_mb_8   aon  \n",
              "id                                     \n",
              "69999          0.0          0.0  1692  \n",
              "70000          0.0          0.0  2533  \n",
              "70001          0.0          0.0   277  \n",
              "70002          0.0          0.0  1244  \n",
              "70003          0.0          0.0   462  "
            ]
          },
          "metadata": {},
          "execution_count": 138
        }
      ]
    },
    {
      "cell_type": "code",
      "metadata": {
        "id": "7_bp9Amrvu8S",
        "colab": {
          "base_uri": "https://localhost:8080/"
        },
        "outputId": "cb55be22-5f5b-428c-d479-74dd0ca8a638"
      },
      "source": [
        "RF_test_data.isnull().sum()"
      ],
      "execution_count": 139,
      "outputs": [
        {
          "output_type": "execute_result",
          "data": {
            "text/plain": [
              "total_rech_amt_6       0\n",
              "total_rech_amt_7       0\n",
              "total_rech_amt_8       0\n",
              "total_og_mou_6         0\n",
              "total_og_mou_7         0\n",
              "total_og_mou_8         0\n",
              "offnet_mou_6        1169\n",
              "offnet_mou_7        1172\n",
              "offnet_mou_8        1675\n",
              "vol_3g_mb_6            0\n",
              "vol_3g_mb_7            0\n",
              "vol_3g_mb_8            0\n",
              "vol_2g_mb_6            0\n",
              "vol_2g_mb_7            0\n",
              "vol_2g_mb_8            0\n",
              "aon                    0\n",
              "dtype: int64"
            ]
          },
          "metadata": {},
          "execution_count": 139
        }
      ]
    },
    {
      "cell_type": "code",
      "metadata": {
        "id": "GJcvtNFDv4BL"
      },
      "source": [
        "RF_test_data[offnet_missing_values]=median_imputation.fit_transform(RF_test_data[offnet_missing_values])"
      ],
      "execution_count": 140,
      "outputs": []
    },
    {
      "cell_type": "code",
      "metadata": {
        "id": "USVI_vtRwFC8",
        "colab": {
          "base_uri": "https://localhost:8080/"
        },
        "outputId": "fe86b54f-113a-4564-8c3b-6481f59e3f48"
      },
      "source": [
        "RF_test.predict(RF_test_data)"
      ],
      "execution_count": 141,
      "outputs": [
        {
          "output_type": "execute_result",
          "data": {
            "text/plain": [
              "array([0, 0, 1, ..., 0, 0, 0])"
            ]
          },
          "metadata": {},
          "execution_count": 141
        }
      ]
    },
    {
      "cell_type": "code",
      "metadata": {
        "id": "eWQ2weIo3DS_",
        "colab": {
          "base_uri": "https://localhost:8080/",
          "height": 204
        },
        "outputId": "93eeb5d1-57f2-4481-fdff-27276dad4c50"
      },
      "source": [
        "RF_test_data['churn_probability']=RF_test.predict(RF_test_data)\n",
        "RF_test_data.reset_index(inplace=True)\n",
        "output=RF_test_data[['id','churn_probability']]\n",
        "output.head()"
      ],
      "execution_count": 143,
      "outputs": [
        {
          "output_type": "execute_result",
          "data": {
            "text/html": [
              "<div>\n",
              "<style scoped>\n",
              "    .dataframe tbody tr th:only-of-type {\n",
              "        vertical-align: middle;\n",
              "    }\n",
              "\n",
              "    .dataframe tbody tr th {\n",
              "        vertical-align: top;\n",
              "    }\n",
              "\n",
              "    .dataframe thead th {\n",
              "        text-align: right;\n",
              "    }\n",
              "</style>\n",
              "<table border=\"1\" class=\"dataframe\">\n",
              "  <thead>\n",
              "    <tr style=\"text-align: right;\">\n",
              "      <th></th>\n",
              "      <th>id</th>\n",
              "      <th>churn_probability</th>\n",
              "    </tr>\n",
              "  </thead>\n",
              "  <tbody>\n",
              "    <tr>\n",
              "      <th>0</th>\n",
              "      <td>69999</td>\n",
              "      <td>0</td>\n",
              "    </tr>\n",
              "    <tr>\n",
              "      <th>1</th>\n",
              "      <td>70000</td>\n",
              "      <td>0</td>\n",
              "    </tr>\n",
              "    <tr>\n",
              "      <th>2</th>\n",
              "      <td>70001</td>\n",
              "      <td>1</td>\n",
              "    </tr>\n",
              "    <tr>\n",
              "      <th>3</th>\n",
              "      <td>70002</td>\n",
              "      <td>0</td>\n",
              "    </tr>\n",
              "    <tr>\n",
              "      <th>4</th>\n",
              "      <td>70003</td>\n",
              "      <td>0</td>\n",
              "    </tr>\n",
              "  </tbody>\n",
              "</table>\n",
              "</div>"
            ],
            "text/plain": [
              "      id  churn_probability\n",
              "0  69999                  0\n",
              "1  70000                  0\n",
              "2  70001                  1\n",
              "3  70002                  0\n",
              "4  70003                  0"
            ]
          },
          "metadata": {},
          "execution_count": 143
        }
      ]
    },
    {
      "cell_type": "markdown",
      "metadata": {
        "id": "wp3qE56UWEth"
      },
      "source": [
        "### 10 Submission File"
      ]
    },
    {
      "cell_type": "code",
      "metadata": {
        "id": "Z3AqUCBsWqgV"
      },
      "source": [
        "output.to_csv('submission_rf.csv',index=False)"
      ],
      "execution_count": 10,
      "outputs": []
    },
    {
      "cell_type": "code",
      "metadata": {
        "id": "5cXV3UyMme9N"
      },
      "source": [
        ""
      ],
      "execution_count": null,
      "outputs": []
    }
  ]
}